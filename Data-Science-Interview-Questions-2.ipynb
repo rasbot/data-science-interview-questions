{
 "cells": [
  {
   "cell_type": "markdown",
   "metadata": {},
   "source": [
    "# Interview Question Series 2 "
   ]
  },
  {
   "cell_type": "markdown",
   "metadata": {},
   "source": [
    "## Python Programming - Numpy"
   ]
  },
  {
   "cell_type": "markdown",
   "metadata": {},
   "source": [
    "### 1. Why is python numpy better than lists? "
   ]
  },
  {
   "cell_type": "code",
   "execution_count": null,
   "metadata": {},
   "outputs": [],
   "source": []
  },
  {
   "cell_type": "markdown",
   "metadata": {},
   "source": [
    "<details>\n",
    "<summary>Click here for the solution</summary>\n",
    "  \n",
    "Python numpy arrays should be considered instead of a list because they are fast, consume less memory and convenient with lots of functionality. \n",
    "</details>"
   ]
  },
  {
   "cell_type": "markdown",
   "metadata": {},
   "source": [
    "### 2. Describe the map function in Python"
   ]
  },
  {
   "cell_type": "code",
   "execution_count": null,
   "metadata": {},
   "outputs": [],
   "source": []
  },
  {
   "cell_type": "markdown",
   "metadata": {},
   "source": [
    "<details>\n",
    "<summary>Click here for the solution</summary>\n",
    "\n",
    "map function executes the function given as the first argument on all the elements of the iterable given as the second argument. \n",
    "</details>"
   ]
  },
  {
   "cell_type": "markdown",
   "metadata": {},
   "source": [
    "### 3. Generate array of ‘100’ random numbers sampled from a standard normal distribution using Numpy"
   ]
  },
  {
   "cell_type": "code",
   "execution_count": null,
   "metadata": {},
   "outputs": [],
   "source": []
  },
  {
   "cell_type": "markdown",
   "metadata": {},
   "source": [
    "<details>\n",
    "<summary>Click here for the solution</summary>\n",
    "\n",
    "```python\n",
    "np.random.rand(100)\n",
    "```\n",
    "will create 100 random numbers generated from standard normal distribution with mean 0 and standard deviation 1. \n",
    "</details>"
   ]
  },
  {
   "cell_type": "markdown",
   "metadata": {},
   "source": [
    "### 4. How to count the occurrence of each value in a numpy array? "
   ]
  },
  {
   "cell_type": "code",
   "execution_count": null,
   "metadata": {},
   "outputs": [],
   "source": []
  },
  {
   "cell_type": "markdown",
   "metadata": {},
   "source": [
    "<details>\n",
    "<summary>Click here for the solution</summary>\n",
    "\n",
    "Use numpy.bincount()\n",
    "```python  \n",
    ">>> arr = numpy.array([0, 5, 5, 0, 2, 4, 3, 0, 0, 5, 4, 1, 9, 9]) \n",
    ">>> numpy.bincount(arr) \n",
    "# output:\n",
    "array([4, 1, 1, 1, 2, 3, 0, 0, 0, 2], dtype=int64)\n",
    "```\n",
    "The argument to bincount( must consist of booleans or positive integers. Negative integers are invalid. \n",
    "</details>"
   ]
  },
  {
   "cell_type": "markdown",
   "metadata": {},
   "source": [
    "### 5. Does Numpy Support Nan? "
   ]
  },
  {
   "cell_type": "code",
   "execution_count": null,
   "metadata": {},
   "outputs": [],
   "source": []
  },
  {
   "cell_type": "markdown",
   "metadata": {},
   "source": [
    "<details>\n",
    "<summary>Click here for the solution</summary>\n",
    "\n",
    "nan, short for “not a number”, is a special floating point value defined by the IEEE-754 specification. Python numpy supports nan but the definition of nan is more system dependent and some systems don't have an all round support for it like older cray and vax computers. \n",
    "</details>"
   ]
  },
  {
   "cell_type": "markdown",
   "metadata": {},
   "source": [
    "### 6. What does ravel() function in numpy do? "
   ]
  },
  {
   "cell_type": "code",
   "execution_count": null,
   "metadata": {},
   "outputs": [],
   "source": []
  },
  {
   "cell_type": "markdown",
   "metadata": {},
   "source": [
    "<details>\n",
    "<summary>Click here for the solution</summary>\n",
    "\n",
    "It combines multiple numpy arrays into a single array \n",
    "</details>"
   ]
  },
  {
   "cell_type": "markdown",
   "metadata": {},
   "source": [
    "### 7. What is the meaning of axis=0 and axis=1? "
   ]
  },
  {
   "cell_type": "code",
   "execution_count": null,
   "metadata": {},
   "outputs": [],
   "source": []
  },
  {
   "cell_type": "markdown",
   "metadata": {},
   "source": [
    "<details>\n",
    "<summary>Click here for the solution</summary>\n",
    "\n",
    "`axis=0` is meant for reading rows\n",
    "  \n",
    "`axis=1` is meant for reading columns \n",
    "</details>"
   ]
  },
  {
   "cell_type": "markdown",
   "metadata": {},
   "source": [
    "### 8. What is numpy and describe its use cases? "
   ]
  },
  {
   "cell_type": "code",
   "execution_count": null,
   "metadata": {},
   "outputs": [],
   "source": []
  },
  {
   "cell_type": "markdown",
   "metadata": {},
   "source": [
    "<details>\n",
    "<summary>Click here for the solution</summary>\n",
    "\n",
    "Numpy is a package library for Python, adding support for large, multi-dimensional arrays and matrices, along with a large collection of high level mathematical functions. In simple words, Numpy is an optimized version of Python lists like Financial functions, Linear Algebra, Statistics, Polynomials, Sorting and Searching etc. \n",
    "</details>"
   ]
  },
  {
   "cell_type": "markdown",
   "metadata": {},
   "source": [
    "### 9. How to remove from one array those items that exist in another? "
   ]
  },
  {
   "cell_type": "code",
   "execution_count": null,
   "metadata": {},
   "outputs": [],
   "source": []
  },
  {
   "cell_type": "markdown",
   "metadata": {},
   "source": [
    "<details>\n",
    "<summary>Click here for the solution</summary>\n",
    "    \n",
    "```python\n",
    ">>> a = np.array([5, 4, 3, 2, 1]) \n",
    ">>> b = np.array([4, 8, 9, 10, 1]) \n",
    "# From 'a' remove all of 'b' \n",
    ">>> np.setdiff1d(a,b) \n",
    "# Output: \n",
    "array([5, 3, 2]) \n",
    "```\n",
    "</details>"
   ]
  },
  {
   "cell_type": "markdown",
   "metadata": {},
   "source": [
    "### 10. How to sort a numpy array by a specific column in a 2D array? "
   ]
  },
  {
   "cell_type": "code",
   "execution_count": null,
   "metadata": {},
   "outputs": [],
   "source": []
  },
  {
   "cell_type": "markdown",
   "metadata": {},
   "source": [
    "<details>\n",
    "<summary>Click here for the solution</summary>\n",
    "    \n",
    "```python\n",
    "#Choose column 2 as an example \n",
    ">>> import numpy as np \n",
    ">>> arr = np.array([[1, 2, 3], [4, 5, 6], [0,0,1]]) \n",
    ">>> arr[arr[:,1].argsort()] \n",
    "# Output \n",
    "array([[0, 0, 1], [1, 2, 3], [4, 5, 6]]) \n",
    "```\n",
    "</details>"
   ]
  },
  {
   "cell_type": "markdown",
   "metadata": {},
   "source": [
    "### 11. How to reverse a numpy array in the most efficient way? "
   ]
  },
  {
   "cell_type": "code",
   "execution_count": null,
   "metadata": {},
   "outputs": [],
   "source": []
  },
  {
   "cell_type": "markdown",
   "metadata": {},
   "source": [
    "<details>\n",
    "<summary>Click here for the solution</summary>\n",
    "    \n",
    "```python\n",
    ">>> import numpy as np \n",
    ">>> arr = np.array([9, 10, 1, 2, 0]) \n",
    ">>> reverse_arr = arr[::-1]\n",
    ">>> reverse_arr\n",
    "# output\n",
    "array([ 0,  2,  1, 10,  9])\n",
    "```\n",
    "    \n",
    "</details>"
   ]
  },
  {
   "cell_type": "markdown",
   "metadata": {},
   "source": [
    "### 12. How to calculate percentiles when using numpy? "
   ]
  },
  {
   "cell_type": "code",
   "execution_count": null,
   "metadata": {},
   "outputs": [],
   "source": []
  },
  {
   "cell_type": "markdown",
   "metadata": {},
   "source": [
    "<details>\n",
    "<summary>Click here for the solution</summary>\n",
    "\n",
    "```python\n",
    ">>> import numpy as np \n",
    ">>> arr = np.array([11, 22, 33, 44 ,55 ,66, 77]) \n",
    ">>> perc = np.percentile(arr, 40) #Returns the 40th percentile \n",
    ">>> print(perc)\n",
    "# output\n",
    "37.400000000000006\n",
    "```\n",
    "</details>"
   ]
  },
  {
   "cell_type": "markdown",
   "metadata": {},
   "source": [
    "### 13. What Is The Difference Between Numpy And Scipy? "
   ]
  },
  {
   "cell_type": "code",
   "execution_count": null,
   "metadata": {},
   "outputs": [],
   "source": []
  },
  {
   "cell_type": "markdown",
   "metadata": {},
   "source": [
    "<details>\n",
    "<summary>Click here for the solution</summary>\n",
    "\n",
    "__NumPy__ would contain nothing but the array data type and the most basic operations: \n",
    "\n",
    "indexing, sorting, reshaping, basic element wise functions, et cetera. All numerical code would reside in SciPy. \n",
    "    \n",
    "__SciPy__ contains more fully-featured versions of the linear algebra modules, as well as many other numerical algorithms. \n",
    "</details>"
   ]
  },
  {
   "cell_type": "markdown",
   "metadata": {},
   "source": [
    "### 14. What Is The Preferred Way To Check For An Empty (zero Element) Array?"
   ]
  },
  {
   "cell_type": "code",
   "execution_count": null,
   "metadata": {},
   "outputs": [],
   "source": []
  },
  {
   "cell_type": "markdown",
   "metadata": {},
   "source": [
    "<details>\n",
    "<summary>Click here for the solution</summary>\n",
    "\n",
    "For a numpy array, use the size attribute. The size attribute is helpful for determining the length of numpy array: \n",
    "```python\n",
    ">>> arr = numpy.zeros((1,0)) \n",
    ">>> arr.size \n",
    "# output\n",
    "0\n",
    "```\n",
    "</details>"
   ]
  },
  {
   "cell_type": "markdown",
   "metadata": {},
   "source": [
    "### 15. What Is The Difference Between Matrices And Arrays? "
   ]
  },
  {
   "cell_type": "code",
   "execution_count": null,
   "metadata": {},
   "outputs": [],
   "source": []
  },
  {
   "cell_type": "markdown",
   "metadata": {},
   "source": [
    "<details>\n",
    "<summary>Click here for the solution</summary>\n",
    "\n",
    "Matrices can only be two-dimensional, whereas arrays can have any number of dimensions.\n",
    "</details>"
   ]
  },
  {
   "cell_type": "markdown",
   "metadata": {},
   "source": [
    "### 16. How can you find the indices of an array where a condition is true? "
   ]
  },
  {
   "cell_type": "code",
   "execution_count": null,
   "metadata": {},
   "outputs": [],
   "source": []
  },
  {
   "cell_type": "markdown",
   "metadata": {},
   "source": [
    "<details>\n",
    "<summary>Click here for the solution</summary>\n",
    "    \n",
    "Given an array a, the condition arr > 3 returns a boolean array and since False is interpreted as 0 in Python and NumPy. \n",
    "\n",
    "```python\n",
    ">>> import numpy as np \n",
    ">>> arr = np.array([[9,8,7],[6,5,4],[3,2,1]]) \n",
    ">>> arr > 3 \n",
    "array([[True, True, True], \n",
    "    [ True, True, True], \n",
    "    [False, False, False]], dtype=bool) \n",
    "```"
   ]
  },
  {
   "cell_type": "markdown",
   "metadata": {},
   "source": [
    "### 17. How to find the maximum and minimum value of a given flattened array? "
   ]
  },
  {
   "cell_type": "code",
   "execution_count": null,
   "metadata": {},
   "outputs": [],
   "source": []
  },
  {
   "cell_type": "markdown",
   "metadata": {},
   "source": [
    "<details>\n",
    "<summary>Click here for the solution</summary>\n",
    "\n",
    "```python\n",
    ">>> import numpy as np \n",
    ">>> a = np.arange(4).reshape((2,2)) \n",
    ">>> max_val = np.amax(a) \n",
    ">>> min_val = np.amin(a) \n",
    ">>> print(f\"min_val: {min_val}\")\n",
    ">>> print(f\"max_val: {max_val}\")\n",
    "min_val: 0\n",
    "max_val: 3\n",
    "```\n",
    "</details>"
   ]
  },
  {
   "cell_type": "markdown",
   "metadata": {},
   "source": [
    "### 18. Write a NumPy program to calculate the difference between the maximum and the minimum values of a given array along the second axis. "
   ]
  },
  {
   "cell_type": "code",
   "execution_count": null,
   "metadata": {},
   "outputs": [],
   "source": []
  },
  {
   "cell_type": "markdown",
   "metadata": {},
   "source": [
    "<details>\n",
    "<summary>Click here for the solution</summary>\n",
    "\n",
    "```python\n",
    ">>> import numpy as np \n",
    ">>> arr = np.arange(28).reshape((4, 7)) \n",
    ">>> res = np.ptp(arr, 1)\n",
    ">>> res\n",
    "array([6, 6, 6, 6])\n",
    "```\n",
    "</details>"
   ]
  },
  {
   "cell_type": "markdown",
   "metadata": {},
   "source": [
    "### 19. Find median of a numpy flattened array "
   ]
  },
  {
   "cell_type": "code",
   "execution_count": null,
   "metadata": {},
   "outputs": [],
   "source": []
  },
  {
   "cell_type": "markdown",
   "metadata": {},
   "source": [
    "<details>\n",
    "<summary>Click here for the solution</summary>\n",
    "\n",
    "```python\n",
    ">>> arr = np.arange(20).reshape((4, 5)) \n",
    ">>> res = np.median(arr) \n",
    ">>> res\n",
    "9.5\n",
    "```\n",
    "</details>"
   ]
  },
  {
   "cell_type": "markdown",
   "metadata": {},
   "source": [
    "### 20. Write a NumPy program to compute the mean, standard deviation, and variance of a given array along the second axis "
   ]
  },
  {
   "cell_type": "code",
   "execution_count": null,
   "metadata": {},
   "outputs": [],
   "source": []
  },
  {
   "cell_type": "markdown",
   "metadata": {},
   "source": [
    "<details>\n",
    "<summary>Click here for the solution</summary>\n",
    "\n",
    "```python\n",
    ">>> import numpy as np \n",
    ">>> x = np.arange(16) \n",
    ">>> mean = np.mean(x) \n",
    ">>> std = np.std(x) \n",
    ">>> var = np.var(x)\n",
    "```\n",
    "</details>"
   ]
  },
  {
   "cell_type": "markdown",
   "metadata": {},
   "source": [
    "### 21. Calculate covariance matrix between two numpy arrays "
   ]
  },
  {
   "cell_type": "code",
   "execution_count": null,
   "metadata": {},
   "outputs": [],
   "source": []
  },
  {
   "cell_type": "markdown",
   "metadata": {},
   "source": [
    "<details>\n",
    "<summary>Click here for the solution</summary>\n",
    "\n",
    "```python\n",
    ">>> import numpy as np \n",
    ">>> x = np.array([2, 1, 0]) \n",
    ">>> y = np.array([2, 3, 3]) \n",
    ">>> cov_arr = np.cov(x, y) \n",
    ">>> cov_arr\n",
    "array([[ 1.        , -0.5       ],\n",
    "       [-0.5       ,  0.33333333]])\n",
    "```\n",
    "</details>"
   ]
  },
  {
   "cell_type": "markdown",
   "metadata": {},
   "source": [
    "### 22. Compute Compute pearson product-moment correlation coefficients of two given numpy arrays "
   ]
  },
  {
   "cell_type": "code",
   "execution_count": null,
   "metadata": {},
   "outputs": [],
   "source": []
  },
  {
   "cell_type": "markdown",
   "metadata": {},
   "source": [
    "<details>\n",
    "<summary>Click here for the solution</summary>\n",
    "\n",
    "```python\n",
    ">>> import numpy as np \n",
    ">>> x = np.array([0, 1, 3]) \n",
    ">>> y = np.array([2, 4, 5]) \n",
    ">>> cross_corr = np.corrcoef(x, y) \n",
    "cross_corr\n",
    "array([[1.        , 0.92857143],\n",
    "       [0.92857143, 1.        ]])\n",
    "```\n",
    "</details>"
   ]
  },
  {
   "cell_type": "markdown",
   "metadata": {},
   "source": [
    "### 23. Develop a numpy program to compute the histogram of nums against the bins "
   ]
  },
  {
   "cell_type": "code",
   "execution_count": null,
   "metadata": {},
   "outputs": [],
   "source": []
  },
  {
   "cell_type": "markdown",
   "metadata": {},
   "source": [
    "<details>\n",
    "<summary>Click here for the solution</summary>\n",
    "\n",
    "```python\n",
    ">>> import numpy as np \n",
    ">>> nums = np.array([0.5, 0.7, 1.0, 1.2, 1.3, 2.1]) \n",
    ">>> bins = np.array([0, 1, 2, 3]) \n",
    ">>> np.histogram(nums, bins) \n",
    "(array([2, 3, 1], dtype=int64), array([0, 1, 2, 3]))\n",
    "```\n",
    "</details>"
   ]
  },
  {
   "cell_type": "markdown",
   "metadata": {},
   "source": [
    "### 24. Get the powers of an array values element-wise "
   ]
  },
  {
   "cell_type": "code",
   "execution_count": null,
   "metadata": {},
   "outputs": [],
   "source": []
  },
  {
   "cell_type": "markdown",
   "metadata": {},
   "source": [
    "<details>\n",
    "<summary>Click here for the solution</summary>\n",
    "\n",
    "```python\n",
    ">>> import numpy as np \n",
    ">>> x = np.arange(7) \n",
    ">>> np.power(x, 3)\n",
    "array([  0,   1,   8,  27,  64, 125, 216], dtype=int32)\n",
    "```\n",
    "</details>"
   ]
  },
  {
   "cell_type": "markdown",
   "metadata": {},
   "source": [
    "### 25. Write a NumPy program to get true division of the element-wise array inputs "
   ]
  },
  {
   "cell_type": "code",
   "execution_count": null,
   "metadata": {},
   "outputs": [],
   "source": []
  },
  {
   "cell_type": "markdown",
   "metadata": {},
   "source": [
    "<details>\n",
    "<summary>Click here for the solution</summary>\n",
    "\n",
    "```python\n",
    ">>> import numpy as np \n",
    ">>> x = np.arange(10) \n",
    ">>> np.true_divide(x, 3) \n",
    "array([0.        , 0.33333333, 0.66666667, 1.        , 1.33333333,\n",
    "       1.66666667, 2.        , 2.33333333, 2.66666667, 3.        ])\n",
    "```\n",
    "</details>"
   ]
  },
  {
   "cell_type": "markdown",
   "metadata": {},
   "source": [
    "## Pandas  "
   ]
  },
  {
   "cell_type": "markdown",
   "metadata": {},
   "source": [
    "### 26. What is a series in pandas? "
   ]
  },
  {
   "cell_type": "code",
   "execution_count": null,
   "metadata": {},
   "outputs": [],
   "source": []
  },
  {
   "cell_type": "markdown",
   "metadata": {},
   "source": [
    "<details>\n",
    "<summary>Click here for the solution</summary>\n",
    "    \n",
    "A Series is defined as a one-dimensional array that is capable of storing various data types. The row labels of the series are called the index. By using a 'series' method, we can easily convert the list, tuple, and dictionary into series. A Series cannot contain multiple columns. "
   ]
  },
  {
   "cell_type": "markdown",
   "metadata": {},
   "source": [
    "### 27. What features make Pandas such a reliable option to store tabular data? "
   ]
  },
  {
   "cell_type": "code",
   "execution_count": null,
   "metadata": {},
   "outputs": [],
   "source": []
  },
  {
   "cell_type": "markdown",
   "metadata": {},
   "source": [
    "Memory Efficient, Data Alignment, Reshaping, Merge and join and Time Series. "
   ]
  },
  {
   "cell_type": "markdown",
   "metadata": {},
   "source": [
    "### 28. What is reindexing in pandas? "
   ]
  },
  {
   "cell_type": "code",
   "execution_count": null,
   "metadata": {},
   "outputs": [],
   "source": []
  },
  {
   "cell_type": "markdown",
   "metadata": {},
   "source": [
    "<details>\n",
    "<summary>Click here for the solution</summary>\n",
    "    \n",
    "Reindexing is used to conform DataFrame to a new index with optional filling logic. It places NA/NaN in that location where the values are not present in the previous index. It returns a new object unless the new index is produced as equivalent to the current one, and the value of copy becomes False. It is used to change the index of the rows and \n",
    "columns of the DataFrame. \n",
    "</details>"
   ]
  },
  {
   "cell_type": "markdown",
   "metadata": {},
   "source": [
    "### 29. How will you create a series from dict in Pandas? "
   ]
  },
  {
   "cell_type": "code",
   "execution_count": null,
   "metadata": {},
   "outputs": [],
   "source": []
  },
  {
   "cell_type": "markdown",
   "metadata": {},
   "source": [
    "<details>\n",
    "<summary>Click here for the solution</summary>\n",
    "\n",
    "A Series is defined as a one-dimensional array that is capable of storing various data types. \n",
    "```python\n",
    ">>> import pandas as pd   \n",
    ">>> info = {'x' : 0., 'y' : 1., 'z' : 2.}   \n",
    ">>> a = pd.Series(info) \n",
    "x    0.0\n",
    "y    1.0\n",
    "z    2.0\n",
    "dtype: float64\n",
    "```\n",
    "</details>\n",
    " "
   ]
  },
  {
   "cell_type": "markdown",
   "metadata": {},
   "source": [
    "### 30. How can we create a copy of the series in Pandas? "
   ]
  },
  {
   "cell_type": "code",
   "execution_count": null,
   "metadata": {},
   "outputs": [],
   "source": []
  },
  {
   "cell_type": "markdown",
   "metadata": {},
   "source": [
    "<details>\n",
    "<summary>Click here for the solution</summary>\n",
    "    \n",
    "Use pandas.Series.copy method \n",
    "```python\n",
    ">>> import pandas as pd \n",
    ">>> pd.Series.copy(deep=True)\n",
    "```\n",
    "</details>"
   ]
  },
  {
   "cell_type": "markdown",
   "metadata": {},
   "source": [
    "### 31. What is groupby in Pandas? "
   ]
  },
  {
   "cell_type": "code",
   "execution_count": null,
   "metadata": {},
   "outputs": [],
   "source": []
  },
  {
   "cell_type": "markdown",
   "metadata": {},
   "source": [
    "<details>\n",
    "<summary>Click here for the solution</summary>\n",
    "    \n",
    "GroupBy is used to split the data into groups. It groups the data based on some criteria. Grouping also provides a mapping of labels to the group names. It has a lot of variations that can be defined with the parameters and makes the task of splitting the data quick and easy. \n",
    "</details>"
   ]
  },
  {
   "cell_type": "markdown",
   "metadata": {},
   "source": [
    "### 32. What is vectorization in Pandas? "
   ]
  },
  {
   "cell_type": "code",
   "execution_count": null,
   "metadata": {},
   "outputs": [],
   "source": []
  },
  {
   "cell_type": "markdown",
   "metadata": {},
   "source": [
    "<details>\n",
    "<summary>Click here for the solution</summary>\n",
    "    \n",
    "Vectorization is the process of running operations on the entire array. This is done to reduce the amount of iteration performed by the functions. Pandas have a number of vectorized functions like aggregations, and string functions that are optimized to operate specifically on series and DataFrames. So it is preferred to use the vectorized pandas functions to execute the operations quickly. \n",
    "</details>"
   ]
  },
  {
   "cell_type": "markdown",
   "metadata": {},
   "source": [
    "### 33. Mention the different types of Data Structures in Pandas "
   ]
  },
  {
   "cell_type": "code",
   "execution_count": null,
   "metadata": {},
   "outputs": [],
   "source": []
  },
  {
   "cell_type": "markdown",
   "metadata": {},
   "source": [
    "<details>\n",
    "<summary>Click here for the solution</summary>\n",
    "    \n",
    "Pandas provide two data structures, which are supported by the pandas library, Series, and DataFrames. Both of these data structures are built on top of the NumPy. \n",
    "</details>"
   ]
  },
  {
   "cell_type": "markdown",
   "metadata": {},
   "source": [
    "### 34. What Is Time Series In pandas "
   ]
  },
  {
   "cell_type": "code",
   "execution_count": null,
   "metadata": {},
   "outputs": [],
   "source": []
  },
  {
   "cell_type": "markdown",
   "metadata": {},
   "source": [
    "<details>\n",
    "<summary>Click here for the solution</summary>\n",
    "    \n",
    "A time series is an ordered sequence of data which basically represents how some quantity changes over time. pandas contains extensive capabilities and features for working with time series data for all domains. \n",
    "</details>"
   ]
  },
  {
   "cell_type": "markdown",
   "metadata": {},
   "source": [
    "### 35. How to convert pandas dataframe to numpy array? "
   ]
  },
  {
   "cell_type": "code",
   "execution_count": null,
   "metadata": {},
   "outputs": [],
   "source": []
  },
  {
   "cell_type": "markdown",
   "metadata": {},
   "source": [
    "<details>\n",
    "<summary>Click here for the solution</summary>\n",
    "    \n",
    "The function to_numpy() is used to convert the DataFrame to a NumPy array. \n",
    "DataFrame.to_numpy(self, dtype=None, copy=False) The dtype parameter defines the data type to pass to the array and the copy ensures the \n",
    "returned value is not a view on another array. \n",
    "</details>"
   ]
  },
  {
   "cell_type": "markdown",
   "metadata": {},
   "source": [
    "### 36. Write a Pandas program to get the first 5 rows of a given DataFrame "
   ]
  },
  {
   "cell_type": "code",
   "execution_count": null,
   "metadata": {},
   "outputs": [],
   "source": []
  },
  {
   "cell_type": "markdown",
   "metadata": {},
   "source": [
    "<details>\n",
    "<summary>Click here for the solution</summary>\n",
    "\n",
    "```python\n",
    ">>> import pandas as pd \n",
    ">>> exam_data  = {'name': ['Anastasia', 'Dima', 'Katherine', 'James', 'Emily', 'Michael', \n",
    "'Matthew', 'Laura', 'Kevin', 'Jonas'],} \n",
    "labels = ['a', 'b', 'c', 'd', 'e', 'f', 'g', 'h', 'i', 'j'] \n",
    ">>> df = pd.DataFrame(exam_data , index=labels) \n",
    ">>> df.iloc[:5] \n",
    "```\n",
    "|  | name |\n",
    "| --- | ----------- |\n",
    "| a | Anastasia |\n",
    "| b | Dima |\n",
    "| c | Katherine |\n",
    "| d | James |\n",
    "| e | Emily |\n",
    "</details>"
   ]
  },
  {
   "cell_type": "markdown",
   "metadata": {},
   "source": [
    "### 37. Develop a Pandas program to create and display a one-dimensional array-like object containing an array of data. "
   ]
  },
  {
   "cell_type": "code",
   "execution_count": null,
   "metadata": {},
   "outputs": [],
   "source": []
  },
  {
   "cell_type": "markdown",
   "metadata": {},
   "source": [
    "<details>\n",
    "<summary>Click here for the solution</summary>\n",
    "\n",
    "```python\n",
    ">>> import pandas as pd \n",
    ">>> pd.Series([2, 4, 6, 8, 10])\n",
    "```\n",
    "</details>"
   ]
  },
  {
   "cell_type": "markdown",
   "metadata": {},
   "source": [
    "### 38. Write a Python program to convert a Panda module Series to Python list and it's type. "
   ]
  },
  {
   "cell_type": "code",
   "execution_count": null,
   "metadata": {},
   "outputs": [],
   "source": []
  },
  {
   "cell_type": "markdown",
   "metadata": {},
   "source": [
    "<details>\n",
    "<summary>Click here for the solution</summary>\n",
    "\n",
    "```python\n",
    ">>> import pandas as pd \n",
    ">>> ds = pd.Series([2, 4, 6, 8, 10]) \n",
    ">>> type(ds) \n",
    ">>> ds.tolist() \n",
    ">>> type(ds.tolist()) \n",
    "list\n",
    "```\n",
    "</details>"
   ]
  },
  {
   "cell_type": "markdown",
   "metadata": {},
   "source": [
    "### 39. Develop a Pandas program to add, subtract, multiple and divide two Pandas Series. "
   ]
  },
  {
   "cell_type": "code",
   "execution_count": null,
   "metadata": {},
   "outputs": [],
   "source": []
  },
  {
   "cell_type": "markdown",
   "metadata": {},
   "source": [
    "<details>\n",
    "<summary>Click here for the solution</summary>\n",
    "\n",
    "```python\n",
    ">>> import pandas as pd \n",
    ">>> ds1 = pd.Series([2, 4, 6, 8, 10]) \n",
    ">>> ds2 = pd.Series([1, 3, 5, 7, 9]) \n",
    ">>> sum = ds1 + ds2 \n",
    ">>> sub = ds1 - ds2 \n",
    ">>> mul = ds1 * ds2 \n",
    ">>> div = ds1 / ds2 \n",
    "```\n",
    "</details>"
   ]
  },
  {
   "cell_type": "markdown",
   "metadata": {},
   "source": [
    "### 40. Develop a Pandas program to compare the elements of the two Pandas Series. "
   ]
  },
  {
   "cell_type": "code",
   "execution_count": null,
   "metadata": {},
   "outputs": [],
   "source": []
  },
  {
   "cell_type": "markdown",
   "metadata": {},
   "source": [
    "<details>\n",
    "<summary>Click here for the solution</summary>\n",
    "\n",
    "```python\n",
    ">>> import pandas as pd \n",
    ">>> ds1 = pd.Series([2, 4, 6, 8, 10]) \n",
    ">>> ds2 = pd.Series([1, 3, 5, 7, 10]) \n",
    ">>> ds1 == ds2 \n",
    "0    False\n",
    "1    False\n",
    "2    False\n",
    "3    False\n",
    "4     True\n",
    "dtype: bool\n",
    "\n",
    ">>> ds1 > ds2 \n",
    "0     True\n",
    "1     True\n",
    "2     True\n",
    "3     True\n",
    "4    False\n",
    "dtype: bool\n",
    "    \n",
    ">>> ds1 < ds2 \n",
    "0    False\n",
    "1    False\n",
    "2    False\n",
    "3    False\n",
    "4    False\n",
    "dtype: bool\n",
    "```\n",
    "</details>"
   ]
  },
  {
   "cell_type": "markdown",
   "metadata": {},
   "source": [
    "### 41. Develop a Pandas program to change the data type of given a column or a Series. "
   ]
  },
  {
   "cell_type": "code",
   "execution_count": null,
   "metadata": {},
   "outputs": [],
   "source": []
  },
  {
   "cell_type": "markdown",
   "metadata": {},
   "source": [
    "<details>\n",
    "<summary>Click here for the solution</summary>\n",
    "\n",
    "```python\n",
    ">>> import pandas as pd \n",
    ">>> s1 = pd.Series(['100', '200', 'python', '300.12', '400']) \n",
    ">>> s2 = pd.to_numeric(s1, errors='coerce') \n",
    ">>> s2 \n",
    "0    100.00\n",
    "1    200.00\n",
    "2       NaN\n",
    "3    300.12\n",
    "4    400.00\n",
    "dtype: float64\n",
    "```\n",
    "</details>\n",
    " "
   ]
  },
  {
   "cell_type": "markdown",
   "metadata": {},
   "source": [
    "### 42. Write a Pandas program to convert Series of lists to one Series "
   ]
  },
  {
   "cell_type": "code",
   "execution_count": null,
   "metadata": {},
   "outputs": [],
   "source": []
  },
  {
   "cell_type": "markdown",
   "metadata": {},
   "source": [
    "<details>\n",
    "<summary>Click here for the solution</summary>\n",
    "\n",
    "```python\n",
    ">>> import pandas as pd \n",
    ">>> s = pd.Series([ ['Red', 'Black'], ['Red', 'Green', 'White'] , ['Yellow']]) \n",
    ">>> s = s.apply(pd.Series).stack().reset_index(drop=True) \n",
    ">>> s\n",
    "0       Red\n",
    "1     Black\n",
    "2       Red\n",
    "3     Green\n",
    "4     White\n",
    "5    Yellow\n",
    "dtype: object\n",
    "```\n",
    "</details>"
   ]
  },
  {
   "cell_type": "markdown",
   "metadata": {},
   "source": [
    "### 43. Write a Pandas program to create a subset of a given series based on value and condition "
   ]
  },
  {
   "cell_type": "code",
   "execution_count": null,
   "metadata": {},
   "outputs": [],
   "source": []
  },
  {
   "cell_type": "markdown",
   "metadata": {},
   "source": [
    "<details>\n",
    "<summary>Click here for the solution</summary>\n",
    "\n",
    "```python\n",
    ">>> import pandas as pd \n",
    ">>> s = pd.Series([0, 1,2,3,4,5,6,7,8,9,10]) \n",
    ">>> n = 6 \n",
    ">>> new_s = s[s < n] \n",
    ">>> new_s \n",
    "0    0\n",
    "1    1\n",
    "2    2\n",
    "3    3\n",
    "4    4\n",
    "5    5\n",
    "dtype: int64\n",
    "```\n",
    "</details>"
   ]
  },
  {
   "cell_type": "markdown",
   "metadata": {},
   "source": [
    "### 44. Develop a Pandas code to alter the order of index in a given series "
   ]
  },
  {
   "cell_type": "code",
   "execution_count": null,
   "metadata": {},
   "outputs": [],
   "source": []
  },
  {
   "cell_type": "markdown",
   "metadata": {},
   "source": [
    "<details>\n",
    "<summary>Click here for the solution</summary>\n",
    "\n",
    "```python\n",
    ">>> import pandas as pd \n",
    ">>> s = pd.Series(data = [1,2,3,4,5], index = ['A', 'B', 'C','D','E']) \n",
    ">>> s.reindex(index = ['B','A','C','D','E']) \n",
    "B    2\n",
    "A    1\n",
    "C    3\n",
    "D    4\n",
    "E    5\n",
    "dtype: int64\n",
    "```\n",
    "</details>"
   ]
  },
  {
   "cell_type": "markdown",
   "metadata": {},
   "source": [
    "### 45. Write a Pandas code to get the items of a given series not present in another given series. "
   ]
  },
  {
   "cell_type": "code",
   "execution_count": null,
   "metadata": {},
   "outputs": [],
   "source": []
  },
  {
   "cell_type": "markdown",
   "metadata": {},
   "source": [
    "<details>\n",
    "<summary>Click here for the solution</summary>\n",
    "\n",
    "```python\n",
    ">>> import pandas as pd \n",
    ">>> sr1 = pd.Series([1, 2, 3, 4, 5]) \n",
    ">>> sr2 = pd.Series([2, 4, 6, 8, 10]) \n",
    ">>> result = sr1[~sr1.isin(sr2)] \n",
    ">>> result \n",
    "0    1\n",
    "2    3\n",
    "4    5\n",
    "dtype: int64\n",
    "```\n",
    "</details>"
   ]
  },
  {
   "cell_type": "markdown",
   "metadata": {},
   "source": [
    "### 46. What is the difference between the two data series df[‘Name’] and   df.loc[:, ‘Name’]? "
   ]
  },
  {
   "cell_type": "code",
   "execution_count": null,
   "metadata": {},
   "outputs": [],
   "source": []
  },
  {
   "cell_type": "markdown",
   "metadata": {},
   "source": [
    "<details>\n",
    "<summary>Click here for the solution</summary>\n",
    "    \n",
    "__df[‘Name’]__: a view of the original dataframe\n",
    "\n",
    "__df.loc[:, ‘Name’]__: a copy of the original dataframe. \n",
    "\n",
    "</details>"
   ]
  },
  {
   "cell_type": "markdown",
   "metadata": {},
   "source": [
    "### 47. Write a Pandas program to display the most frequent value in a given series and replace everything else as “replaced” in the series. "
   ]
  },
  {
   "cell_type": "code",
   "execution_count": null,
   "metadata": {},
   "outputs": [],
   "source": []
  },
  {
   "cell_type": "markdown",
   "metadata": {},
   "source": [
    "<details>\n",
    "<summary>Click here for the solution</summary>\n",
    "\n",
    "```python\n",
    ">>> import pandas as pd \n",
    ">>> import numpy as np \n",
    ">>> np.random.RandomState(100) \n",
    ">>> num_series = pd.Series(np.random.randint(1, 5, [15])) \n",
    ">>> result = num_series[~num_series.isin(num_series.value_counts().index[:1])] = 'replaced' \n",
    "print('**This solution needs to be fixed**')\n",
    "```\n",
    "</details>"
   ]
  }
 ],
 "metadata": {
  "kernelspec": {
   "display_name": "Python 3",
   "language": "python",
   "name": "python3"
  },
  "language_info": {
   "codemirror_mode": {
    "name": "ipython",
    "version": 3
   },
   "file_extension": ".py",
   "mimetype": "text/x-python",
   "name": "python",
   "nbconvert_exporter": "python",
   "pygments_lexer": "ipython3",
   "version": "3.7.7"
  }
 },
 "nbformat": 4,
 "nbformat_minor": 4
}
