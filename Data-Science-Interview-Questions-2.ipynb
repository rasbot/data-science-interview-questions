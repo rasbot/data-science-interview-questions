{
 "cells": [
  {
   "cell_type": "markdown",
   "metadata": {},
   "source": [
    "# Interview Question Series 2 "
   ]
  },
  {
   "cell_type": "markdown",
   "metadata": {},
   "source": [
    "## Python Programming - Numpy"
   ]
  },
  {
   "cell_type": "markdown",
   "metadata": {},
   "source": [
    "### 1. Why is python numpy better than lists? "
   ]
  },
  {
   "cell_type": "code",
   "execution_count": null,
   "metadata": {},
   "outputs": [],
   "source": []
  },
  {
   "cell_type": "markdown",
   "metadata": {},
   "source": [
    "<details>\n",
    "<summary>Click here for the solution</summary>\n",
    "  \n",
    "Python numpy arrays should be considered instead of a list because they are fast, consume less memory and convenient with lots of functionality. \n",
    "</details>"
   ]
  },
  {
   "cell_type": "markdown",
   "metadata": {},
   "source": [
    "### 2. Describe the map function in Python"
   ]
  },
  {
   "cell_type": "code",
   "execution_count": null,
   "metadata": {},
   "outputs": [],
   "source": []
  },
  {
   "cell_type": "markdown",
   "metadata": {},
   "source": [
    "<details>\n",
    "<summary>Click here for the solution</summary>\n",
    "\n",
    "map function executes the function given as the first argument on all the elements of the iterable given as the second argument. \n",
    "</details>"
   ]
  },
  {
   "cell_type": "markdown",
   "metadata": {},
   "source": [
    "### 3. Generate array of ‘100’ random numbers sampled from a standard normal distribution using Numpy"
   ]
  },
  {
   "cell_type": "code",
   "execution_count": null,
   "metadata": {},
   "outputs": [],
   "source": []
  },
  {
   "cell_type": "markdown",
   "metadata": {},
   "source": [
    "<details>\n",
    "<summary>Click here for the solution</summary>\n",
    "\n",
    "```python\n",
    "np.random.rand(100)\n",
    "```\n",
    "will create 100 random numbers generated from standard normal distribution with mean 0 and standard deviation 1. \n",
    "</details>"
   ]
  },
  {
   "cell_type": "markdown",
   "metadata": {},
   "source": [
    "### 4. How to count the occurrence of each value in a numpy array? "
   ]
  },
  {
   "cell_type": "code",
   "execution_count": null,
   "metadata": {},
   "outputs": [],
   "source": []
  },
  {
   "cell_type": "markdown",
   "metadata": {},
   "source": [
    "<details>\n",
    "<summary>Click here for the solution</summary>\n",
    "\n",
    "Use numpy.bincount()\n",
    "```python  \n",
    ">>> arr = numpy.array([0, 5, 5, 0, 2, 4, 3, 0, 0, 5, 4, 1, 9, 9]) \n",
    ">>> numpy.bincount(arr) \n",
    "# output:\n",
    "array([4, 1, 1, 1, 2, 3, 0, 0, 0, 2], dtype=int64)\n",
    "```\n",
    "The argument to bincount( must consist of booleans or positive integers. Negative integers are invalid. \n",
    "</details>"
   ]
  },
  {
   "cell_type": "markdown",
   "metadata": {},
   "source": [
    "### 5. Does Numpy Support Nan? "
   ]
  },
  {
   "cell_type": "code",
   "execution_count": null,
   "metadata": {},
   "outputs": [],
   "source": []
  },
  {
   "cell_type": "markdown",
   "metadata": {},
   "source": [
    "<details>\n",
    "<summary>Click here for the solution</summary>\n",
    "\n",
    "nan, short for “not a number”, is a special floating point value defined by the IEEE-754 specification. Python numpy supports nan but the definition of nan is more system dependent and some systems don't have an all round support for it like older cray and vax computers. \n",
    "</details>"
   ]
  },
  {
   "cell_type": "markdown",
   "metadata": {},
   "source": [
    "### 6. What does ravel() function in numpy do? "
   ]
  },
  {
   "cell_type": "code",
   "execution_count": null,
   "metadata": {},
   "outputs": [],
   "source": []
  },
  {
   "cell_type": "markdown",
   "metadata": {},
   "source": [
    "<details>\n",
    "<summary>Click here for the solution</summary>\n",
    "\n",
    "It combines multiple numpy arrays into a single array \n",
    "</details>"
   ]
  },
  {
   "cell_type": "markdown",
   "metadata": {},
   "source": [
    "### 7. What is the meaning of axis=0 and axis=1? "
   ]
  },
  {
   "cell_type": "code",
   "execution_count": null,
   "metadata": {},
   "outputs": [],
   "source": []
  },
  {
   "cell_type": "markdown",
   "metadata": {},
   "source": [
    "<details>\n",
    "<summary>Click here for the solution</summary>\n",
    "\n",
    "`axis=0` is meant for reading rows\n",
    "  \n",
    "`axis=1` is meant for reading columns \n",
    "</details>"
   ]
  },
  {
   "cell_type": "markdown",
   "metadata": {},
   "source": [
    "### 8. What is numpy and describe its use cases? "
   ]
  },
  {
   "cell_type": "code",
   "execution_count": null,
   "metadata": {},
   "outputs": [],
   "source": []
  },
  {
   "cell_type": "markdown",
   "metadata": {},
   "source": [
    "<details>\n",
    "<summary>Click here for the solution</summary>\n",
    "\n",
    "Numpy is a package library for Python, adding support for large, multi-dimensional arrays and matrices, along with a large collection of high level mathematical functions. In simple words, Numpy is an optimized version of Python lists like Financial functions, Linear Algebra, Statistics, Polynomials, Sorting and Searching etc. \n",
    "</details>"
   ]
  },
  {
   "cell_type": "markdown",
   "metadata": {},
   "source": [
    "### 9. How to remove from one array those items that exist in another? "
   ]
  },
  {
   "cell_type": "code",
   "execution_count": null,
   "metadata": {},
   "outputs": [],
   "source": []
  },
  {
   "cell_type": "markdown",
   "metadata": {},
   "source": [
    "<details>\n",
    "<summary>Click here for the solution</summary>\n",
    "    \n",
    "```python\n",
    ">>> a = np.array([5, 4, 3, 2, 1]) \n",
    ">>> b = np.array([4, 8, 9, 10, 1]) \n",
    "# From 'a' remove all of 'b' \n",
    ">>> np.setdiff1d(a,b) \n",
    "# Output: \n",
    "array([5, 3, 2]) \n",
    "```\n",
    "</details>"
   ]
  },
  {
   "cell_type": "markdown",
   "metadata": {},
   "source": [
    "### 10. How to sort a numpy array by a specific column in a 2D array? "
   ]
  },
  {
   "cell_type": "code",
   "execution_count": null,
   "metadata": {},
   "outputs": [],
   "source": []
  },
  {
   "cell_type": "markdown",
   "metadata": {},
   "source": [
    "<details>\n",
    "<summary>Click here for the solution</summary>\n",
    "    \n",
    "```python\n",
    "#Choose column 2 as an example \n",
    ">>> import numpy as np \n",
    ">>> arr = np.array([[1, 2, 3], [4, 5, 6], [0,0,1]]) \n",
    ">>> arr[arr[:,1].argsort()] \n",
    "# Output \n",
    "array([[0, 0, 1], [1, 2, 3], [4, 5, 6]]) \n",
    "```\n",
    "</details>"
   ]
  },
  {
   "cell_type": "markdown",
   "metadata": {},
   "source": [
    "### 11. How to reverse a numpy array in the most efficient way? "
   ]
  },
  {
   "cell_type": "code",
   "execution_count": null,
   "metadata": {},
   "outputs": [],
   "source": []
  },
  {
   "cell_type": "markdown",
   "metadata": {},
   "source": [
    "<details>\n",
    "<summary>Click here for the solution</summary>\n",
    "    \n",
    "```python\n",
    ">>> import numpy as np \n",
    ">>> arr = np.array([9, 10, 1, 2, 0]) \n",
    ">>> reverse_arr = arr[::-1]\n",
    ">>> reverse_arr\n",
    "# output\n",
    "array([ 0,  2,  1, 10,  9])\n",
    "```\n",
    "    \n",
    "</details>"
   ]
  },
  {
   "cell_type": "markdown",
   "metadata": {},
   "source": [
    "### 12. How to calculate percentiles when using numpy? "
   ]
  },
  {
   "cell_type": "code",
   "execution_count": null,
   "metadata": {},
   "outputs": [],
   "source": []
  },
  {
   "cell_type": "markdown",
   "metadata": {},
   "source": [
    "<details>\n",
    "<summary>Click here for the solution</summary>\n",
    "\n",
    "```python\n",
    ">>> import numpy as np \n",
    ">>> arr = np.array([11, 22, 33, 44 ,55 ,66, 77]) \n",
    ">>> perc = np.percentile(arr, 40) #Returns the 40th percentile \n",
    ">>> print(perc)\n",
    "# output\n",
    "37.400000000000006\n",
    "```\n",
    "</details>"
   ]
  },
  {
   "cell_type": "markdown",
   "metadata": {},
   "source": [
    "### 13. What Is The Difference Between Numpy And Scipy? "
   ]
  },
  {
   "cell_type": "code",
   "execution_count": null,
   "metadata": {},
   "outputs": [],
   "source": []
  },
  {
   "cell_type": "markdown",
   "metadata": {},
   "source": [
    "<details>\n",
    "<summary>Click here for the solution</summary>\n",
    "\n",
    "__NumPy__ would contain nothing but the array data type and the most basic operations: \n",
    "\n",
    "indexing, sorting, reshaping, basic element wise functions, et cetera. All numerical code would reside in SciPy. \n",
    "    \n",
    "__SciPy__ contains more fully-featured versions of the linear algebra modules, as well as many other numerical algorithms. \n",
    "</details>"
   ]
  },
  {
   "cell_type": "markdown",
   "metadata": {},
   "source": [
    "### 14. What Is The Preferred Way To Check For An Empty (zero Element) Array?"
   ]
  },
  {
   "cell_type": "code",
   "execution_count": null,
   "metadata": {},
   "outputs": [],
   "source": []
  },
  {
   "cell_type": "markdown",
   "metadata": {},
   "source": [
    "<details>\n",
    "<summary>Click here for the solution</summary>\n",
    "\n",
    "For a numpy array, use the size attribute. The size attribute is helpful for determining the length of numpy array: \n",
    "```python\n",
    ">>> arr = numpy.zeros((1,0)) \n",
    ">>> arr.size \n",
    "# output\n",
    "0\n",
    "```\n",
    "</details>"
   ]
  },
  {
   "cell_type": "markdown",
   "metadata": {},
   "source": [
    "### 15. What Is The Difference Between Matrices And Arrays? "
   ]
  },
  {
   "cell_type": "code",
   "execution_count": null,
   "metadata": {},
   "outputs": [],
   "source": []
  },
  {
   "cell_type": "markdown",
   "metadata": {},
   "source": [
    "<details>\n",
    "<summary>Click here for the solution</summary>\n",
    "\n",
    "Matrices can only be two-dimensional, whereas arrays can have any number of dimensions.\n",
    "</details>"
   ]
  },
  {
   "cell_type": "markdown",
   "metadata": {},
   "source": [
    "### 16. How can you find the indices of an array where a condition is true? "
   ]
  },
  {
   "cell_type": "code",
   "execution_count": null,
   "metadata": {},
   "outputs": [],
   "source": []
  },
  {
   "cell_type": "markdown",
   "metadata": {},
   "source": [
    "<details>\n",
    "<summary>Click here for the solution</summary>\n",
    "    \n",
    "Given an array a, the condition arr > 3 returns a boolean array and since False is interpreted as 0 in Python and NumPy. \n",
    "\n",
    "```python\n",
    ">>> import numpy as np \n",
    ">>> arr = np.array([[9,8,7],[6,5,4],[3,2,1]]) \n",
    ">>> arr > 3 \n",
    "array([[True, True, True], \n",
    "    [ True, True, True], \n",
    "    [False, False, False]], dtype=bool) \n",
    "```"
   ]
  },
  {
   "cell_type": "markdown",
   "metadata": {},
   "source": [
    "### 17. How to find the maximum and minimum value of a given flattened array? "
   ]
  },
  {
   "cell_type": "code",
   "execution_count": null,
   "metadata": {},
   "outputs": [],
   "source": []
  },
  {
   "cell_type": "markdown",
   "metadata": {},
   "source": [
    "<details>\n",
    "<summary>Click here for the solution</summary>\n",
    "\n",
    "```python\n",
    ">>> import numpy as np \n",
    ">>> a = np.arange(4).reshape((2,2)) \n",
    ">>> max_val = np.amax(a) \n",
    ">>> min_val = np.amin(a) \n",
    ">>> print(f\"min_val: {min_val}\")\n",
    ">>> print(f\"max_val: {max_val}\")\n",
    "min_val: 0\n",
    "max_val: 3\n",
    "```\n",
    "</details>"
   ]
  },
  {
   "cell_type": "markdown",
   "metadata": {},
   "source": [
    "### 18. Write a NumPy program to calculate the difference between the maximum and the minimum values of a given array along the second axis. "
   ]
  },
  {
   "cell_type": "code",
   "execution_count": null,
   "metadata": {},
   "outputs": [],
   "source": []
  },
  {
   "cell_type": "markdown",
   "metadata": {},
   "source": [
    "<details>\n",
    "<summary>Click here for the solution</summary>\n",
    "\n",
    "```python\n",
    ">>> import numpy as np \n",
    ">>> arr = np.arange(28).reshape((4, 7)) \n",
    ">>> res = np.ptp(arr, 1)\n",
    ">>> res\n",
    "array([6, 6, 6, 6])\n",
    "```\n",
    "</details>"
   ]
  },
  {
   "cell_type": "markdown",
   "metadata": {},
   "source": [
    "### 19. Find median of a numpy flattened array "
   ]
  },
  {
   "cell_type": "code",
   "execution_count": null,
   "metadata": {},
   "outputs": [],
   "source": []
  },
  {
   "cell_type": "markdown",
   "metadata": {},
   "source": [
    "<details>\n",
    "<summary>Click here for the solution</summary>\n",
    "\n",
    "```python\n",
    ">>> arr = np.arange(20).reshape((4, 5)) \n",
    ">>> res = np.median(arr) \n",
    ">>> res\n",
    "9.5\n",
    "```\n",
    "</details>"
   ]
  },
  {
   "cell_type": "markdown",
   "metadata": {},
   "source": [
    "### 20. Write a NumPy program to compute the mean, standard deviation, and variance of a given array along the second axis "
   ]
  },
  {
   "cell_type": "code",
   "execution_count": null,
   "metadata": {},
   "outputs": [],
   "source": []
  },
  {
   "cell_type": "markdown",
   "metadata": {},
   "source": [
    "```python\n",
    ">>> import numpy as np \n",
    ">>> x = np.arange(16) \n",
    ">>> mean = np.mean(x) \n",
    ">>> std = np.std(x) \n",
    ">>> var = np.var(x)\n",
    "```"
   ]
  },
  {
   "cell_type": "markdown",
   "metadata": {},
   "source": [
    "### 21. Calculate covariance matrix between two numpy arrays "
   ]
  },
  {
   "cell_type": "code",
   "execution_count": null,
   "metadata": {},
   "outputs": [],
   "source": []
  },
  {
   "cell_type": "markdown",
   "metadata": {},
   "source": [
    ">>> import numpy as np \n",
    ">>> x = np.array([2, 1, 0]) \n",
    ">>> y = np.array([2, 3, 3]) \n",
    ">>> cov_arr = np.cov(x, y) "
   ]
  },
  {
   "cell_type": "markdown",
   "metadata": {},
   "source": [
    "### 22. Compute Compute pearson product-moment correlation coefficients of two given numpy arrays "
   ]
  },
  {
   "cell_type": "code",
   "execution_count": null,
   "metadata": {},
   "outputs": [],
   "source": []
  },
  {
   "cell_type": "markdown",
   "metadata": {},
   "source": [
    ">>> import numpy as np \n",
    ">>> x = np.array([0, 1, 3]) \n",
    ">>> y = np.array([2, 4, 5]) \n",
    ">>> cross_corr = np.corrcoef(x, y) "
   ]
  },
  {
   "cell_type": "markdown",
   "metadata": {},
   "source": [
    "### 23. Develop a numpy program to compute the histogram of nums against the bins "
   ]
  },
  {
   "cell_type": "code",
   "execution_count": null,
   "metadata": {},
   "outputs": [],
   "source": []
  },
  {
   "cell_type": "markdown",
   "metadata": {},
   "source": [
    ">>> import numpy as np \n",
    ">>> nums = np.array([0.5, 0.7, 1.0, 1.2, 1.3, 2.1]) \n",
    ">>> bins = np.array([0, 1, 2, 3]) \n",
    ">>> np.histogram(nums, bins) "
   ]
  },
  {
   "cell_type": "markdown",
   "metadata": {},
   "source": [
    "### 24. Get the powers of an array values element-wise "
   ]
  },
  {
   "cell_type": "code",
   "execution_count": null,
   "metadata": {},
   "outputs": [],
   "source": []
  },
  {
   "cell_type": "markdown",
   "metadata": {},
   "source": [
    ">>> import numpy as np \n",
    ">>> x = np.arange(7) \n",
    ">>> np.power(x, 3) "
   ]
  },
  {
   "cell_type": "markdown",
   "metadata": {},
   "source": [
    "### 25. Write a NumPy program to get true division of the element-wise array inputs "
   ]
  },
  {
   "cell_type": "code",
   "execution_count": null,
   "metadata": {},
   "outputs": [],
   "source": []
  },
  {
   "cell_type": "markdown",
   "metadata": {},
   "source": [
    ">>> import numpy as np \n",
    ">>> x = np.arange(10) \n",
    ">>> np.true_divide(x, 3) "
   ]
  },
  {
   "cell_type": "markdown",
   "metadata": {},
   "source": [
    "## Pandas  "
   ]
  },
  {
   "cell_type": "markdown",
   "metadata": {},
   "source": [
    "26. What is a series in pandas? \n",
    "A Series is defined as a one-dimensional array that is capable of storing various data \n",
    "types. The row labels of the series are called the index. By using a 'series' method, we \n",
    "can easily convert the list, tuple, and dictionary into series. A Series cannot contain \n",
    "multiple columns. \n",
    " \n",
    "27. What features make Pandas such a reliable option to store tabular data? \n",
    "Memory Efficient, Data Alignment, Reshaping, Merge and join and Time Series. \n",
    " \n",
    "28. What is reindexing in pandas? \n",
    "Reindexing is used to conform DataFrame to a new index with optional filling logic. It \n",
    "places NA/NaN in that location where the values are not present in the previous index. It \n",
    "returns a new object unless the new index is produced as equivalent to the current one, \n",
    "and the value of copy becomes False. It is used to change the index of the rows and \n",
    "columns of the DataFrame. \n",
    "29. How will you create a series from dict in Pandas? \n",
    "A Series is defined as a one-dimensional array that is capable of storing various data \n",
    "types. \n",
    ">>> import pandas as pd   \n",
    ">>> info = {'x' : 0., 'y' : 1., 'z' : 2.}   \n",
    ">>> a = pd.Series(info) \n",
    " \n",
    "30. How can we create a copy of the series in Pandas? \n",
    "Use pandas.Series.copy method \n",
    ">>> import pandas as pd \n",
    ">>> pd.Series.copy(deep=True) \n",
    "31. What is groupby in Pandas? \n",
    "GroupBy is used to split the data into groups. It groups the data based on some criteria. \n",
    "Grouping also provides a mapping of labels to the group names. It has a lot of variations \n",
    "that can be defined with the parameters and makes the task of splitting the data quick and \n",
    "easy. \n",
    " \n",
    " \n",
    " \n",
    " \n",
    "32. What is vectorization in Pandas? \n",
    " \n",
    " \n",
    "Vectorization is the process of running operations on the entire array. This is done to \n",
    "reduce the amount of iteration performed by the functions. Pandas have a number of \n",
    "vectorized functions like aggregations, and string functions that are optimized to operate \n",
    "specifically on series and DataFrames. So it is preferred to use the vectorized pandas \n",
    "functions to execute the operations quickly. \n",
    "33. Mention the different types of Data Structures in Pandas \n",
    "Pandas provide two data structures, which are supported by the pandas library, Series, \n",
    "and DataFrames. Both of these data structures are built on top of the NumPy. \n",
    " \n",
    "34. What Is Time Series In pandas \n",
    "A time series is an ordered sequence of data which basically represents how some \n",
    "quantity changes over time. pandas contains extensive capabilities and features for \n",
    "working with time series data for all domains. \n",
    " \n",
    "35. How to convert pandas dataframe to numpy array? \n",
    "The function to_numpy() is used to convert the DataFrame to a NumPy array. \n",
    "DataFrame.to_numpy(self, dtype=None, copy=False) \n",
    "The dtype parameter defines the data type to pass to the array and the copy ensures the \n",
    "returned value is not a view on another array. \n",
    " \n",
    "36. Write a Pandas program to get the first 5 rows of a given DataFrame \n",
    ">>> import pandas as pd \n",
    ">>> exam_data  = {'name': ['Anastasia', 'Dima', 'Katherine', 'James', 'Emily', 'Michael', \n",
    "'Matthew', 'Laura', 'Kevin', 'Jonas'],} \n",
    "labels = ['a', 'b', 'c', 'd', 'e', 'f', 'g', 'h', 'i', 'j'] \n",
    ">>> df = pd.DataFrame(exam_data , index=labels) \n",
    ">>> df.iloc[:5] \n",
    " \n",
    "37. Develop a Pandas program to create and display a one-dimensional array-like object containing an array of data. \n",
    ">>> import pandas as pd \n",
    ">>> pd.Series([2, 4, 6, 8, 10]) \n",
    " \n",
    " \n",
    " \n",
    " \n",
    "38. Write a Python program to convert a Panda module Series to Python list and \n",
    "it's type. \n",
    ">>> import pandas as pd \n",
    ">>> ds = pd.Series([2, 4, 6, 8, 10]) \n",
    " \n",
    " \n",
    ">>> type(ds) \n",
    ">>> ds.tolist() \n",
    ">>> type(ds.tolist()) \n",
    " \n",
    "39. Develop a Pandas program to add, subtract, multiple and divide two Pandas \n",
    "Series. \n",
    ">>> import pandas as pd \n",
    ">>> ds1 = pd.Series([2, 4, 6, 8, 10]) \n",
    ">>> ds2 = pd.Series([1, 3, 5, 7, 9]) \n",
    ">>> sum = ds1 + ds2 \n",
    ">>> sub = ds1 - ds2 \n",
    ">>> mul = ds1 * ds2 \n",
    ">>> div = ds1 / ds2 \n",
    " \n",
    "40. Develop a Pandas program to compare the elements of the two Pandas \n",
    "Series. \n",
    ">>> import pandas as pd \n",
    ">>> ds1 = pd.Series([2, 4, 6, 8, 10]) \n",
    ">>> ds2 = pd.Series([1, 3, 5, 7, 10]) \n",
    ">>> ds1 == ds2 \n",
    ">>> ds1 > ds2 \n",
    ">>> ds1 < ds2 \n",
    " \n",
    "41. Develop a Pandas program to change the data type of given a column or a \n",
    "Series. \n",
    ">>> import pandas as pd \n",
    ">>> s1 = pd.Series(['100', '200', 'python', '300.12', '400']) \n",
    ">>> s2 = pd.to_numeric(s1, errors='coerce') \n",
    ">>> s2 \n",
    " \n",
    "42. Write a Pandas program to convert Series of lists to one Series \n",
    ">>> import pandas as pd \n",
    ">>> s = pd.Series([ ['Red', 'Black'], ['Red', 'Green', 'White'] , ['Yellow']]) \n",
    " >>> s = s.apply(pd.Series).stack().reset_index(drop=True) \n",
    " \n",
    "  \n",
    "43. Write a Pandas program to create a subset of a given series based on value \n",
    "and condition \n",
    ">>> import pandas as pd \n",
    ">>> s = pd.Series([0, 1,2,3,4,5,6,7,8,9,10]) \n",
    ">>> n = 6 \n",
    " \n",
    " \n",
    ">>> new_s = s[s < n] \n",
    ">>> new_s \n",
    " \n",
    "44. Develop a Pandas code to alter the order of index in a given series \n",
    ">>> import pandas as pd \n",
    ">>> s = pd.Series(data = [1,2,3,4,5], index = ['A', 'B', 'C','D','E']) \n",
    ">>> s.reindex(index = ['B','A','C','D','E']) \n",
    " \n",
    "45. Write a Pandas code to get the items of a given series not present in another \n",
    "given series. \n",
    " >>> import pandas as pd \n",
    ">>> sr1 = pd.Series([1, 2, 3, 4, 5]) \n",
    ">>> sr2 = pd.Series([2, 4, 6, 8, 10]) \n",
    ">>> result = sr1[~sr1.isin(sr2)] \n",
    ">>> result \n",
    " \n",
    "46. What is the difference between the two data series df[‘Name’] and   df.loc[:, \n",
    "‘Name’]? \n",
    ">>> First one is a view of the original dataframe and second one is a copy of the original \n",
    "dataframe. \n",
    " \n",
    "47. Write a Pandas program to display the most frequent value in a given series \n",
    "and replace everything else as “replaced” in the series. \n",
    " >>> import pandas as pd \n",
    ">>> import numpy as np \n",
    ">>> np.random.RandomState(100) \n",
    ">>> num_series = pd.Series(np.random.randint(1, 5, [15])) \n",
    ">>> result = num_series[~num_series.isin(num_series.value_counts().index[:1])] = \n",
    "'replaced' \n",
    " \n",
    " \n",
    "48. Write a Pandas program to find the positions of numbers that are multiples \n",
    "of 5 of a given series. \n",
    ">>> import pandas as pd \n",
    ">>> import numpy as np \n",
    ">>> num_series = pd.Series(np.random.randint(1, 10, 9)) \n",
    ">>> result = np.argwhere(num_series % 5==0) \n",
    " \n",
    "49. How will you add a column to a pandas DataFrame? \n",
    " \n",
    " \n",
    "# importing the pandas library   \n",
    ">>> import pandas as pd    \n",
    ">>> info = {'one' : pd.Series([1, 2, 3, 4, 5], index=['a', 'b', 'c', 'd', 'e']),   \n",
    "       'two' : pd.Series([1, 2, 3, 4, 5, 6], index=['a', 'b', 'c', 'd', 'e', 'f'])}   \n",
    ">>> info = pd.DataFrame(info) \n",
    "# Add a new column to an existing DataFrame object \n",
    ">>> info['three']=pd.Series([20,40,60],index=['a','b','c'])  \n",
    " \n",
    "50. How to iterate over a Pandas DataFrame? \n",
    "You can iterate over the rows of the DataFrame by using for loop in combination with an \n",
    "iterrows() call on the DataFrame. \n",
    " \n",
    " \n",
    "Python Language \n",
    " \n",
    "51. What type of language is python? Programming or scripting? \n",
    "Python is capable of scripting, but in general sense, it is considered as a general-purpose \n",
    "programming language. \n",
    "52. Is python case sensitive? \n",
    " Yes, python is a case sensitive language. \n",
    " \n",
    "53. What is a lambda function in python? \n",
    "An anonymous function is known as a lambda function. This function can have any \n",
    "number of parameters but can have just one statement. \n",
    " \n",
    "54. What is the difference between xrange and xrange in python? \n",
    "xrange and range are the exact same in terms of functionality.The only difference is that \n",
    "range returns a Python list object and x range returns an xrange object. \n",
    " \n",
    "55. What are docstrings in python? \n",
    "Docstrings are not actually comments, but they are documentation strings. These \n",
    "docstrings are within triple quotes. They are not assigned to any variable and therefore, \n",
    "at times, serve the purpose of comments as well. \n",
    " \n",
    "56. Whenever Python exits, why isn’t all the memory deallocated? \n",
    "Whenever Python exits, especially those Python modules which are having circular \n",
    "references to other objects or the objects that are referenced from the global namespaces \n",
    " \n",
    " \n",
    "are not always de-allocated or freed. It is impossible to de-allocate those portions of \n",
    "memory that are reserved by the C library. On exit, because of having its own efficient \n",
    "clean up mechanism, Python would try to de-allocate/destroy every other object. \n",
    " \n",
    "57. What does this mean: *args, **kwargs? And why would we use it? \n",
    "We use *args when we aren’t sure how many arguments are going to be passed to a \n",
    "function, or if we want to pass a stored list or tuple of arguments to a function. **kwargs is \n",
    "used when we don’t know how many keyword arguments will be passed to a function, or \n",
    "it can be used to pass the values of a dictionary as keyword arguments. \n",
    " \n",
    " \n",
    "58. What is the difference between deep and shallow copy? \n",
    "Shallow copy is used when a new instance type gets created and it keeps the values that \n",
    "are copied in the new instance. Shallow copy is used to copy the reference pointers just \n",
    "like it copies the values. \n",
    "Deep copy is used to store the values that are already copied. Deep copy doesn’t copy \n",
    "the reference pointers to the objects. It makes the reference to an object and the new \n",
    "object that is pointed by some other object gets stored. \n",
    "59. Define encapsulation in Python? \n",
    "Encapsulation means binding the code and the data together. A Python class in an \n",
    "example of encapsulation. \n",
    "60. Does python make use of access specifiers? \n",
    "Python does not deprive access to an instance variable or function. Python lays down the \n",
    "concept of prefixing the name of the variable, function or method with a single or double \n",
    "underscore to imitate the behavior of protected and private access specifiers. \n",
    " \n",
    " \n",
    " \n",
    "61. What are the generators in Python? \n",
    "Generators are a way of implementing iterators. A generator function is a normal function \n",
    "except that it contains yield expression in the function definition making it a generator \n",
    "function. \n",
    "62. How will you remove the duplicate elements from the given list? \n",
    "The set is another type available in Python. It doesn’t allow copies and provides some \n",
    "good functions to perform set operations like union, difference etc. \n",
    ">>> list(set(a)) \n",
    "63. Does Python allow arguments Pass by Value or Pass by Reference? \n",
    " \n",
    " \n",
    "Neither the arguments are Pass by Value nor does Python supports Pass by reference. \n",
    "Instead, they are Pass by assignment. The parameter which you pass is originally a \n",
    "reference to the object not the reference to a fixed memory location. But the reference is \n",
    "passed by value. Additionally, some data types like strings and tuples are immutable \n",
    "whereas others are mutable. \n",
    "64. What is slicing in Python? \n",
    "Slicing in Python is a mechanism to select a range of items from Sequence types like \n",
    "strings, list, tuple, etc. \n",
    "65. Why is the “pass” keyword used in Python? \n",
    "The “pass” keyword is a no-operation statement in Python. It signals that no action is \n",
    "required. It works as a placeholder in compound statements which are intentionally left \n",
    "blank. \n",
    "66. What is PEP8 and why is it important? \n",
    "PEP stands for Python Enhancement Proposal. A PEP is an official design document \n",
    "providing information to the Python Community, or describing a new feature for Python or \n",
    "its processes. PEP 8 is especially important since it documents the style guidelines for \n",
    "Python Code. Apparently contributing in the Python open-source community requires you \n",
    "to follow these style guidelines sincerely and strictly. \n",
    "67. What are decorators in Python? \n",
    "Decorators in Python are essentially functions that add functionality to an existing function \n",
    "in Python without changing the structure of the function itself. They are represented by the \n",
    "@decorator_name in Python and are called in bottom-up fashion \n",
    " \n",
    "68. What is the key difference between lists and tuples in python? \n",
    "The key difference between the two is that while lists are mutable, tuples on the other \n",
    "hand are immutable objects. \n",
    " \n",
    "69. What is self in Python? \n",
    "Self is a keyword in Python used to define an instance or an object of a class. In Python, \n",
    "it is explicitly used as the first parameter, unlike in Java where it is optional. It helps in \n",
    "distinguishing between the methods and attributes of a class from its local variables. \n",
    "70. What is PYTHONPATH in Python? \n",
    "PYTHONPATH is an environment variable which you can set to add additional directories \n",
    "where Python will look for modules and packages. This is especially useful in maintaining \n",
    "Python libraries that you do not wish to install in the global default location.  \n",
    "71. What is the difference between .py and .pyc files? \n",
    " \n",
    " \n",
    ".py files contain the source code of a program. Whereas, .pyc file contains the bytecode \n",
    "of your program. We get bytecode after compilation of .py file (source code). .pyc files are \n",
    "not created for all the files that you run. It is only created for the files that you import. \n",
    "  \n",
    "72. Explain how you can access a module written in Python from C? \n",
    " You can access a module written in Python from C by following method, \n",
    "Module = =PyImport_ImportModule(\"<modulename>\"); \n",
    " \n",
    "73. What is namespace in Python? \n",
    "In Python, every name introduced has a place where it lives and can be hooked for. This \n",
    "is known as namespace. It is like a box where a variable name is mapped to the object \n",
    "placed. Whenever the variable is searched out, this box will be searched, to get the \n",
    "corresponding object. \n",
    " \n",
    "74. What is pickling and unpickling? \n",
    "Pickle module accepts any Python object and converts it into a string representation and \n",
    "dumps it into a file by using the dump function, this process is called pickling. While the \n",
    "process of retrieving original Python objects from the stored string representation is called \n",
    "unpickling. \n",
    " \n",
    "75. How is Python interpreted? \n",
    "Python language is an interpreted language. The Python program runs directly from the \n",
    "source code. It converts the source code that is written by the programmer into an \n",
    "intermediate language, which is again translated into machine language that has to be \n",
    "executed. \n",
    " \n",
    " \n",
    "Jupyter Notebook \n",
    " \n",
    "76. What is the main use of a Jupyter notebook? \n",
    "Jupyter Notebook is an open-source web application that allows us to create and share \n",
    "codes and documents. It provides an environment, where you can document your code, \n",
    "run it, look at the outcome, visualize data and see the results without leaving the \n",
    "environment. \n",
    " \n",
    "77. How do I increase the cell width of the Jupyter/ipython notebook in my \n",
    "browser? \n",
    " >>> from IPython.core.display import display, HTML \n",
    ">>> display(HTML(\"<style>.container { width:100% !important; }</style>\")) \n",
    " \n",
    " \n",
    " \n",
    "78. How do I convert an IPython Notebook into a Python file via command line? \n",
    " >>> jupyter nbconvert --to script [YOUR_NOTEBOOK].ipynb \n",
    " \n",
    "79. How to measure execution time in a jupyter notebook? \n",
    " >>> %%time is inbuilt magic command \n",
    " \n",
    "80. How to run a jupyter notebook from the command line? \n",
    " >>> jupyter nbconvert --to python nb.ipynb \n",
    "  \n",
    "81. How to make inline plots larger in jupyter notebooks? \n",
    " Use figure size. \n",
    ">>> fig=plt.figure(figsize=(18, 16), dpi= 80, facecolor='w', edgecolor='k') \n",
    " \n",
    "82. How to display multiple images in a jupyter notebook? \n",
    ">>>for ima in images: \n",
    "  >>>plt.figure() \n",
    "  >>>plt.imshow(ima) \n",
    " \n",
    "83. Why is the Jupyter notebook interactive code and data exploration friendly? \n",
    "The ipywidgets package provides many common user interface controls for exploring code \n",
    "and data interactively. \n",
    " \n",
    " \n",
    "84. What is the default formatting option in jupyter notebook? \n",
    " Default formatting option is markdown \n",
    " \n",
    "85. What are kernel wrappers in jupyter? \n",
    "Jupyter brings a lightweight interface for kernel languages that can be wrapped in Python. \n",
    "Wrapper kernels can implement optional methods, notably for code completion and code \n",
    "inspection. \n",
    " \n",
    "86. What are the advantages of custom magic commands? \n",
    "Create IPython extensions with custom magic commands to make interactive computing \n",
    "even easier. Many third-party extensions and magic commands exist, for example, the \n",
    "%%cython magic that allows one to write Cython code directly in a notebook. \n",
    " \n",
    "87. Is the jupyter architecture language dependent? \n",
    " No. It is language independent. \n",
    " \n",
    " \n",
    " \n",
    "88. Which tools allow jupyter notebooks to easily convert to pdf and html? \n",
    "Nbconvert converts it to pdf and html while Nbviewer renders the notebooks on the web \n",
    "platforms. \n",
    " \n",
    "89. What is a major disadvantage of a Jupyter notebook? \n",
    " It is very hard to run long asynchronous tasks. Less Secure. \n",
    " \n",
    "90. In which domain is the jupyter notebook widely used? \n",
    " It is mainly used for data analysis and machine learning related tasks. \n",
    " \n",
    "91. What are alternatives to jupyter notebook? \n",
    " PyCharm interact, VS Code Python Interactive etc. \n",
    " \n",
    "92. Where can you make configuration changes to the jupyter notebook? \n",
    " In the config file located at ~/.ipython/profile_default/ipython_config.py \n",
    " \n",
    "93. Which magic command is used to run python code from jupyter notebook? \n",
    " %run can execute python code from .py files \n",
    " \n",
    " \n",
    " \n",
    " \n",
    " \n",
    "94. How to pass variables across the notebooks? \n",
    "The %store command lets you pass variables between two different notebooks. \n",
    ">>> data = 'this is the string I want to pass to different notebook' \n",
    ">>> %store data \n",
    "# Stored 'data' (str) \n",
    "# In new notebook \n",
    ">>> %store -r data \n",
    ">>> print(data) \n",
    " \n",
    "95. Export the contents of a cell/Show the contents of an external script \n",
    "Using the %%writefile magic saves the contents of that cell to an external file. %pycat \n",
    "does the opposite and shows you (in a popup) the syntax highlighted contents of an \n",
    "external file. \n",
    " \n",
    "96. What inbuilt tool we use for debugging python code in a jupyter notebook? \n",
    "Jupyter has its own interface for The Python Debugger (pdb). This makes it possible to go \n",
    "inside the function and investigate what happens there. \n",
    " \n",
    " \n",
    " \n",
    "97. How to make high resolution plots in a jupyter notebook? \n",
    " >>> %config InlineBackend.figure_format ='retina' \n",
    " \n",
    "98. How can one use latex in a jupyter notebook? \n",
    "When you write LaTeX in a Markdown cell, it will be rendered as a formula using MathJax. \n",
    " \n",
    "99. What is a jupyter lab? \n",
    "It is a next generation user interface for conventional jupyter notebooks. Users can drag \n",
    "and drop cells, arrange code workspace and live previews. It’s still in the early stage of \n",
    "development. \n",
    " \n",
    "100. What is the biggest limitation for a Jupyter notebook? \n",
    "Code versioning, management and debugging is not scalable in current jupyter notebook. \n",
    " \n",
    " \n",
    " \n",
    " \n",
    " \n",
    " \n",
    " \n",
    " \n",
    " \n",
    " \n",
    " \n",
    " \n",
    " \n",
    " \n",
    " \n",
    " \n",
    " \n",
    " \n",
    "References \n",
    " \n",
    "[1] https://www.edureka.co \n",
    "[2] https://www.kausalvikash.in \n",
    "[3] https://www.wisdomjobs.com \n",
    "[4] https://blog.edugrad.com \n",
    "[5]https://stackoverflow.com \n",
    "[6]http://www.ezdev.org \n",
    "[7]https://www.techbeamers.com \n",
    "[8]https://www.w3resource.com \n",
    "[9]https://www.javatpoint.com \n",
    "[10]https://analyticsindiamag.com \n",
    "[11]https://www.onlineinterviewquestions.com \n",
    "[12]https://www.geeksforgeeks.org \n",
    "[13]https://www.springpeople.com \n",
    "[14]https://atraininghub.com \n",
    "[15]https://www.interviewcake.com \n",
    "[16]https://www.techbeamers.com \n",
    "[17]https://www.tutorialspoint.com \n",
    "[18]https://programmingwithmosh.com \n",
    "[19]https://www.interviewbit.com \n",
    "[20]https://www.guru99.com \n",
    "[21]https://hub.packtpub.com \n",
    "[22]https://analyticsindiamag.com \n",
    "[23]https://www.dataquest.io \n",
    "[24]https://www.infoworld.com "
   ]
  },
  {
   "cell_type": "code",
   "execution_count": null,
   "metadata": {},
   "outputs": [],
   "source": []
  },
  {
   "cell_type": "code",
   "execution_count": null,
   "metadata": {},
   "outputs": [],
   "source": [
    "a"
   ]
  }
 ],
 "metadata": {
  "kernelspec": {
   "display_name": "Python 3",
   "language": "python",
   "name": "python3"
  },
  "language_info": {
   "codemirror_mode": {
    "name": "ipython",
    "version": 3
   },
   "file_extension": ".py",
   "mimetype": "text/x-python",
   "name": "python",
   "nbconvert_exporter": "python",
   "pygments_lexer": "ipython3",
   "version": "3.7.7"
  }
 },
 "nbformat": 4,
 "nbformat_minor": 4
}
