{
 "cells": [
  {
   "cell_type": "markdown",
   "metadata": {},
   "source": [
    "# Interview Question Series 2 "
   ]
  },
  {
   "cell_type": "markdown",
   "metadata": {},
   "source": [
    "## Python Programming - Numpy"
   ]
  },
  {
   "cell_type": "markdown",
   "metadata": {},
   "source": [
    "### 1. Why is python numpy better than lists? "
   ]
  },
  {
   "cell_type": "code",
   "execution_count": null,
   "metadata": {},
   "outputs": [],
   "source": []
  },
  {
   "cell_type": "markdown",
   "metadata": {},
   "source": [
    "<details>\n",
    "<summary>Click here for the solution</summary>\n",
    "  \n",
    "Python numpy arrays should be considered instead of a list because they are fast, consume less memory and convenient with lots of functionality. \n",
    "</details>"
   ]
  },
  {
   "cell_type": "markdown",
   "metadata": {},
   "source": [
    "### 2. Describe the map function in Python"
   ]
  },
  {
   "cell_type": "code",
   "execution_count": null,
   "metadata": {},
   "outputs": [],
   "source": []
  },
  {
   "cell_type": "markdown",
   "metadata": {},
   "source": [
    "<details>\n",
    "<summary>Click here for the solution</summary>\n",
    "\n",
    "map function executes the function given as the first argument on all the elements of the iterable given as the second argument. \n",
    "</details>"
   ]
  },
  {
   "cell_type": "markdown",
   "metadata": {},
   "source": [
    "### 3. Generate array of ‘100’ random numbers sampled from a standard normal distribution using Numpy"
   ]
  },
  {
   "cell_type": "code",
   "execution_count": null,
   "metadata": {},
   "outputs": [],
   "source": []
  },
  {
   "cell_type": "markdown",
   "metadata": {},
   "source": [
    "<details>\n",
    "<summary>Click here for the solution</summary>\n",
    "\n",
    "```python\n",
    "np.random.rand(100)\n",
    "```\n",
    "will create 100 random numbers generated from standard normal distribution with mean 0 and standard deviation 1. \n",
    "</details>"
   ]
  },
  {
   "cell_type": "markdown",
   "metadata": {},
   "source": [
    "### 4. How to count the occurrence of each value in a numpy array? "
   ]
  },
  {
   "cell_type": "code",
   "execution_count": null,
   "metadata": {},
   "outputs": [],
   "source": []
  },
  {
   "cell_type": "markdown",
   "metadata": {},
   "source": [
    "<details>\n",
    "<summary>Click here for the solution</summary>\n",
    "\n",
    "Use numpy.bincount()\n",
    "```python  \n",
    ">>> arr = numpy.array([0, 5, 5, 0, 2, 4, 3, 0, 0, 5, 4, 1, 9, 9]) \n",
    ">>> numpy.bincount(arr) \n",
    "# output:\n",
    "array([4, 1, 1, 1, 2, 3, 0, 0, 0, 2], dtype=int64)\n",
    "```\n",
    "The argument to bincount( must consist of booleans or positive integers. Negative integers are invalid. \n",
    "</details>"
   ]
  },
  {
   "cell_type": "markdown",
   "metadata": {},
   "source": [
    "### 5. Does Numpy Support Nan? "
   ]
  },
  {
   "cell_type": "code",
   "execution_count": null,
   "metadata": {},
   "outputs": [],
   "source": []
  },
  {
   "cell_type": "markdown",
   "metadata": {},
   "source": [
    "<details>\n",
    "<summary>Click here for the solution</summary>\n",
    "\n",
    "nan, short for “not a number”, is a special floating point value defined by the IEEE-754 specification. Python numpy supports nan but the definition of nan is more system dependent and some systems don't have an all round support for it like older cray and vax computers. \n",
    "</details>"
   ]
  },
  {
   "cell_type": "markdown",
   "metadata": {},
   "source": [
    "### 6. What does ravel() function in numpy do? "
   ]
  },
  {
   "cell_type": "code",
   "execution_count": null,
   "metadata": {},
   "outputs": [],
   "source": []
  },
  {
   "cell_type": "markdown",
   "metadata": {},
   "source": [
    "<details>\n",
    "<summary>Click here for the solution</summary>\n",
    "\n",
    "It combines multiple numpy arrays into a single array \n",
    "</details>"
   ]
  },
  {
   "cell_type": "markdown",
   "metadata": {},
   "source": [
    "### 7. What is the meaning of axis=0 and axis=1? "
   ]
  },
  {
   "cell_type": "code",
   "execution_count": null,
   "metadata": {},
   "outputs": [],
   "source": []
  },
  {
   "cell_type": "markdown",
   "metadata": {},
   "source": [
    "<details>\n",
    "<summary>Click here for the solution</summary>\n",
    "\n",
    "`axis=0` is meant for reading rows\n",
    "  \n",
    "`axis=1` is meant for reading columns \n",
    "</details>"
   ]
  },
  {
   "cell_type": "markdown",
   "metadata": {},
   "source": [
    "### 8. What is numpy and describe its use cases? "
   ]
  },
  {
   "cell_type": "code",
   "execution_count": null,
   "metadata": {},
   "outputs": [],
   "source": []
  },
  {
   "cell_type": "markdown",
   "metadata": {},
   "source": [
    "<details>\n",
    "<summary>Click here for the solution</summary>\n",
    "\n",
    "Numpy is a package library for Python, adding support for large, multi-dimensional arrays and matrices, along with a large collection of high level mathematical functions. In simple words, Numpy is an optimized version of Python lists like Financial functions, Linear Algebra, Statistics, Polynomials, Sorting and Searching etc. \n",
    "</details>"
   ]
  },
  {
   "cell_type": "markdown",
   "metadata": {},
   "source": [
    "### 9. How to remove from one array those items that exist in another? "
   ]
  },
  {
   "cell_type": "code",
   "execution_count": null,
   "metadata": {},
   "outputs": [],
   "source": []
  },
  {
   "cell_type": "markdown",
   "metadata": {},
   "source": [
    "<details>\n",
    "<summary>Click here for the solution</summary>\n",
    "    \n",
    "```python\n",
    ">>> a = np.array([5, 4, 3, 2, 1]) \n",
    ">>> b = np.array([4, 8, 9, 10, 1]) \n",
    "# From 'a' remove all of 'b' \n",
    ">>> np.setdiff1d(a,b) \n",
    "# Output: \n",
    "array([5, 3, 2]) \n",
    "```\n",
    "</details>"
   ]
  },
  {
   "cell_type": "markdown",
   "metadata": {},
   "source": [
    "### 10. How to sort a numpy array by a specific column in a 2D array? "
   ]
  },
  {
   "cell_type": "code",
   "execution_count": null,
   "metadata": {},
   "outputs": [],
   "source": []
  },
  {
   "cell_type": "markdown",
   "metadata": {},
   "source": [
    "<details>\n",
    "<summary>Click here for the solution</summary>\n",
    "    \n",
    "```python\n",
    "#Choose column 2 as an example \n",
    ">>> import numpy as np \n",
    ">>> arr = np.array([[1, 2, 3], [4, 5, 6], [0,0,1]]) \n",
    ">>> arr[arr[:,1].argsort()] \n",
    "# Output \n",
    "array([[0, 0, 1], [1, 2, 3], [4, 5, 6]]) \n",
    "```\n",
    "</details>"
   ]
  },
  {
   "cell_type": "markdown",
   "metadata": {},
   "source": [
    "### 11. How to reverse a numpy array in the most efficient way? "
   ]
  },
  {
   "cell_type": "code",
   "execution_count": null,
   "metadata": {},
   "outputs": [],
   "source": []
  },
  {
   "cell_type": "markdown",
   "metadata": {},
   "source": [
    "<details>\n",
    "<summary>Click here for the solution</summary>\n",
    "    \n",
    "```python\n",
    ">>> import numpy as np \n",
    ">>> arr = np.array([9, 10, 1, 2, 0]) \n",
    ">>> reverse_arr = arr[::-1]\n",
    ">>> reverse_arr\n",
    "# output\n",
    "array([ 0,  2,  1, 10,  9])\n",
    "```\n",
    "    \n",
    "</details>"
   ]
  },
  {
   "cell_type": "markdown",
   "metadata": {},
   "source": [
    "### 12. How to calculate percentiles when using numpy? "
   ]
  },
  {
   "cell_type": "code",
   "execution_count": null,
   "metadata": {},
   "outputs": [],
   "source": []
  },
  {
   "cell_type": "markdown",
   "metadata": {},
   "source": [
    "<details>\n",
    "<summary>Click here for the solution</summary>\n",
    "\n",
    "```python\n",
    ">>> import numpy as np \n",
    ">>> arr = np.array([11, 22, 33, 44 ,55 ,66, 77]) \n",
    ">>> perc = np.percentile(arr, 40) #Returns the 40th percentile \n",
    ">>> print(perc)\n",
    "# output\n",
    "37.400000000000006\n",
    "```\n",
    "</details>"
   ]
  },
  {
   "cell_type": "markdown",
   "metadata": {},
   "source": [
    "### 13. What Is The Difference Between Numpy And Scipy? "
   ]
  },
  {
   "cell_type": "code",
   "execution_count": null,
   "metadata": {},
   "outputs": [],
   "source": []
  },
  {
   "cell_type": "markdown",
   "metadata": {},
   "source": [
    "<details>\n",
    "<summary>Click here for the solution</summary>\n",
    "\n",
    "__NumPy__ would contain nothing but the array data type and the most basic operations: \n",
    "\n",
    "indexing, sorting, reshaping, basic element wise functions, et cetera. All numerical code would reside in SciPy. \n",
    "    \n",
    "__SciPy__ contains more fully-featured versions of the linear algebra modules, as well as many other numerical algorithms. \n",
    "</details>"
   ]
  },
  {
   "cell_type": "markdown",
   "metadata": {},
   "source": [
    "### 14. What Is The Preferred Way To Check For An Empty (zero Element) Array?"
   ]
  },
  {
   "cell_type": "code",
   "execution_count": null,
   "metadata": {},
   "outputs": [],
   "source": []
  },
  {
   "cell_type": "markdown",
   "metadata": {},
   "source": [
    "<details>\n",
    "<summary>Click here for the solution</summary>\n",
    "\n",
    "For a numpy array, use the size attribute. The size attribute is helpful for determining the length of numpy array: \n",
    "```python\n",
    ">>> arr = numpy.zeros((1,0)) \n",
    ">>> arr.size \n",
    "# output\n",
    "0\n",
    "```\n",
    "</details>"
   ]
  },
  {
   "cell_type": "markdown",
   "metadata": {},
   "source": [
    "### 15. What Is The Difference Between Matrices And Arrays? "
   ]
  },
  {
   "cell_type": "code",
   "execution_count": null,
   "metadata": {},
   "outputs": [],
   "source": []
  },
  {
   "cell_type": "markdown",
   "metadata": {},
   "source": [
    "<details>\n",
    "<summary>Click here for the solution</summary>\n",
    "\n",
    "Matrices can only be two-dimensional, whereas arrays can have any number of dimensions.\n",
    "</details>"
   ]
  },
  {
   "cell_type": "markdown",
   "metadata": {},
   "source": [
    "### 16. How can you find the indices of an array where a condition is true? "
   ]
  },
  {
   "cell_type": "code",
   "execution_count": null,
   "metadata": {},
   "outputs": [],
   "source": []
  },
  {
   "cell_type": "markdown",
   "metadata": {},
   "source": [
    "<details>\n",
    "<summary>Click here for the solution</summary>\n",
    "    \n",
    "Given an array a, the condition arr > 3 returns a boolean array and since False is interpreted as 0 in Python and NumPy. \n",
    "\n",
    "```python\n",
    ">>> import numpy as np \n",
    ">>> arr = np.array([[9,8,7],[6,5,4],[3,2,1]]) \n",
    ">>> arr > 3 \n",
    "array([[True, True, True], \n",
    "    [ True, True, True], \n",
    "    [False, False, False]], dtype=bool) \n",
    "```"
   ]
  },
  {
   "cell_type": "markdown",
   "metadata": {},
   "source": [
    "### 17. How to find the maximum and minimum value of a given flattened array? "
   ]
  },
  {
   "cell_type": "code",
   "execution_count": null,
   "metadata": {},
   "outputs": [],
   "source": []
  },
  {
   "cell_type": "markdown",
   "metadata": {},
   "source": [
    "<details>\n",
    "<summary>Click here for the solution</summary>\n",
    "\n",
    "```python\n",
    ">>> import numpy as np \n",
    ">>> a = np.arange(4).reshape((2,2)) \n",
    ">>> max_val = np.amax(a) \n",
    ">>> min_val = np.amin(a) \n",
    ">>> print(f\"min_val: {min_val}\")\n",
    ">>> print(f\"max_val: {max_val}\")\n",
    "min_val: 0\n",
    "max_val: 3\n",
    "```\n",
    "</details>"
   ]
  },
  {
   "cell_type": "markdown",
   "metadata": {},
   "source": [
    "### 18. Write a NumPy program to calculate the difference between the maximum and the minimum values of a given array along the second axis. "
   ]
  },
  {
   "cell_type": "code",
   "execution_count": null,
   "metadata": {},
   "outputs": [],
   "source": []
  },
  {
   "cell_type": "markdown",
   "metadata": {},
   "source": [
    "<details>\n",
    "<summary>Click here for the solution</summary>\n",
    "\n",
    "```python\n",
    ">>> import numpy as np \n",
    ">>> arr = np.arange(28).reshape((4, 7)) \n",
    ">>> res = np.ptp(arr, 1)\n",
    ">>> res\n",
    "array([6, 6, 6, 6])\n",
    "```\n",
    "</details>"
   ]
  },
  {
   "cell_type": "markdown",
   "metadata": {},
   "source": [
    "### 19. Find median of a numpy flattened array "
   ]
  },
  {
   "cell_type": "code",
   "execution_count": null,
   "metadata": {},
   "outputs": [],
   "source": []
  },
  {
   "cell_type": "markdown",
   "metadata": {},
   "source": [
    "<details>\n",
    "<summary>Click here for the solution</summary>\n",
    "\n",
    "```python\n",
    ">>> arr = np.arange(20).reshape((4, 5)) \n",
    ">>> res = np.median(arr) \n",
    ">>> res\n",
    "9.5\n",
    "```\n",
    "</details>"
   ]
  },
  {
   "cell_type": "markdown",
   "metadata": {},
   "source": [
    "### 20. Write a NumPy program to compute the mean, standard deviation, and variance of a given array along the second axis "
   ]
  },
  {
   "cell_type": "code",
   "execution_count": null,
   "metadata": {},
   "outputs": [],
   "source": []
  },
  {
   "cell_type": "markdown",
   "metadata": {},
   "source": [
    "<details>\n",
    "<summary>Click here for the solution</summary>\n",
    "\n",
    "```python\n",
    ">>> import numpy as np \n",
    ">>> x = np.arange(16) \n",
    ">>> mean = np.mean(x) \n",
    ">>> std = np.std(x) \n",
    ">>> var = np.var(x)\n",
    "```\n",
    "</details>"
   ]
  },
  {
   "cell_type": "markdown",
   "metadata": {},
   "source": [
    "### 21. Calculate covariance matrix between two numpy arrays "
   ]
  },
  {
   "cell_type": "code",
   "execution_count": null,
   "metadata": {},
   "outputs": [],
   "source": []
  },
  {
   "cell_type": "markdown",
   "metadata": {},
   "source": [
    "<details>\n",
    "<summary>Click here for the solution</summary>\n",
    "\n",
    "```python\n",
    ">>> import numpy as np \n",
    ">>> x = np.array([2, 1, 0]) \n",
    ">>> y = np.array([2, 3, 3]) \n",
    ">>> cov_arr = np.cov(x, y) \n",
    ">>> cov_arr\n",
    "array([[ 1.        , -0.5       ],\n",
    "       [-0.5       ,  0.33333333]])\n",
    "```\n",
    "</details>"
   ]
  },
  {
   "cell_type": "markdown",
   "metadata": {},
   "source": [
    "### 22. Compute Compute pearson product-moment correlation coefficients of two given numpy arrays "
   ]
  },
  {
   "cell_type": "code",
   "execution_count": null,
   "metadata": {},
   "outputs": [],
   "source": []
  },
  {
   "cell_type": "markdown",
   "metadata": {},
   "source": [
    "<details>\n",
    "<summary>Click here for the solution</summary>\n",
    "\n",
    "```python\n",
    ">>> import numpy as np \n",
    ">>> x = np.array([0, 1, 3]) \n",
    ">>> y = np.array([2, 4, 5]) \n",
    ">>> cross_corr = np.corrcoef(x, y) \n",
    "cross_corr\n",
    "array([[1.        , 0.92857143],\n",
    "       [0.92857143, 1.        ]])\n",
    "```\n",
    "</details>"
   ]
  },
  {
   "cell_type": "markdown",
   "metadata": {},
   "source": [
    "### 23. Develop a numpy program to compute the histogram of nums against the bins "
   ]
  },
  {
   "cell_type": "code",
   "execution_count": null,
   "metadata": {},
   "outputs": [],
   "source": []
  },
  {
   "cell_type": "markdown",
   "metadata": {},
   "source": [
    "<details>\n",
    "<summary>Click here for the solution</summary>\n",
    "\n",
    "```python\n",
    ">>> import numpy as np \n",
    ">>> nums = np.array([0.5, 0.7, 1.0, 1.2, 1.3, 2.1]) \n",
    ">>> bins = np.array([0, 1, 2, 3]) \n",
    ">>> np.histogram(nums, bins) \n",
    "(array([2, 3, 1], dtype=int64), array([0, 1, 2, 3]))\n",
    "```\n",
    "</details>"
   ]
  },
  {
   "cell_type": "markdown",
   "metadata": {},
   "source": [
    "### 24. Get the powers of an array values element-wise "
   ]
  },
  {
   "cell_type": "code",
   "execution_count": null,
   "metadata": {},
   "outputs": [],
   "source": []
  },
  {
   "cell_type": "markdown",
   "metadata": {},
   "source": [
    "<details>\n",
    "<summary>Click here for the solution</summary>\n",
    "\n",
    "```python\n",
    ">>> import numpy as np \n",
    ">>> x = np.arange(7) \n",
    ">>> np.power(x, 3)\n",
    "array([  0,   1,   8,  27,  64, 125, 216], dtype=int32)\n",
    "```\n",
    "</details>"
   ]
  },
  {
   "cell_type": "markdown",
   "metadata": {},
   "source": [
    "### 25. Write a NumPy program to get true division of the element-wise array inputs "
   ]
  },
  {
   "cell_type": "code",
   "execution_count": null,
   "metadata": {},
   "outputs": [],
   "source": []
  },
  {
   "cell_type": "markdown",
   "metadata": {},
   "source": [
    "<details>\n",
    "<summary>Click here for the solution</summary>\n",
    "\n",
    "```python\n",
    ">>> import numpy as np \n",
    ">>> x = np.arange(10) \n",
    ">>> np.true_divide(x, 3) \n",
    "array([0.        , 0.33333333, 0.66666667, 1.        , 1.33333333,\n",
    "       1.66666667, 2.        , 2.33333333, 2.66666667, 3.        ])\n",
    "```\n",
    "</details>"
   ]
  },
  {
   "cell_type": "markdown",
   "metadata": {},
   "source": [
    "## Pandas  "
   ]
  },
  {
   "cell_type": "markdown",
   "metadata": {},
   "source": []
  }
 ],
 "metadata": {
  "kernelspec": {
   "display_name": "Python 3",
   "language": "python",
   "name": "python3"
  },
  "language_info": {
   "codemirror_mode": {
    "name": "ipython",
    "version": 3
   },
   "file_extension": ".py",
   "mimetype": "text/x-python",
   "name": "python",
   "nbconvert_exporter": "python",
   "pygments_lexer": "ipython3",
   "version": "3.7.7"
  }
 },
 "nbformat": 4,
 "nbformat_minor": 4
}
