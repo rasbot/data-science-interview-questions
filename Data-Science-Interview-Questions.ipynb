{
 "cells": [
  {
   "cell_type": "markdown",
   "metadata": {},
   "source": [
    "# Statistics:"
   ]
  },
  {
   "cell_type": "markdown",
   "metadata": {},
   "source": [
    "### 1. What is the Central Limit Theorem and why is it important?"
   ]
  },
  {
   "cell_type": "code",
   "execution_count": null,
   "metadata": {},
   "outputs": [],
   "source": []
  },
  {
   "cell_type": "markdown",
   "metadata": {},
   "source": [
    "<details>\n",
    "<summary>Click here for the solution</summary>\n",
    "“Suppose that we are interested in estimating the average height among all people. Collecting data for\n",
    "every person in the world is impossible. While we can’t obtain a height measurement from everyone in the\n",
    "population, we can still sample some people. The question now becomes, what can we say about the\n",
    "average height of the entire population given a single sample. The Central Limit Theorem addresses this\n",
    "question exactly.”\n",
    "</details>"
   ]
  },
  {
   "cell_type": "markdown",
   "metadata": {},
   "source": [
    "### 2. What is sampling? How many sampling methods do you know?"
   ]
  },
  {
   "cell_type": "code",
   "execution_count": null,
   "metadata": {},
   "outputs": [],
   "source": []
  },
  {
   "cell_type": "markdown",
   "metadata": {},
   "source": [
    "<details>\n",
    "<summary>Click here for the solution</summary>\n",
    "“Data sampling is a statistical analysis technique used to select, manipulate and analyze a representative\n",
    "subset of data points to identify patterns and trends in the larger data set being examined.”\n",
    "</details>"
   ]
  },
  {
   "cell_type": "markdown",
   "metadata": {},
   "source": [
    "### 3. What is the difference between type I vs type II error?"
   ]
  },
  {
   "cell_type": "code",
   "execution_count": null,
   "metadata": {},
   "outputs": [],
   "source": []
  },
  {
   "cell_type": "markdown",
   "metadata": {},
   "source": [
    "<details>\n",
    "<summary>Click here for the solution</summary>\n",
    "    \n",
    "A __type I error__ occurs when the null hypothesis is true, but is rejected.\n",
    "\n",
    "A __type II error__ occurs when the null hypothesis is false, but erroneously fails to be rejected. \n",
    "</details>"
   ]
  },
  {
   "cell_type": "markdown",
   "metadata": {},
   "source": [
    "### 4. What is linear regression? What do the terms p-value, coefficient, and r-squared value mean? What is the significance of each of these components?"
   ]
  },
  {
   "cell_type": "code",
   "execution_count": null,
   "metadata": {},
   "outputs": [],
   "source": []
  },
  {
   "cell_type": "markdown",
   "metadata": {},
   "source": [
    "<details>\n",
    "<summary>Click here for the solution</summary>\n",
    "A linear regression is a good tool for quick predictive analysis: for example, the price of a house depends\n",
    "on a myriad of factors, such as its size or its location. In order to see the relationship between these\n",
    "variables, we need to build a linear regression, which predicts the line of best fit between them and can\n",
    "help conclude whether or not these two factors have a positive or negative relationship.\n",
    "</details>"
   ]
  },
  {
   "cell_type": "markdown",
   "metadata": {},
   "source": [
    "### 5. What are the assumptions required for linear regression?"
   ]
  },
  {
   "cell_type": "code",
   "execution_count": null,
   "metadata": {},
   "outputs": [],
   "source": []
  },
  {
   "cell_type": "markdown",
   "metadata": {},
   "source": [
    "<details>\n",
    "<summary>Click here for the solution</summary>\n",
    "There are four major assumptions: \n",
    "    \n",
    "1. There is a linear relationship between the dependent variables and\n",
    "the regressors, meaning the model you are creating actually fits the data, \n",
    "2. The errors or residuals of the data are normally distributed and independent from each other, \n",
    "3. There is minimal multicollinearity between explanatory variables, and 4. Homoscedasticity. This means the variance around the regression line is the same for all values of the predictor variable.\n",
    "</details>"
   ]
  },
  {
   "cell_type": "markdown",
   "metadata": {},
   "source": [
    "### 6. What is a statistical interaction?"
   ]
  },
  {
   "cell_type": "code",
   "execution_count": null,
   "metadata": {},
   "outputs": [],
   "source": []
  },
  {
   "cell_type": "markdown",
   "metadata": {},
   "source": [
    "<details>\n",
    "<summary>Click here for the solution</summary>\n",
    "”Basically, an interaction is when the effect of one factor (input variable) on the dependent variable (output\n",
    "variable) differs among levels of another factor.”\n",
    "</details>"
   ]
  },
  {
   "cell_type": "markdown",
   "metadata": {},
   "source": [
    "### 7. What is selection bias?"
   ]
  },
  {
   "cell_type": "code",
   "execution_count": null,
   "metadata": {},
   "outputs": [],
   "source": []
  },
  {
   "cell_type": "markdown",
   "metadata": {},
   "source": [
    "<details>\n",
    "<summary>Click here for the solution</summary>\n",
    "“Selection (or ‘sampling’) bias occurs in an ‘active,’ sense when the sample data that is gathered and\n",
    "prepared for modeling has characteristics that are not representative of the true, future population of cases \n",
    "the model will see. That is, active selection bias occurs when a subset of the data are systematically (i.e.,\n",
    "non-randomly) excluded from analysis.”\n",
    "</details>"
   ]
  },
  {
   "cell_type": "markdown",
   "metadata": {},
   "source": [
    "### 8. What is an example of a data set with a non-Gaussian distribution?"
   ]
  },
  {
   "cell_type": "code",
   "execution_count": null,
   "metadata": {},
   "outputs": [],
   "source": []
  },
  {
   "cell_type": "markdown",
   "metadata": {},
   "source": [
    "<details>\n",
    "<summary>Click here for the solution</summary>\n",
    "“The Gaussian distribution is part of the Exponential family of distributions, but there are a lot more of\n",
    "them, with the same sort of ease of use, in many cases, and if the person doing the machine learning has\n",
    "a solid grounding in statistics, they can be utilized where appropriate.”\n",
    "</details>"
   ]
  },
  {
   "cell_type": "markdown",
   "metadata": {},
   "source": [
    "### 9.What is the Binomial Probability Formula?"
   ]
  },
  {
   "cell_type": "code",
   "execution_count": null,
   "metadata": {},
   "outputs": [],
   "source": []
  },
  {
   "cell_type": "markdown",
   "metadata": {},
   "source": [
    "<details>\n",
    "<summary>Click here for the solution</summary>\n",
    "“The binomial distribution consists of the probabilities of each of the possible numbers of successes on N\n",
    "trials for independent events that each have a probability of π (the Greek letter pi) of occurring.”\n",
    "</details>"
   ]
  },
  {
   "cell_type": "markdown",
   "metadata": {},
   "source": [
    "# Data Science :"
   ]
  },
  {
   "cell_type": "markdown",
   "metadata": {},
   "source": [
    "### 1. What is Data Science? List the differences between supervised and unsupervised learning."
   ]
  },
  {
   "cell_type": "code",
   "execution_count": null,
   "metadata": {},
   "outputs": [],
   "source": []
  },
  {
   "cell_type": "markdown",
   "metadata": {},
   "source": [
    "<details>\n",
    "<summary>Click here for the solution</summary>\n",
    "Data Science is a blend of various tools, algorithms, and machine learning principles with the goal to discover\n",
    "hidden patterns from the raw data. How is this different from what statisticians have been doing for years?\n",
    "The answer lies in the difference between explaining and predicting.\n",
    "    \n",
    "<p align=\"center\">\n",
    "  <img src=\"https://raw.githubusercontent.com/rasbot/data-science-interview-questions/master/Images/ds1a.PNG\" width=\"450\" height=\"auto\"/>\n",
    "</p>\n",
    "    \n",
    "The differences between supervised and unsupervised learning are as follows;\n",
    "    \n",
    "<p align=\"center\">\n",
    "  <img src=\"https://raw.githubusercontent.com/rasbot/data-science-interview-questions/master/Images/ds1b.PNG\" width=\"850\" height=\"auto\"/>\n",
    "</p>\n",
    "</details>\n"
   ]
  },
  {
   "cell_type": "markdown",
   "metadata": {},
   "source": [
    "### Q2. What is Selection Bias?"
   ]
  },
  {
   "cell_type": "code",
   "execution_count": null,
   "metadata": {},
   "outputs": [],
   "source": []
  },
  {
   "cell_type": "markdown",
   "metadata": {},
   "source": [
    "<details>\n",
    "<summary>Click here for the solution</summary>\n",
    "Selection bias is a kind of error that occurs when the researcher decides who is going to be studied. It is\n",
    "usually associated with research where the selection of participants isn’t random. It is sometimes referred to \n",
    "as the selection effect. It is the distortion of statistical analysis, resulting from the method of collecting\n",
    "samples. If the selection bias is not taken into account, then some conclusions of the study may not be\n",
    "accurate.\n",
    "\n",
    "The types of selection bias include:\n",
    "1. __Sampling bias:__ It is a systematic error due to a non-random sample of a population causing some members of the population to be less likely to be included than others resulting in a biased sample.\n",
    "2. __Time interval:__ A trial may be terminated early at an extreme value (often for ethical reasons), but the extreme value is likely to be reached by the variable with the largest variance, even if all variables have a similar mean.\n",
    "3. __Data:__ When specific subsets of data are chosen to support a conclusion or rejection of bad data on arbitrary grounds, instead of according to previously stated or generally agreed criteria.\n",
    "4. __Attrition:__ Attrition bias is a kind of selection bias caused by attrition (loss of participants) discounting trial subjects/tests that did not run to completion.\n",
    "</details>"
   ]
  },
  {
   "cell_type": "markdown",
   "metadata": {},
   "source": [
    "### Q3. What is bias-variance trade-off?"
   ]
  },
  {
   "cell_type": "code",
   "execution_count": null,
   "metadata": {},
   "outputs": [],
   "source": []
  },
  {
   "cell_type": "markdown",
   "metadata": {},
   "source": [
    "<details>\n",
    "<summary>Click here for the solution</summary>\n",
    "    \n",
    "__Bias:__ Bias is an error introduced in your model due to oversimplification of the machine learning algorithm.\n",
    "It can lead to underfitting. When you train your model at that time model makes simplified assumptions to\n",
    "make the target function easier to understand.\n",
    "Low bias machine learning algorithms — Decision Trees, k-NN and SVM High bias machine learning\n",
    "algorithms — Linear Regression, Logistic Regression\n",
    "\n",
    "__Variance:__ Variance is error introduced in your model due to complex machine learning algorithm, your model\n",
    "learns noise also from the training data set and performs badly on test data set. It can lead to high sensitivity\n",
    "and overfitting.\n",
    "\n",
    "Normally, as you increase the complexity of your model, you will see a reduction in error due to lower bias\n",
    "in the model. However, this only happens until a particular point. As you continue to make your model more\n",
    "complex, you end up over-fitting your model and hence your model will start suffering from high variance.\n",
    "    \n",
    "<p align=\"center\">\n",
    "  <img src=\"https://raw.githubusercontent.com/rasbot/data-science-interview-questions/master/Images/ds3.PNG\" width=\"450\" height=\"auto\"/>\n",
    "</p>\n",
    "\n",
    "__Bias-Variance trade-off:__ The goal of any supervised machine learning algorithm is to have low bias and\n",
    "low variance to achieve good prediction performance.\n",
    "\n",
    "1. The k-nearest neighbour algorithm has low bias and high variance, but the trade-off can be changed by increasing the value of k which increases the number of neighbours that contribute to the prediction and in turn increases the bias of the model.\n",
    "\n",
    "2. The support vector machine algorithm has low bias and high variance, but the trade-off can be changed by increasing the C parameter that influences the number of violations of the margin allowed in the training data which increases the bias but decreases the variance.\n",
    "\n",
    "There is no escaping the relationship between bias and variance in machine learning. Increasing the bias\n",
    "will decrease the variance. Increasing the variance will decrease bias.\n",
    "</details>"
   ]
  },
  {
   "cell_type": "markdown",
   "metadata": {},
   "source": [
    "### Q4. What is a confusion matrix?"
   ]
  },
  {
   "cell_type": "code",
   "execution_count": null,
   "metadata": {},
   "outputs": [],
   "source": []
  },
  {
   "cell_type": "markdown",
   "metadata": {},
   "source": [
    "<details>\n",
    "<summary>Click here for the solution</summary>\n",
    "The confusion matrix is a 2X2 table that contains 4 outputs provided by the binary classifier. Various\n",
    "measures, such as error-rate, accuracy, specificity, sensitivity, precision and recall are derived from\n",
    "it. \n",
    "    \n",
    "*Confusion Matrix*\n",
    "\n",
    "<p align=\"center\">\n",
    "  <img src=\"https://raw.githubusercontent.com/rasbot/data-science-interview-questions/master/Images/dsq4a.PNG\" width=\"250\" height=\"auto\"/>\n",
    "</p>\n",
    "    \n",
    "A data set used for performance evaluation is called a __test data set__. It should contain the correct labels and\n",
    "predicted labels.\n",
    "    \n",
    "<p align=\"center\">\n",
    "  <img src=\"https://raw.githubusercontent.com/rasbot/data-science-interview-questions/master/Images/dsq4b.PNG\" width=\"350\" height=\"auto\"/>\n",
    "</p>\n",
    "    \n",
    "The predicted labels will exactly the same if the performance of a binary classifier is perfect.\n",
    "    \n",
    "<p align=\"center\">\n",
    "  <img src=\"https://raw.githubusercontent.com/rasbot/data-science-interview-questions/master/Images/dsq4c.PNG\" width=\"450\" height=\"auto\"/>\n",
    "</p>\n",
    "    \n",
    "The predicted labels usually match with part of the observed labels in real-world scenarios.\n",
    "    \n",
    "<p align=\"center\">\n",
    "  <img src=\"https://raw.githubusercontent.com/rasbot/data-science-interview-questions/master/Images/dsq4d.PNG\" width=\"450\" height=\"auto\"/>\n",
    "</p>\n",
    "    \n",
    "A binary classifier predicts all data instances of a test data set as either positive or negative. This produces\n",
    "four outcomes\n",
    "    \n",
    "1. True-positive(TP) — Correct positive prediction\n",
    "2. False-positive(FP) — Incorrect positive prediction\n",
    "3. True-negative(TN) — Correct negative prediction\n",
    "4. False-negative(FN) — Incorrect negative prediction\n",
    "    \n",
    "<p align=\"center\">\n",
    "  <img src=\"https://raw.githubusercontent.com/rasbot/data-science-interview-questions/master/Images/dsq4e.PNG\" width=\"450\" height=\"auto\"/>\n",
    "</p>\n",
    "    \n",
    "Basic measures derived from the confusion matrix\n",
    "    \n",
    "1. Error Rate = (FP+FN)/(P+N)\n",
    "2. Accuracy = (TP+TN)/(P+N)\n",
    "3. Sensitivity(Recall or True positive rate) = TP/P\n",
    "4. Specificity(True negative rate) = TN/N\n",
    "5. Precision(Positive predicted value) = TP/(TP+FP)\n",
    "6. F-Score(Harmonic mean of precision and recall) = (1+b)(PREC.REC)/(b²PREC+REC) where b is\n",
    "commonly 0.5, 1, 2.\n",
    "</details>"
   ]
  },
  {
   "cell_type": "markdown",
   "metadata": {},
   "source": [
    "### Q5. What is the difference between “long” and “wide” format data?"
   ]
  },
  {
   "cell_type": "code",
   "execution_count": null,
   "metadata": {},
   "outputs": [],
   "source": []
  },
  {
   "cell_type": "markdown",
   "metadata": {},
   "source": [
    "<details>\n",
    "<summary>Click here for the solution</summary>\n",
    "In the wide-format, a subject’s repeated responses will be in a single row, and each response is in a\n",
    "separate column. In the long-format, each row is a one-time point per subject. You can recognize data in\n",
    "wide format by the fact that columns generally represent groups.\n",
    "    \n",
    "<p align=\"center\">\n",
    "  <img src=\"https://raw.githubusercontent.com/rasbot/data-science-interview-questions/master/Images/ds5.PNG\" width=\"550\" height=\"auto\"/>\n",
    "</p>\n",
    "    \n",
    "</details>"
   ]
  },
  {
   "cell_type": "markdown",
   "metadata": {},
   "source": [
    "### Q6. What do you understand by the term Normal Distribution?"
   ]
  },
  {
   "cell_type": "code",
   "execution_count": null,
   "metadata": {},
   "outputs": [],
   "source": []
  },
  {
   "cell_type": "markdown",
   "metadata": {},
   "source": [
    "<details>\n",
    "<summary>Click here for the solution</summary>\n",
    "Data is usually distributed in different ways with a bias to the left or to the right or it can all be jumbled up.\n",
    "However, there are chances that data is distributed around a central value without any bias to the left or right\n",
    "and reaches normal distribution in the form of a bell-shaped curve.\n",
    "    \n",
    "<p align=\"center\">\n",
    "  <img src=\"https://raw.githubusercontent.com/rasbot/data-science-interview-questions/master/Images/q6.png\" width=\"350\" height=\"auto\"/>\n",
    "</p>\n",
    "    \n",
    "The random variables are distributed in the form of a symmetrical, bell-shaped curve.\n",
    "Properties of Normal Distribution are as follows;\n",
    "1. Unimodal -one mode\n",
    "2. Symmetrical -left and right halves are mirror images\n",
    "3. Bell-shaped -maximum height (mode) at the mean\n",
    "4. Mean, Mode, and Median are all located in the center\n",
    "5. Asymptotic\n",
    "</details>"
   ]
  },
  {
   "cell_type": "markdown",
   "metadata": {},
   "source": [
    "### Q7. What is correlation and covariance in statistics?"
   ]
  },
  {
   "cell_type": "code",
   "execution_count": null,
   "metadata": {},
   "outputs": [],
   "source": []
  },
  {
   "cell_type": "markdown",
   "metadata": {},
   "source": [
    "<details>\n",
    "<summary>Click here for the solution</summary>\n",
    "Covariance and Correlation are two mathematical concepts; these two approaches are widely used in\n",
    "statistics. Both Correlation and Covariance establish the relationship and also measure the dependency\n",
    "between two random variables. Though the work is similar between these two in mathematical terms, they\n",
    "are different from each other.\n",
    "\n",
    "<p align=\"center\">\n",
    "  <img src=\"https://raw.githubusercontent.com/rasbot/data-science-interview-questions/master/Images/q7.PNG\" width=\"350\" height=\"auto\"/>\n",
    "</p>\n",
    "\n",
    "__Correlation:__ Correlation is considered or described as the best technique for measuring and also for estimating the\n",
    "quantitative relationship between two variables. Correlation measures how strongly two variables are\n",
    "related.\n",
    "\n",
    "__Covariance:__ In covariance two items vary together and it’s a measure that indicates the extent to which two\n",
    "random variables change in cycle. It is a statistical term; it explains the systematic relation between a pair of\n",
    "random variables, wherein changes in one variable reciprocal by a corresponding change in another\n",
    "variable.\n",
    "</details>"
   ]
  },
  {
   "cell_type": "markdown",
   "metadata": {},
   "source": [
    "### Q8. What is the difference between Point Estimates and Confidence Interval?"
   ]
  },
  {
   "cell_type": "code",
   "execution_count": null,
   "metadata": {},
   "outputs": [],
   "source": []
  },
  {
   "cell_type": "markdown",
   "metadata": {},
   "source": [
    "<details>\n",
    "<summary>Click here for the solution</summary>\n",
    "Point Estimation gives us a particular value as an estimate of a population parameter. Method of Moments\n",
    "and Maximum Likelihood estimator methods are used to derive Point Estimators for population parameters.\n",
    "A confidence interval gives us a range of values which is likely to contain the population parameter. The\n",
    "confidence interval is generally preferred, as it tells us how likely this interval is to contain the population\n",
    "parameter. This likeliness or probability is called Confidence Level or Confidence coefficient and represented\n",
    "by 1 — alpha, where alpha is the level of significance.\n",
    "</details>"
   ]
  },
  {
   "cell_type": "markdown",
   "metadata": {},
   "source": [
    "### Q9. What is the goal of A/B Testing?"
   ]
  },
  {
   "cell_type": "code",
   "execution_count": null,
   "metadata": {},
   "outputs": [],
   "source": []
  },
  {
   "cell_type": "markdown",
   "metadata": {},
   "source": [
    "<details>\n",
    "<summary>Click here for the solution</summary>\n",
    "It is a hypothesis testing for a randomized experiment with two variables A and B.\n",
    "The goal of A/B Testing is to identify any changes to the web page to maximize or increase the outcome of\n",
    "interest. A/B testing is a fantastic method for figuring out the best online promotional and marketing strategies\n",
    "for your business. It can be used to test everything from website copy to sales emails to search ads.\n",
    "An example of this could be identifying the click-through rate for a banner ad.\n",
    "</details>"
   ]
  },
  {
   "cell_type": "markdown",
   "metadata": {},
   "source": [
    "### Q10. What is p-value?"
   ]
  },
  {
   "cell_type": "code",
   "execution_count": null,
   "metadata": {},
   "outputs": [],
   "source": []
  },
  {
   "cell_type": "markdown",
   "metadata": {},
   "source": [
    "<details>\n",
    "<summary>Click here for the solution</summary>\n",
    "When you perform a hypothesis test in statistics, a p-value can help you determine the strength of your\n",
    "results. p-value is a number between 0 and 1. Based on the value it will denote the strength of the results.\n",
    "The claim which is on trial is called the Null Hypothesis.\n",
    "    \n",
    "Low p-value (≤ 0.05) indicates strength against the null hypothesis which means we can reject the null\n",
    "Hypothesis. High p-value (≥ 0.05) indicates strength for the null hypothesis which means we can accept the\n",
    "null Hypothesis p-value of 0.05 indicates the Hypothesis could go either way. To put it in another way,\n",
    "    \n",
    "High P values: your data are likely with a true null. Low P values: your data are unlikely with a true null.\n",
    "</details>"
   ]
  },
  {
   "cell_type": "markdown",
   "metadata": {},
   "source": [
    "### Q11. In any 15-minute interval, there is a 20% probability that you will see at least one shooting star."
   ]
  },
  {
   "cell_type": "code",
   "execution_count": null,
   "metadata": {},
   "outputs": [],
   "source": []
  },
  {
   "cell_type": "markdown",
   "metadata": {},
   "source": [
    "<details>\n",
    "<summary>Click here for the solution</summary>\n",
    "What is the probability that you see at least one shooting star in the period of an hour?\n",
    "    \n",
    "Probability of not seeing any shooting star in 15 minutes is\n",
    "    \n",
    "$= 1 – P(seeing\\ one\\ shooting\\ star)$\n",
    "    \n",
    "$= 1 – 0.2 = 0.8$\n",
    "    \n",
    "Probability of not seeing any shooting star in the period of one hour\n",
    "    \n",
    "$= (0.8)^{4} = 0.4096$\n",
    "    \n",
    "Probability of seeing at least one shooting star in the one hour\n",
    "    \n",
    "$= 1 – P(not\\ seeing\\ any\\ star)$\n",
    "    \n",
    "$= 1 – 0.4096 = 0.5904$\n",
    "</details>"
   ]
  },
  {
   "cell_type": "markdown",
   "metadata": {},
   "source": [
    "### Q12. How can you generate a random number between 1 – 7 with only a die?"
   ]
  },
  {
   "cell_type": "code",
   "execution_count": null,
   "metadata": {},
   "outputs": [],
   "source": []
  },
  {
   "cell_type": "markdown",
   "metadata": {},
   "source": [
    "<details>\n",
    "<summary>Click here for the solution</summary>\n",
    "    \n",
    "• Any die has six sides from 1-6. There is no way to get seven equal outcomes from a single rolling of a die. If we roll the die twice and consider the event of two rolls, we now have 36 different outcomes.\n",
    "    \n",
    "• To get our 7 equal outcomes we have to reduce this 36 to a number divisible by 7. We can thus consider only 35 outcomes and exclude the other one.\n",
    "    \n",
    "• A simple scenario can be to exclude the combination (6,6), i.e., to roll the die again if 6 appears twice.\n",
    "    \n",
    "• All the remaining combinations from (1,1) till (6,5) can be divided into 7 parts of 5 each. This way all the seven sets of outcomes are equally likely.\n",
    "    \n",
    "</details>"
   ]
  },
  {
   "cell_type": "markdown",
   "metadata": {},
   "source": [
    "### Q13. A certain couple tells you that they have two children, at least one of which is a girl. What is the probability that they have two girls?"
   ]
  },
  {
   "cell_type": "code",
   "execution_count": null,
   "metadata": {},
   "outputs": [],
   "source": []
  },
  {
   "cell_type": "markdown",
   "metadata": {},
   "source": [
    "<details>\n",
    "<summary>Click here for the solution</summary>\n",
    "    \n",
    "In the case of two children, there are 4 equally likely possibilities\n",
    "    \n",
    "__BB__, __BG__, __GB__ and __GG__;\n",
    "    \n",
    "where __B__ = Boy and __G__ = Girl and the first letter denotes the first child.\n",
    "    \n",
    "From the question, we can exclude the first case of BB. Thus from the remaining 3 possibilities of BG, GB & BB, we have to find the probability of the case with two girls.\n",
    "    \n",
    "Thus, $P(having\\ two\\ girls\\ given\\ one\\ girl) = 1 / 3$\n",
    "    \n",
    "</details>"
   ]
  },
  {
   "cell_type": "markdown",
   "metadata": {},
   "source": [
    "### Q14. A jar has 1000 coins, of which 999 are fair and 1 is double headed. Pick a coin at random, and toss it 10 times. Given that you see 10 heads, what is the probability that the next toss of that coin is also a head?"
   ]
  },
  {
   "cell_type": "markdown",
   "metadata": {},
   "source": [
    "<details>\n",
    "<summary>Click here for the solution</summary>\n",
    "There are two ways of choosing the coin. One is to pick a fair coin and the other is to pick the one with two\n",
    "heads.\n",
    "    \n",
    "Probability of selecting fair coin $= \\frac{999}{1000} = 0.999$\n",
    "    \n",
    "Probability of selecting unfair coin $= \\frac{1}{1000} = 0.001$\n",
    "    \n",
    "Selecting 10 heads in a row = Selecting fair coin $\\cdot$ Getting 10 heads + Selecting an unfair coin\n",
    "    \n",
    "$P(A) = 0.999 \\cdot (1/2)^5 = 0.999 \\cdot (1/1024) = 0.000976$\n",
    "    \n",
    "$P(B) = 0.001 \\cdot 1 = 0.001$\n",
    "    \n",
    "$P( \\frac{A}{A + B}) = \\frac{0.000976}{(0.000976 + 0.001)} = 0.4939$\n",
    "    \n",
    "$P( \\frac{B}{A + B}) = \\frac{0.001}{0.001976} = 0.5061$\n",
    "    \n",
    "Probability of selecting another head $= P(A/A+B) * 0.5 + P(B/A+B) * 1 = 0.4939 * 0.5 + 0.5061 = 0.7531$\n",
    "</details>"
   ]
  },
  {
   "cell_type": "markdown",
   "metadata": {},
   "source": [
    "### Q15. What do you understand by statistical power of sensitivity and how do you calculate it?"
   ]
  },
  {
   "cell_type": "code",
   "execution_count": null,
   "metadata": {},
   "outputs": [],
   "source": []
  },
  {
   "cell_type": "markdown",
   "metadata": {},
   "source": [
    "<details>\n",
    "<summary>Click here for the solution</summary>\n",
    "Sensitivity is commonly used to validate the accuracy of a classifier (Logistic, SVM, Random Forest etc.).\n",
    "    \n",
    "Sensitivity is nothing but “$\\frac{Predicted\\ True\\ events}{Total\\ events}$”. True events here are the events which were true and model also predicted them as true.\n",
    "    \n",
    "Calculation of seasonality is pretty straightforward.\n",
    "    \n",
    "$Seasonality =\\frac{True\\ Positives}{Positives\\ in\\ Actual\\ Dependent\\ Variable}$\n",
    "    \n",
    "</details>"
   ]
  },
  {
   "cell_type": "markdown",
   "metadata": {},
   "source": [
    "### Q16. Why Is Re-sampling Done?"
   ]
  },
  {
   "cell_type": "code",
   "execution_count": null,
   "metadata": {},
   "outputs": [],
   "source": []
  },
  {
   "cell_type": "markdown",
   "metadata": {},
   "source": [
    "<details>\n",
    "<summary>Click here for the solution</summary>\n",
    "Resampling is done in any of these cases:\n",
    "    \n",
    "• Estimating the accuracy of sample statistics by using subsets of accessible data or drawing randomly with replacement from a set of data points\n",
    "    \n",
    "• Substituting labels on data points when performing significance tests\n",
    "    \n",
    "• Validating models by using random subsets (bootstrapping, cross-validation)\n",
    "    \n",
    "</details>"
   ]
  },
  {
   "cell_type": "markdown",
   "metadata": {},
   "source": [
    "### Q17. What are the differences between over-fitting and under-fitting?"
   ]
  },
  {
   "cell_type": "code",
   "execution_count": null,
   "metadata": {},
   "outputs": [],
   "source": []
  },
  {
   "cell_type": "markdown",
   "metadata": {},
   "source": [
    "<details>\n",
    "<summary>Click here for the solution</summary>\n",
    "In statistics and machine learning, one of the most common tasks is to fit a model to a set of training data,\n",
    "so as to be able to make reliable predictions on general untrained data.\n",
    "    \n",
    "<p align=\"center\">\n",
    "  <img src=\"https://raw.githubusercontent.com/rasbot/data-science-interview-questions/master/Images/q17.PNG\" width=\"450\" height=\"auto\"/>\n",
    "</p>\n",
    "\n",
    "In __overfitting__, a statistical model describes random error or noise instead of the underlying relationship.\n",
    "Overfitting occurs when a model is excessively complex, such as having too many parameters relative to\n",
    "the number of observations. A model that has been overfitted, has poor predictive performance, as it\n",
    "overreacts to minor fluctuations in the training data.\n",
    "    \n",
    "__Underfitting__ occurs when a statistical model or machine learning algorithm cannot capture the underlying\n",
    "trend of the data. Underfitting would occur, for example, when fitting a linear model to non-linear data. Such\n",
    "a model too would have poor predictive performance.\n",
    "</details>"
   ]
  },
  {
   "cell_type": "markdown",
   "metadata": {},
   "source": [
    "### Q18. How to combat Overfitting and Underfitting?"
   ]
  },
  {
   "cell_type": "code",
   "execution_count": null,
   "metadata": {},
   "outputs": [],
   "source": []
  },
  {
   "cell_type": "markdown",
   "metadata": {},
   "source": [
    "<details>\n",
    "<summary>Click here for the solution</summary>\n",
    "To combat overfitting and underfitting, you can resample the data to estimate the model accuracy (k-fold\n",
    "cross-validation) and by having a validation dataset to evaluate the model.\n",
    "</details>"
   ]
  },
  {
   "cell_type": "markdown",
   "metadata": {},
   "source": [
    "### Q19. What is regularisation? Why is it useful?"
   ]
  },
  {
   "cell_type": "code",
   "execution_count": null,
   "metadata": {},
   "outputs": [],
   "source": []
  },
  {
   "cell_type": "markdown",
   "metadata": {},
   "source": [
    "<details>\n",
    "<summary>Click here for the solution</summary>\n",
    "Data Scientist Masters Program\n",
    "Explore Curriculum\n",
    "Regularisation is the process of adding tuning parameter to a model to induce smoothness in order to prevent\n",
    "overfitting. This is most often done by adding a constant multiple to an existing weight vector. This constant\n",
    "is often the L1(Lasso) or L2(ridge). The model predictions should then minimize the loss function calculated\n",
    "on the regularized training set.\n",
    "</details>"
   ]
  },
  {
   "cell_type": "markdown",
   "metadata": {},
   "source": [
    "### Q20. What Is the Law of Large Numbers?"
   ]
  },
  {
   "cell_type": "code",
   "execution_count": null,
   "metadata": {},
   "outputs": [],
   "source": []
  },
  {
   "cell_type": "markdown",
   "metadata": {},
   "source": [
    "<details>\n",
    "<summary>Click here for the solution</summary>\n",
    "It is a theorem that describes the result of performing the same experiment a large number of times. This\n",
    "theorem forms the basis of frequency-style thinking. It says that the sample means, the sample variance\n",
    "and the sample standard deviation converge to what they are trying to estimate.\n",
    "</details>"
   ]
  },
  {
   "cell_type": "markdown",
   "metadata": {},
   "source": [
    "### Q21. What Are Confounding Variables?"
   ]
  },
  {
   "cell_type": "code",
   "execution_count": null,
   "metadata": {},
   "outputs": [],
   "source": []
  },
  {
   "cell_type": "markdown",
   "metadata": {},
   "source": [
    "<details>\n",
    "<summary>Click here for the solution</summary>\n",
    "In statistics, a confounder is a variable that influences both the dependent variable and independent variable.\n",
    "For example, if you are researching whether a lack of exercise leads to weight gain,\n",
    "lack of exercise = independent variable\n",
    "weight gain = dependent variable.\n",
    "A confounding variable here would be any other variable that affects both of these variables, such as the age\n",
    "of the subject.\n",
    "</details>"
   ]
  },
  {
   "cell_type": "markdown",
   "metadata": {},
   "source": [
    "### Q22. What Are the Types of Biases That Can Occur During Sampling?"
   ]
  },
  {
   "cell_type": "code",
   "execution_count": null,
   "metadata": {},
   "outputs": [],
   "source": []
  },
  {
   "cell_type": "markdown",
   "metadata": {},
   "source": [
    "<details>\n",
    "<summary>Click here for the solution</summary>\n",
    "• Selection bias\n",
    "    \n",
    "• Under coverage bias\n",
    "    \n",
    "• Survivorship bias\n",
    "    \n",
    "</details>"
   ]
  },
  {
   "cell_type": "markdown",
   "metadata": {},
   "source": [
    "### Q23. What is Survivorship Bias?"
   ]
  },
  {
   "cell_type": "code",
   "execution_count": null,
   "metadata": {},
   "outputs": [],
   "source": []
  },
  {
   "cell_type": "markdown",
   "metadata": {},
   "source": [
    "<details>\n",
    "<summary>Click here for the solution</summary>\n",
    "It is the logical error of focusing aspects that support surviving some process and casually overlooking those\n",
    "that did not work because of their lack of prominence. This can lead to wrong conclusions in numerous\n",
    "different means.\n",
    "</details>"
   ]
  },
  {
   "cell_type": "markdown",
   "metadata": {},
   "source": [
    "### Q24. What is selection Bias?"
   ]
  },
  {
   "cell_type": "code",
   "execution_count": null,
   "metadata": {},
   "outputs": [],
   "source": []
  },
  {
   "cell_type": "markdown",
   "metadata": {},
   "source": [
    "<details>\n",
    "<summary>Click here for the solution</summary>\n",
    "Selection bias occurs when the sample obtained is not representative of the population intended to be\n",
    "analysed.\n",
    "</details>"
   ]
  },
  {
   "cell_type": "markdown",
   "metadata": {},
   "source": [
    "### Q25. Explain how a ROC curve works?"
   ]
  },
  {
   "cell_type": "code",
   "execution_count": null,
   "metadata": {},
   "outputs": [],
   "source": []
  },
  {
   "cell_type": "markdown",
   "metadata": {},
   "source": [
    "<details>\n",
    "<summary>Click here for the solution</summary>\n",
    "The ROC curve is a graphical representation of the contrast between true positive rates and false-positive\n",
    "rates at various thresholds. It is often used as a proxy for the trade-off between the sensitivity(true positive\n",
    "rate) and false-positive rate.\n",
    "    \n",
    "<p align=\"center\">\n",
    "  <img src=\"https://raw.githubusercontent.com/rasbot/data-science-interview-questions/master/Images/p25.PNG\" width=\"450\" height=\"auto\"/>\n",
    "</p>\n",
    "    \n",
    "</details>"
   ]
  },
  {
   "cell_type": "markdown",
   "metadata": {},
   "source": [
    "### Q26. What is TF/IDF vectorization?"
   ]
  },
  {
   "cell_type": "code",
   "execution_count": null,
   "metadata": {},
   "outputs": [],
   "source": []
  },
  {
   "cell_type": "markdown",
   "metadata": {},
   "source": [
    "<details>\n",
    "<summary>Click here for the solution</summary>\n",
    "TF–IDF is short for term frequency-inverse document frequency, is a numerical statistic that is intended to\n",
    "reflect how important a word is to a document in a collection or corpus. It is often used as a weighting factor\n",
    "in information retrieval and text mining.\n",
    "    \n",
    "The TF–IDF value increases proportionally to the number of times a word appears in the document but is\n",
    "offset by the frequency of the word in the corpus, which helps to adjust for the fact that some words appear\n",
    "more frequently in general.\n",
    "</details>"
   ]
  },
  {
   "cell_type": "markdown",
   "metadata": {},
   "source": [
    "### Q27. Why we generally use Softmax non-linearity function as last operation in-network?"
   ]
  },
  {
   "cell_type": "code",
   "execution_count": null,
   "metadata": {},
   "outputs": [],
   "source": []
  },
  {
   "cell_type": "markdown",
   "metadata": {},
   "source": [
    "<details>\n",
    "<summary>Click here for the solution</summary>\n",
    "It is because it takes in a vector of real numbers and returns a probability distribution. Its definition is as\n",
    "follows. Let x be a vector of real numbers (positive, negative, whatever, there are no constraints).\n",
    "Then the i’th component of Softmax(x) is —\n",
    "    \n",
    "<p align=\"center\">\n",
    "  <img src=\"https://raw.githubusercontent.com/rasbot/data-science-interview-questions/master/Images/p27.PNG\" width=\"450\" height=\"auto\"/>\n",
    "</p>\n",
    "    \n",
    "It should be clear that the output is a probability distribution: each element is non-negative and the sum over\n",
    "all components is 1.\n",
    "</details>"
   ]
  },
  {
   "cell_type": "markdown",
   "metadata": {},
   "source": [
    "# DATA ANALYSIS INTERVIEW QUESTIONS"
   ]
  },
  {
   "cell_type": "markdown",
   "metadata": {},
   "source": [
    "### Q28. Python or R – Which one would you prefer for text analytics?"
   ]
  },
  {
   "cell_type": "code",
   "execution_count": null,
   "metadata": {},
   "outputs": [],
   "source": []
  },
  {
   "cell_type": "markdown",
   "metadata": {},
   "source": [
    "<details>\n",
    "<summary>Click here for the solution</summary>\n",
    "We will prefer Python because of the following reasons:\n",
    "    \n",
    "• <span style=\"color:blue\">__Python__</span> would be the best option because it has Pandas library that provides easy to use data structures and high-performance data analysis tools.\n",
    "    \n",
    "• <span style=\"color:blue\">__R__</span> is more suitable for machine learning than just text analysis.\n",
    "    \n",
    "• Python performs faster for all types of text analytics.\n",
    "</details>"
   ]
  },
  {
   "cell_type": "markdown",
   "metadata": {},
   "source": [
    "### Q29. How does data cleaning plays a vital role in the analysis?"
   ]
  },
  {
   "cell_type": "code",
   "execution_count": null,
   "metadata": {},
   "outputs": [],
   "source": []
  },
  {
   "cell_type": "markdown",
   "metadata": {},
   "source": [
    "<details>\n",
    "<summary>Click here for the solution</summary>\n",
    "Data cleaning can help in analysis because:\n",
    "    \n",
    "• Cleaning data from multiple sources helps to transform it into a format that data analysts or data\n",
    "scientists can work with.\n",
    "    \n",
    "• Data Cleaning helps to increase the accuracy of the model in machine learning.\n",
    "    \n",
    "• It is a cumbersome process because as the number of data sources increases, the time taken to\n",
    "clean the data increases exponentially due to the number of sources and the volume of data\n",
    "generated by these sources.\n",
    "    \n",
    "• It might take up to 80% of the time for just cleaning data making it a critical part of the analysis task.\n",
    "    \n",
    "</details>"
   ]
  },
  {
   "cell_type": "markdown",
   "metadata": {},
   "source": [
    "### Q30. Differentiate between univariate, bivariate and multivariate analysis."
   ]
  },
  {
   "cell_type": "code",
   "execution_count": null,
   "metadata": {},
   "outputs": [],
   "source": []
  },
  {
   "cell_type": "markdown",
   "metadata": {},
   "source": [
    "<details>\n",
    "<summary>Click here for the solution</summary>\n",
    "    \n",
    "__Univariate__ analyses are descriptive statistical analysis techniques which can be differentiated based on the\n",
    "number of variables involved at a given point of time. For example, the pie charts of sales based on territory\n",
    "involve only one variable and can the analysis can be referred to as univariate analysis.\n",
    "    \n",
    "The __bivariate__ analysis attempts to understand the difference between two variables at a time as in a\n",
    "scatterplot. For example, analyzing the volume of sale and spending can be considered as an example of\n",
    "bivariate analysis.\n",
    "    \n",
    "__Multivariate__ analysis deals with the study of more than two variables to understand the effect of variables\n",
    "on the responses.\n",
    "</details>"
   ]
  },
  {
   "cell_type": "markdown",
   "metadata": {},
   "source": [
    "### Q31. Explain Star Schema."
   ]
  },
  {
   "cell_type": "code",
   "execution_count": null,
   "metadata": {},
   "outputs": [],
   "source": []
  },
  {
   "cell_type": "markdown",
   "metadata": {},
   "source": [
    "<details>\n",
    "<summary>Click here for the solution</summary>\n",
    "It is a traditional database schema with a central table. Satellite tables map IDs to physical names or\n",
    "descriptions and can be connected to the central fact table using the ID fields; these tables are known as\n",
    "lookup tables and are principally useful in real-time applications, as they save a lot of memory. Sometimes\n",
    "star schemas involve several layers of summarization to recover information faster.\n",
    "</details>"
   ]
  },
  {
   "cell_type": "markdown",
   "metadata": {},
   "source": [
    "### Q32. What is Cluster Sampling?"
   ]
  },
  {
   "cell_type": "code",
   "execution_count": null,
   "metadata": {},
   "outputs": [],
   "source": []
  },
  {
   "cell_type": "markdown",
   "metadata": {},
   "source": [
    "<details>\n",
    "<summary>Click here for the solution</summary>\n",
    "Cluster sampling is a technique used when it becomes difficult to study the target population spread across\n",
    "a wide area and simple random sampling cannot be applied. Cluster Sample is a probability sample where\n",
    "each sampling unit is a collection or cluster of elements.\n",
    "For eg., A researcher wants to survey the academic performance of high school students in Japan. He can\n",
    "divide the entire population of Japan into different clusters (cities). Then the researcher selects a number of\n",
    "clusters depending on his research through simple or systematic random sampling.\n",
    "Let’s continue our Data Science Interview Questions blog with some more statistics questions.\n",
    "</details>"
   ]
  },
  {
   "cell_type": "markdown",
   "metadata": {},
   "source": [
    "### Q33. What is Systematic Sampling?"
   ]
  },
  {
   "cell_type": "code",
   "execution_count": null,
   "metadata": {},
   "outputs": [],
   "source": []
  },
  {
   "cell_type": "markdown",
   "metadata": {},
   "source": [
    "<details>\n",
    "<summary>Click here for the solution</summary>\n",
    "Systematic sampling is a statistical technique where elements are selected from an ordered sampling frame.\n",
    "In systematic sampling, the list is progressed in a circular manner so once you reach the end of the list, it is\n",
    "progressed from the top again. The best example of systematic sampling is equal probability method.\n",
    "</details>"
   ]
  },
  {
   "cell_type": "markdown",
   "metadata": {},
   "source": [
    "### Q34. What are Eigenvectors and Eigenvalues?"
   ]
  },
  {
   "cell_type": "code",
   "execution_count": null,
   "metadata": {},
   "outputs": [],
   "source": []
  },
  {
   "cell_type": "markdown",
   "metadata": {},
   "source": [
    "<details>\n",
    "<summary>Click here for the solution</summary>\n",
    "Eigenvectors are used for understanding linear transformations. In data analysis, we usually calculate the\n",
    "eigenvectors for a correlation or covariance matrix. Eigenvectors are the directions along which a particular\n",
    "linear transformation acts by flipping, compressing or stretching.\n",
    "Eigenvalue can be referred to as the strength of the transformation in the direction of eigenvector or the\n",
    "factor by which the compression occurs.\n",
    "</details>"
   ]
  },
  {
   "cell_type": "markdown",
   "metadata": {},
   "source": [
    "### Q35. Can you cite some examples where a false positive is important than a false negative?"
   ]
  },
  {
   "cell_type": "code",
   "execution_count": null,
   "metadata": {},
   "outputs": [],
   "source": []
  },
  {
   "cell_type": "markdown",
   "metadata": {},
   "source": [
    "<details>\n",
    "<summary>Click here for the solution</summary>\n",
    "Let us first understand what false positives and false negatives are.\n",
    "    \n",
    "• __False Positives__ are the cases where you wrongly classified a non-event as an event a.k.a Type I\n",
    "error.\n",
    "    \n",
    "• __False Negatives__ are the cases where you wrongly classify events as non-events, a.k.a Type II error.\n",
    "    \n",
    "__Example 1:__ In the medical field, assume you have to give chemotherapy to patients. Assume a patient\n",
    "comes to that hospital and he is tested positive for cancer, based on the lab prediction but he actually doesn’t\n",
    "have cancer. This is a case of false positive. Here it is of utmost danger to start chemotherapy on this patient\n",
    "when he actually does not have cancer. In the absence of cancerous cell, chemotherapy will do certain\n",
    "damage to his normal healthy cells and might lead to severe diseases, even cancer.\n",
    "    \n",
    "__Example 2:__ Let’s say an e-commerce company decided to give \\\\$1000 Gift voucher to the customers whom\n",
    "they assume to purchase at least \\\\$10,000 worth of items. They send free voucher mail directly to 100\n",
    "customers without any minimum purchase condition because they assume to make at least 20% profit on\n",
    "sold items above \\\\$10,000. Now the issue is if we send the \\\\$1000 gift vouchers to customers who have not\n",
    "actually purchased anything but are marked as having made \\\\$10,000 worth of purchase.\n",
    "</details>"
   ]
  },
  {
   "cell_type": "markdown",
   "metadata": {},
   "source": [
    "### Q36. Can you cite some examples where a false negative important than a false positive?"
   ]
  },
  {
   "cell_type": "code",
   "execution_count": null,
   "metadata": {},
   "outputs": [],
   "source": []
  },
  {
   "cell_type": "markdown",
   "metadata": {},
   "source": [
    "<details>\n",
    "<summary>Click here for the solution</summary>\n",
    "    \n",
    "__Example 1:__ Assume there is an airport ‘A’ which has received high-security threats and based on certain\n",
    "characteristics they identify whether a particular passenger can be a threat or not. Due to a shortage of staff,\n",
    "they decide to scan passengers being predicted as risk positives by their predictive model. What will happen\n",
    "if a true threat customer is being flagged as non-threat by airport model?\n",
    "    \n",
    "__Example 2:__ What if Jury or judge decides to make a criminal go free?\n",
    "    \n",
    "__Example 3:__ What if you rejected to marry a very good person based on your predictive model and you\n",
    "happen to meet him/her after a few years and realize that you had a false negative?\n",
    "</details>"
   ]
  },
  {
   "cell_type": "markdown",
   "metadata": {},
   "source": [
    "### Q37. Can you cite some examples where both false positive and false negatives are equally important?"
   ]
  },
  {
   "cell_type": "code",
   "execution_count": null,
   "metadata": {},
   "outputs": [],
   "source": []
  },
  {
   "cell_type": "markdown",
   "metadata": {},
   "source": [
    "<details>\n",
    "<summary>Click here for the solution</summary>\n",
    "    \n",
    "In the Banking industry giving loans is the primary source of making money but at the same time if your\n",
    "repayment rate is not good you will not make any profit, rather you will risk huge losses.\n",
    "    \n",
    "Banks don’t want to lose good customers and at the same point in time, they don’t want to acquire bad\n",
    "customers. In this scenario, both the false positives and false negatives become very important to measure."
   ]
  },
  {
   "cell_type": "markdown",
   "metadata": {},
   "source": [
    "### Q38. Can you explain the difference between a Validation Set and a Test Set?"
   ]
  },
  {
   "cell_type": "code",
   "execution_count": null,
   "metadata": {},
   "outputs": [],
   "source": []
  },
  {
   "cell_type": "markdown",
   "metadata": {},
   "source": [
    "<details>\n",
    "<summary>Click here for the solution</summary>\n",
    "    \n",
    "A __Validation set__ can be considered as a part of the training set as it is used for parameter selection and to\n",
    "avoid overfitting of the model being built.\n",
    "    \n",
    "On the other hand, a __Test Set__ is used for testing or evaluating the performance of a trained machine learning\n",
    "model.\n",
    "    \n",
    "In simple terms, the differences can be summarized as; training set is to fit the parameters i.e. weights and\n",
    "test set is to assess the performance of the model i.e. evaluating the predictive power and generalization.\n",
    "</details>"
   ]
  },
  {
   "cell_type": "markdown",
   "metadata": {},
   "source": [
    "### Q39. Explain cross-validation."
   ]
  },
  {
   "cell_type": "code",
   "execution_count": null,
   "metadata": {},
   "outputs": [],
   "source": []
  },
  {
   "cell_type": "markdown",
   "metadata": {},
   "source": [
    "<details>\n",
    "<summary>Click here for the solution</summary>\n",
    "    \n",
    "__Cross-validation__ is a model validation technique for evaluating how the outcomes of statistical analysis\n",
    "will __generalize__ to an __independent dataset__. Mainly used in backgrounds where the objective is forecast and\n",
    "one wants to estimate how accurately a model will accomplish in practice.\n",
    "    \n",
    "The goal of cross-validation is to term a data set to test the model in the training phase (i.e. validation data\n",
    "set) in order to limit problems like overfitting and get an insight on how the model will generalize to an\n",
    "independent data set.\n",
    "</details>"
   ]
  },
  {
   "cell_type": "markdown",
   "metadata": {},
   "source": [
    "# MACHINE LEARNING INTERVIEW QUESTIONS"
   ]
  },
  {
   "cell_type": "markdown",
   "metadata": {},
   "source": [
    "### Q40. What is Machine Learning?"
   ]
  },
  {
   "cell_type": "code",
   "execution_count": null,
   "metadata": {},
   "outputs": [],
   "source": []
  },
  {
   "cell_type": "markdown",
   "metadata": {},
   "source": [
    "<details>\n",
    "<summary>Click here for the solution</summary>\n",
    "    \n",
    "<span style=\"color:blue\">__Machine Learning__</span> explores the study and construction of algorithms that can learn from and make\n",
    "predictions on data. Closely related to computational statistics. Used to devise complex models and algorithms that lend themselves to a prediction which in commercial use is known as predictive analytics.\n",
    "    \n",
    "Given below, is an image representing the various domains Machine Learning lends itself to.\n",
    "    \n",
    "<p align=\"center\">\n",
    "  <img src=\"https://raw.githubusercontent.com/rasbot/data-science-interview-questions/master/Images/q40.PNG\" width=\"650\" height=\"auto\"/>\n",
    "</p>\n",
    "    \n",
    "</details>"
   ]
  },
  {
   "cell_type": "markdown",
   "metadata": {},
   "source": [
    "### Q41. What is Supervised Learning?"
   ]
  },
  {
   "cell_type": "code",
   "execution_count": null,
   "metadata": {},
   "outputs": [],
   "source": []
  },
  {
   "cell_type": "markdown",
   "metadata": {},
   "source": [
    "<details>\n",
    "<summary>Click here for the solution</summary>\n",
    "    \n",
    "<span style=\"color:blue\">__Supervised learning__</span> is the machine learning task of inferring a function from labeled training data. The\n",
    "training data consist of a set of training examples.\n",
    "    \n",
    "Algorithms: Support Vector Machines, Regression, Naive Bayes, Decision Trees, K-nearest Neighbor Algorithm and Neural Networks\n",
    "    \n",
    "E.g. *If you built a fruit classifier, the labels will be “this is an orange, this is an apple and this is a banana”,\n",
    "based on showing the classifier examples of apples, oranges and bananas.*\n",
    "</details>"
   ]
  },
  {
   "cell_type": "markdown",
   "metadata": {},
   "source": [
    "### Q42. What is Unsupervised learning?"
   ]
  },
  {
   "cell_type": "code",
   "execution_count": null,
   "metadata": {},
   "outputs": [],
   "source": []
  },
  {
   "cell_type": "markdown",
   "metadata": {},
   "source": [
    "<details>\n",
    "<summary>Click here for the solution</summary>\n",
    "    \n",
    "<span style=\"color:blue\">__Unsupervised learning__</span> is a type of machine learning algorithm used to draw inferences from datasets\n",
    "consisting of input data without labelled responses.\n",
    "    \n",
    "Algorithms: Clustering, Anomaly Detection, Neural Networks and Latent Variable Models\n",
    "    \n",
    "E.g. *In the same example, a fruit clustering will categorize as “fruits with soft skin and lots of dimples”, “fruits\n",
    "with shiny hard skin” and “elongated yellow fruits”.*\n",
    "</details>"
   ]
  },
  {
   "cell_type": "markdown",
   "metadata": {},
   "source": [
    "### Q43. What are the various classification algorithms?"
   ]
  },
  {
   "cell_type": "code",
   "execution_count": null,
   "metadata": {},
   "outputs": [],
   "source": []
  },
  {
   "cell_type": "markdown",
   "metadata": {},
   "source": [
    "<details>\n",
    "<summary>Click here for the solution</summary>\n",
    "The diagram lists the most important classification algorithms.\n",
    "    \n",
    "<p align=\"center\">\n",
    "  <img src=\"https://raw.githubusercontent.com/rasbot/data-science-interview-questions/master/Images/q43.PNG\" width=\"450\" height=\"auto\"/>\n",
    "</p> \n",
    "    \n",
    "</details>"
   ]
  },
  {
   "cell_type": "markdown",
   "metadata": {},
   "source": [
    "### Q44. What is ‘Naive’ in a Naive Bayes?"
   ]
  },
  {
   "cell_type": "code",
   "execution_count": null,
   "metadata": {},
   "outputs": [],
   "source": []
  },
  {
   "cell_type": "markdown",
   "metadata": {},
   "source": [
    "<details>\n",
    "<summary>Click here for the solution</summary>\n",
    "    \n",
    "The <span style=\"color:blue\"> __Naive Bayes Algorithm__ </span> is based on the Bayes Theorem. Bayes’ theorem describes the probability of\n",
    "an event, based on prior knowledge of conditions that might be related to the event.\n",
    "    \n",
    "The Algorithm is ‘naive’ because it makes assumptions that may or may not turn out to be correct.\n",
    "</details>"
   ]
  },
  {
   "cell_type": "markdown",
   "metadata": {},
   "source": [
    "### Q45. Explain SVM algorithm in detail."
   ]
  },
  {
   "cell_type": "code",
   "execution_count": null,
   "metadata": {},
   "outputs": [],
   "source": []
  },
  {
   "cell_type": "markdown",
   "metadata": {},
   "source": [
    "<details>\n",
    "<summary>Click here for the solution</summary>\n",
    "    \n",
    "<span style=\"color:blue\"> __SVM__ </span> stands for support vector machine, it is a supervised machine learning algorithm which can be used\n",
    "for both Regression and Classification. If you have n features in your training data set, SVM tries to plot it in n-dimensional space with the value of each feature being the value of a particular coordinate. SVM uses hyperplanes to separate out different classes based on the provided kernel function.\n",
    "    \n",
    "<p align=\"center\">\n",
    "  <img src=\"https://raw.githubusercontent.com/rasbot/data-science-interview-questions/master/Images/q45.PNG\" width=\"350\" height=\"auto\"/>\n",
    "</p>\n",
    "    \n",
    "</details>"
   ]
  },
  {
   "cell_type": "markdown",
   "metadata": {},
   "source": [
    "### Q46. What are the support vectors in SVM?"
   ]
  },
  {
   "cell_type": "code",
   "execution_count": null,
   "metadata": {},
   "outputs": [],
   "source": []
  },
  {
   "cell_type": "markdown",
   "metadata": {},
   "source": [
    "<details>\n",
    "<summary>Click here for the solution</summary>\n",
    "In the diagram, we see that the thinner lines mark the distance from the classifier to the closest data points called the support vectors (darkened data points). The distance between the two thin lines is called the margin.\n",
    "    \n",
    "<p align=\"center\">\n",
    "  <img src=\"https://raw.githubusercontent.com/rasbot/data-science-interview-questions/master/Images/q46.PNG\" width=\"350\" height=\"auto\"/>\n",
    "</p>\n",
    "    \n",
    "</details>"
   ]
  },
  {
   "cell_type": "markdown",
   "metadata": {},
   "source": [
    "### Q47. What are the different kernels in SVM?"
   ]
  },
  {
   "cell_type": "code",
   "execution_count": null,
   "metadata": {},
   "outputs": [],
   "source": []
  },
  {
   "cell_type": "markdown",
   "metadata": {},
   "source": [
    "<details>\n",
    "<summary>Click here for the solution</summary>\n",
    "    \n",
    "There are four types of kernels in SVM.\n",
    "1. Linear Kernel\n",
    "2. Polynomial kernel\n",
    "3. Radial basis kernel\n",
    "4. Sigmoid kernel\n",
    "</details>"
   ]
  },
  {
   "cell_type": "markdown",
   "metadata": {},
   "source": [
    "### Q48. Explain Decision Tree algorithm in detail."
   ]
  },
  {
   "cell_type": "code",
   "execution_count": null,
   "metadata": {},
   "outputs": [],
   "source": []
  },
  {
   "cell_type": "markdown",
   "metadata": {},
   "source": [
    "<details>\n",
    "<summary>Click here for the solution</summary>\n",
    "    \n",
    "A <span style=\"color:blue\">__decision tree__</span> is a supervised machine learning algorithm mainly used for Regression and Classification. It breaks down a data set into smaller and smaller subsets while at the same time an associated decision tree is incrementally developed. The final result is a tree with decision nodes and leaf nodes. A decision tree can handle both categorical and numerical data.\n",
    "\n",
    "<p align=\"center\">\n",
    "  <img src=\"https://raw.githubusercontent.com/rasbot/data-science-interview-questions/master/Images/q48.PNG\" width=\"550\" height=\"auto\"/>\n",
    "</p>\n",
    "    \n",
    "</details>"
   ]
  },
  {
   "cell_type": "markdown",
   "metadata": {},
   "source": [
    "### Q49. What are Entropy and Information gain in Decision tree algorithm?"
   ]
  },
  {
   "cell_type": "code",
   "execution_count": null,
   "metadata": {},
   "outputs": [],
   "source": []
  },
  {
   "cell_type": "markdown",
   "metadata": {},
   "source": [
    "<details>\n",
    "<summary>Click here for the solution</summary>\n",
    "    \n",
    "The core algorithm for building a decision tree is called ID3. ID3 uses Entropy and Information Gain\n",
    "    \n",
    "__Entropy__\n",
    "    \n",
    "A decision tree is built top-down from a root node and involve partitioning of data into homogenious\n",
    "subsets. __ID3__ uses enteropy to check the homogeneity of a sample. If the sample is completely homogenious then entropy is zero and if the sample is an equally divided it has entropy of one.\n",
    "    \n",
    "<p align=\"center\">\n",
    "  <img src=\"https://raw.githubusercontent.com/rasbot/data-science-interview-questions/master/Images/q49.PNG\" width=\"350\" height=\"auto\"/>\n",
    "</p>\n",
    "    \n",
    "__Information Gain__\n",
    "    \n",
    "The Information Gain is based on the decrease in entropy after a dataset is split on an attribute.\n",
    "    \n",
    "Constructing a decision tree is all about finding attributes that return the highest information gain.\n",
    "    \n",
    "<p align=\"center\">\n",
    "  <img src=\"https://raw.githubusercontent.com/rasbot/data-science-interview-questions/master/Images/q49b.PNG\" width=\"350\" height=\"auto\"/>\n",
    "</p>\n",
    "    \n",
    "</details>"
   ]
  },
  {
   "cell_type": "markdown",
   "metadata": {},
   "source": [
    "### Q50. What is pruning in Decision Tree?"
   ]
  },
  {
   "cell_type": "code",
   "execution_count": null,
   "metadata": {},
   "outputs": [],
   "source": []
  },
  {
   "cell_type": "markdown",
   "metadata": {},
   "source": [
    "<details>\n",
    "<summary>Click here for the solution</summary>\n",
    "    \n",
    "__Pruning__ is a technique in machine learning and search algorithms that reduces the size of decision trees by removing sections of the tree that provide little power to classify instances. So, when we remove sub-nodes of a decision node, this process is called <span style=\"color:blue\">__pruning__</span> or opposite process of splitting.\n",
    "</details>"
   ]
  },
  {
   "cell_type": "markdown",
   "metadata": {},
   "source": [
    "### Q51. What is logistic regression? State an example when you have used logistic regression recently."
   ]
  },
  {
   "cell_type": "code",
   "execution_count": null,
   "metadata": {},
   "outputs": [],
   "source": []
  },
  {
   "cell_type": "markdown",
   "metadata": {},
   "source": [
    "<details>\n",
    "<summary>Click here for the solution</summary>\n",
    "    \n",
    "<span style=\"color:blue\">__Logistic Regression__</span> often referred to as the logit model is a technique to predict the binary outcome from\n",
    "a linear combination of predictor variables.\n",
    "    \n",
    "For example, if you want to predict whether a particular political leader will win the election or not. In this\n",
    "case, the outcome of prediction is binary i.e. 0 or 1 (Win/Lose). The predictor variables here would be the\n",
    "amount of money spent for election campaigning of a particular candidate, the amount of time spent in\n",
    "campaigning, etc.\n",
    "</details>"
   ]
  },
  {
   "cell_type": "markdown",
   "metadata": {},
   "source": [
    "### Q52. What is Linear Regression?"
   ]
  },
  {
   "cell_type": "code",
   "execution_count": null,
   "metadata": {},
   "outputs": [],
   "source": []
  },
  {
   "cell_type": "markdown",
   "metadata": {},
   "source": [
    "<details>\n",
    "<summary>Click here for the solution</summary>\n",
    "    \n",
    "<span style=\"color:blue\">__Linear regression__</span> is a statistical technique where the score of a variable Y is predicted from the score of a\n",
    "second variable X. X is referred to as the predictor variable and Y as the criterion variable.\n",
    "    \n",
    "<p align=\"center\">\n",
    "  <img src=\"https://raw.githubusercontent.com/rasbot/data-science-interview-questions/master/Images/q52.PNG\" width=\"350\" height=\"auto\"/>\n",
    "</p>\n",
    "    \n",
    "</details>"
   ]
  },
  {
   "cell_type": "markdown",
   "metadata": {},
   "source": [
    "### Q53. What Are the Drawbacks of the Linear Model?"
   ]
  },
  {
   "cell_type": "code",
   "execution_count": null,
   "metadata": {},
   "outputs": [],
   "source": []
  },
  {
   "cell_type": "markdown",
   "metadata": {},
   "source": [
    "<details>\n",
    "<summary>Click here for the solution</summary>\n",
    "Some drawbacks of the linear model are:\n",
    "    \n",
    "• The assumption of linearity of the errors\n",
    "    \n",
    "• It can’t be used for count outcomes or binary outcomes\n",
    "    \n",
    "• There are overfitting problems that it can’t solve\n",
    "</details>\n",
    "    "
   ]
  },
  {
   "cell_type": "markdown",
   "metadata": {},
   "source": [
    "### Q54. What is the difference between Regression and classification ML techniques?"
   ]
  },
  {
   "cell_type": "code",
   "execution_count": null,
   "metadata": {},
   "outputs": [],
   "source": []
  },
  {
   "cell_type": "markdown",
   "metadata": {},
   "source": [
    "<details>\n",
    "<summary>Click here for the solution</summary>\n",
    "    \n",
    "Both Regression and classification machine learning techniques come under __Supervised machine learning algorithms__. In Supervised machine learning algorithm, we have to train the model using labelled\n",
    "data set, While training we have to explicitly provide the correct labels and algorithm tries to learn the pattern\n",
    "from input to output. If our labels are discrete values then it will a classification problem, e.g A,B etc. but if\n",
    "our labels are continuous values then it will be a regression problem, e.g 1.23, 1.333 etc.\n",
    "</details>"
   ]
  },
  {
   "cell_type": "markdown",
   "metadata": {},
   "source": [
    "### Q55. What are Recommender Systems?"
   ]
  },
  {
   "cell_type": "code",
   "execution_count": null,
   "metadata": {},
   "outputs": [],
   "source": []
  },
  {
   "cell_type": "markdown",
   "metadata": {},
   "source": [
    "<details>\n",
    "<summary>Click here for the solution</summary>\n",
    "    \n",
    "<span style=\"color:blue\">__Recommender Systems__</span> are a subclass of information filtering systems that are meant to predict the\n",
    "preferences or ratings that a user would give to a product. Recommender systems are widely used in movies,\n",
    "news, research articles, products, social tags, music, etc.\n",
    "Examples include movie recommenders in IMDB, Netflix & BookMyShow, product recommenders in ecommerce sites like Amazon, eBay & Flipkart, YouTube video recommendations and game recommendations in Xbox.\n",
    "</details>"
   ]
  },
  {
   "cell_type": "markdown",
   "metadata": {},
   "source": [
    "### Q56. What is Collaborative filtering?"
   ]
  },
  {
   "cell_type": "code",
   "execution_count": null,
   "metadata": {},
   "outputs": [],
   "source": []
  },
  {
   "cell_type": "markdown",
   "metadata": {},
   "source": [
    "<details>\n",
    "<summary>Click here for the solution</summary>\n",
    "    \n",
    "The process of filtering used by most of the recommender systems to find patterns or information by collaborating viewpoints, various data sources and multiple agents.\n",
    "    \n",
    "<p align=\"center\">\n",
    "  <img src=\"https://raw.githubusercontent.com/rasbot/data-science-interview-questions/master/Images/q56.PNG\" width=\"400\" height=\"auto\"/>\n",
    "</p>\n",
    "    \n",
    "An example of collaborative filtering can be to predict the rating of a particular user based on his/her ratings for other movies and others’ ratings for all movies. This concept is widely used in recommending movies in IMDB, Netflix & BookMyShow, product recommenders in e-commerce sites like Amazon, eBay & Flipkart, YouTube video recommendations and game recommendations in Xbox.\n",
    "</details>"
   ]
  },
  {
   "cell_type": "markdown",
   "metadata": {},
   "source": [
    "### Q57. How can outlier values be treated?"
   ]
  },
  {
   "cell_type": "code",
   "execution_count": null,
   "metadata": {},
   "outputs": [],
   "source": []
  },
  {
   "cell_type": "markdown",
   "metadata": {},
   "source": [
    "<details>\n",
    "<summary>Click here for the solution</summary>\n",
    "    \n",
    "Outlier values can be identified by using univariate or any other graphical analysis method. If the number of\n",
    "outlier values is few then they can be assessed individually but for a large number of outliers, the values can be substituted with either the 99th or the 1st percentile values.\n",
    "    \n",
    "All extreme values are not outlier values. The most common ways to treat outlier values\n",
    "    \n",
    "1. To change the value and bring it within a range.\n",
    "    \n",
    "2. To just remove the value.\n",
    "</details>"
   ]
  },
  {
   "cell_type": "markdown",
   "metadata": {},
   "source": [
    "### Q58. What are the various steps involved in an analytics project?"
   ]
  },
  {
   "cell_type": "code",
   "execution_count": null,
   "metadata": {},
   "outputs": [],
   "source": []
  },
  {
   "cell_type": "markdown",
   "metadata": {},
   "source": [
    "<details>\n",
    "<summary>Click here for the solution</summary>\n",
    "    \n",
    "The following are the various <span style=\"color:blue\">__steps involved in an analytics project__</span>:\n",
    "    \n",
    "1. Understand the Business problem\n",
    "    \n",
    "2. Explore the data and become familiar with it.\n",
    "    \n",
    "3. Prepare the data for modelling by detecting outliers, treating missing values, transforming variables, etc.\n",
    "    \n",
    "4. After data preparation, start running the model, analyze the result and tweak the approach. This is an iterative step until the best possible outcome is achieved.\n",
    "    \n",
    "5. Validate the model using a new data set.\n",
    "    \n",
    "6. Start implementing the model and track the result to analyze the performance of the model over the period of time.\n",
    "</details>"
   ]
  },
  {
   "cell_type": "markdown",
   "metadata": {},
   "source": [
    "### Q59. During analysis, how do you treat missing values?"
   ]
  },
  {
   "cell_type": "code",
   "execution_count": null,
   "metadata": {},
   "outputs": [],
   "source": []
  },
  {
   "cell_type": "markdown",
   "metadata": {},
   "source": [
    "<details>\n",
    "<summary>Click here for the solution</summary>\n",
    "    \n",
    "The extent of the missing values is identified after identifying the variables with missing values. If any\n",
    "patterns are identified the analyst has to concentrate on them as it could lead to interesting and meaningful\n",
    "business insights.\n",
    "    \n",
    "If there are no patterns identified, then the missing values can be substituted with mean or median values\n",
    "(imputation) or they can simply be ignored. Assigning a default value which can be mean, minimum or\n",
    "maximum value. Getting into the data is important.\n",
    "    \n",
    "If it is a categorical variable, the default value is assigned. The missing value is assigned a default value. If\n",
    "you have a distribution of data coming, for normal distribution give the mean value.\n",
    "    \n",
    "If 80% of the values for a variable are missing then you can answer that you would be dropping the variable\n",
    "instead of treating the missing values.\n",
    "</details>"
   ]
  },
  {
   "cell_type": "markdown",
   "metadata": {},
   "source": [
    "### Q60. How will you define the number of clusters in a clustering algorithm?"
   ]
  },
  {
   "cell_type": "code",
   "execution_count": null,
   "metadata": {},
   "outputs": [],
   "source": []
  },
  {
   "cell_type": "markdown",
   "metadata": {},
   "source": [
    "<details>\n",
    "<summary>Click here for the solution</summary>\n",
    "\n",
    "Though the Clustering Algorithm is not specified, this question is mostly in reference to <span style=\"color:blue\">__K-Means clustering__</span> where “K” defines the number of clusters. The objective of clustering is to group similar entities\n",
    "in a way that the entities within a group are similar to each other but the groups are different from each other.\n",
    "    \n",
    "For example, the following image shows three different groups.\n",
    "    \n",
    "<p align=\"center\">\n",
    "  <img src=\"https://raw.githubusercontent.com/rasbot/data-science-interview-questions/master/Images/q60a.PNG\" width=\"200\" height=\"auto\"/>\n",
    "</p>\n",
    "    \n",
    "Within Sum of squares is generally used to explain the homogeneity within a cluster. If you plot WSS for a range of number\n",
    "of clusters, you will get the plot shown below.\n",
    "    \n",
    "<p align=\"center\">\n",
    "  <img src=\"https://raw.githubusercontent.com/rasbot/data-science-interview-questions/master/Images/q60b.PNG\" width=\"350\" height=\"auto\"/>\n",
    "</p>\n",
    "    \n",
    "• The Graph is generally known as __Elbow Curve__.\n",
    "    \n",
    "• Red circled a point in above graph i.e. __Number of Cluster = 6__ is the point after which you don’t see\n",
    "any decrement in WSS.\n",
    "    \n",
    "• This point is known as the __bending point__ and taken as K in K – Means.\n",
    "    \n",
    "This is the widely used approach but few data scientists also use Hierarchical clustering first to create dendrograms and identify the distinct groups from there.\n",
    "</details>"
   ]
  },
  {
   "cell_type": "markdown",
   "metadata": {},
   "source": [
    "### Q61. What is Ensemble Learning?"
   ]
  },
  {
   "cell_type": "code",
   "execution_count": null,
   "metadata": {},
   "outputs": [],
   "source": []
  },
  {
   "cell_type": "markdown",
   "metadata": {},
   "source": [
    "<details>\n",
    "<summary>Click here for the solution</summary>\n",
    "Ensemble Learning is basically combining a diverse set of learners(Individual models) together to improvise\n",
    "on the stability and predictive power of the model.\n",
    "</details>"
   ]
  },
  {
   "cell_type": "markdown",
   "metadata": {},
   "source": [
    "### Q62. Describe in brief any type of Ensemble Learning?"
   ]
  },
  {
   "cell_type": "code",
   "execution_count": null,
   "metadata": {},
   "outputs": [],
   "source": []
  },
  {
   "cell_type": "markdown",
   "metadata": {},
   "source": [
    "<details>\n",
    "<summary>Click here for the solution</summary>\n",
    "    \n",
    "Ensemble learning has many types but two more popular ensemble learning techniques are mentioned\n",
    "below.\n",
    "    \n",
    "__Bagging__\n",
    "    \n",
    "Bagging tries to implement similar learners on small sample populations and then takes a mean of all the predictions. In generalised bagging, you can use different learners on different population. As you expect this helps us to reduce the variance error.\n",
    "    \n",
    "<p align=\"center\">\n",
    "  <img src=\"https://raw.githubusercontent.com/rasbot/data-science-interview-questions/master/Images/q62a.PNG\" width=\"300\" height=\"auto\"/>\n",
    "</p>\n",
    "    \n",
    "__Boosting__\n",
    "    \n",
    "Boosting is an iterative technique which adjusts the weight of an observation based on the last classification. If an observation was classified incorrectly, it tries to increase the weight of this observation\n",
    "and vice versa. Boosting in general decreases the bias error and builds strong predictive models. However, they may over fit on the training data.\n",
    "    \n",
    "<p align=\"center\">\n",
    "  <img src=\"https://raw.githubusercontent.com/rasbot/data-science-interview-questions/master/Images/q62b.PNG\" width=\"400\" height=\"auto\"/>\n",
    "</p>\n",
    "    \n",
    "</details>"
   ]
  },
  {
   "cell_type": "markdown",
   "metadata": {},
   "source": [
    "### Q63. What is a, Random Forest? How does it work?"
   ]
  },
  {
   "cell_type": "code",
   "execution_count": null,
   "metadata": {},
   "outputs": [],
   "source": []
  },
  {
   "cell_type": "markdown",
   "metadata": {},
   "source": [
    "<details>\n",
    "<summary>Click here for the solution</summary>\n",
    "    \n",
    "Random forest is a versatile machine learning method capable of performing both regression and classification tsks. It is also used for  dimensionality reduction, treats missing values, outlier values. It is a type of ensemble learning method, where a group of weak models combine to form a powerful model.\n",
    "    \n",
    "<p align=\"center\">\n",
    "  <img src=\"https://raw.githubusercontent.com/rasbot/data-science-interview-questions/master/Images/q63.PNG\" width=\"200\" height=\"auto\"/>\n",
    "</p>\n",
    "    \n",
    "In Random Forest, we grow multiple trees as opposed to  a single tree. To classify a new object based on attributes, each tree gives a  classification. The forest chooses the classification having the most votes (Overall the trees in the forest) and in case of regression, \n",
    "it takes the average of outputs by different trees. \n",
    "</details>"
   ]
  },
  {
   "cell_type": "markdown",
   "metadata": {},
   "source": [
    "### Q64. How Do You Work Towards a Random Forest? "
   ]
  },
  {
   "cell_type": "code",
   "execution_count": null,
   "metadata": {},
   "outputs": [],
   "source": []
  },
  {
   "cell_type": "markdown",
   "metadata": {},
   "source": [
    "<details>\n",
    "<summary>Click here for the solution</summary>\n",
    "    \n",
    "The underlying principle of this technique is that several weak learners combined to provide a keen learner. The steps involved are:\n",
    "    \n",
    "• Build several decision trees on bootstrapped training samples of data\n",
    "    \n",
    "• On each tree, each time a split is considered, a random sample of mm predictors is chosen as split candidates, out of all pp predictors\n",
    "    \n",
    "• Rule of thumb: At each split m=p√m=p\n",
    "    \n",
    "• Predictions: At the majority rule\n",
    "</details>"
   ]
  },
  {
   "cell_type": "markdown",
   "metadata": {},
   "source": [
    "### Q65. What cross-validation technique would you use on a time series data set?"
   ]
  },
  {
   "cell_type": "code",
   "execution_count": null,
   "metadata": {},
   "outputs": [],
   "source": []
  },
  {
   "cell_type": "markdown",
   "metadata": {},
   "source": [
    "<details>\n",
    "<summary>Click here for the solution</summary>\n",
    "    \n",
    "Instead of using k-fold cross-validation, you should be aware of the fact that a time series is not randomly distributed data — It is inherently ordered by chronological order.\n",
    "    \n",
    "In case of time series data, you should use techniques like forward=chaining — Where you will be model on past data then look at forward-facing data.\n",
    "    \n",
    "fold 1: training[1], test[2]\n",
    "    \n",
    "fold 1: training[1 2], test[3]\n",
    "    \n",
    "fold 1: training[1 2 3], test[4]\n",
    "    \n",
    "fold 1: training[1 2 3 4], test[5]\n",
    "</details>"
   ]
  },
  {
   "cell_type": "markdown",
   "metadata": {},
   "source": [
    "### Q66. What is a Box-Cox Transformation?"
   ]
  },
  {
   "cell_type": "code",
   "execution_count": null,
   "metadata": {},
   "outputs": [],
   "source": []
  },
  {
   "cell_type": "markdown",
   "metadata": {},
   "source": [
    "<details>\n",
    "<summary>Click here for the solution</summary>\n",
    "\n",
    "The dependent variable for a regression analysis might not satisfy one or more assumptions of an ordinary least squares regression. The residuals could either curve as the prediction increases or follow the skewed\n",
    "distribution. In such scenarios, it is necessary to transform the response variable so that the data meets the required assumptions. A Box cox transformation is a statistical technique to transform non-normal\n",
    "dependent variables into a normal shape. If the given data is not normal then most of the statistical techniques assume normality. Applying a box cox transformation means that you can run a broader number of tests.\n",
    "\n",
    "<p align=\"center\">\n",
    "  <img src=\"https://raw.githubusercontent.com/rasbot/data-science-interview-questions/master/Images/q66.PNG\" width=\"350\" height=\"auto\"/>\n",
    "</p>\n",
    "\n",
    "A Box-Cox transformation is a way to transform non-normal dependent variables into a normal shape. Normality is an important assumption for many statistical techniques, if your data isn’t normal, applying a\n",
    "Box-Cox means that you are able to run a broader number of tests. The Box-Cox transformation is named after statisticians George Box and Sir David Roxbee Cox who collaborated on a 1964 paper and developed the technique.\n",
    "</details>"
   ]
  },
  {
   "cell_type": "markdown",
   "metadata": {},
   "source": [
    "### Q67. How Regularly Must an Algorithm be Updated?"
   ]
  },
  {
   "cell_type": "code",
   "execution_count": null,
   "metadata": {},
   "outputs": [],
   "source": []
  },
  {
   "cell_type": "markdown",
   "metadata": {},
   "source": [
    "<details>\n",
    "<summary>Click here for the solution</summary>\n",
    "    \n",
    "You will want to update an algorithm when:\n",
    "    \n",
    "• You want the model to evolve as data streams through infrastructure\n",
    "    \n",
    "• The underlying data source is changing\n",
    "    \n",
    "• There is a case of non-stationarity\n",
    "    \n",
    "• The algorithm underperforms/ results lack accuracy\n",
    "</details>"
   ]
  },
  {
   "cell_type": "markdown",
   "metadata": {},
   "source": [
    "### Q68. If you are having 4GB RAM in your machine and you want to train your model on 10GB data set. How would you go about this problem? Have you ever faced this kind of problem in your machine learning/data science experience so far?"
   ]
  },
  {
   "cell_type": "code",
   "execution_count": null,
   "metadata": {},
   "outputs": [],
   "source": []
  },
  {
   "cell_type": "markdown",
   "metadata": {},
   "source": [
    "<details>\n",
    "<summary>Click here for the solution</summary>\n",
    "    \n",
    "First of all, you have to ask which ML model you want to train.\n",
    "    \n",
    "For __Neural networks:__ Batch size with Numpy array will work.\n",
    "    \n",
    "__Steps:__\n",
    "    \n",
    "1. Load the whole data in the Numpy array. Numpy array has a property to create a mapping of the complete data set, it doesn’t load complete data set in memory.\n",
    "    \n",
    "2. You can pass an index to Numpy array to get required data.\n",
    "    \n",
    "3. Use this data to pass to the Neural network.\n",
    "    \n",
    "4. Have a small batch size.\n",
    "    \n",
    "For __SVM:__ Partial fit will work\n",
    "    \n",
    "__Steps:__\n",
    "    \n",
    "1. Divide one big data set in small size data sets.\n",
    "    \n",
    "2. Use a partial fit method of SVM, it requires a subset of the complete data set.\n",
    "    \n",
    "3. Repeat step 2 for other subsets.\n",
    "</details>"
   ]
  },
  {
   "cell_type": "markdown",
   "metadata": {},
   "source": [
    "# DEEP LEARNING INTERVIEW QUESTIONS"
   ]
  },
  {
   "cell_type": "markdown",
   "metadata": {},
   "source": [
    "### Q69. What do you mean by Deep Learning?"
   ]
  },
  {
   "cell_type": "code",
   "execution_count": null,
   "metadata": {},
   "outputs": [],
   "source": []
  },
  {
   "cell_type": "markdown",
   "metadata": {},
   "source": [
    "<details>\n",
    "<summary>Click here for the solution</summary>\n",
    "Deep Learning is nothing but a paradigm of machine learning which has shown incredible promise in recent\n",
    "years. This is because of the fact that Deep Learning shows a great analogy with the functioning of the\n",
    "human brain.\n",
    "    \n",
    "</details>"
   ]
  },
  {
   "cell_type": "markdown",
   "metadata": {},
   "source": [
    "### Q70. What is the difference between machine learning and deep learning?"
   ]
  },
  {
   "cell_type": "code",
   "execution_count": null,
   "metadata": {},
   "outputs": [],
   "source": []
  },
  {
   "cell_type": "markdown",
   "metadata": {},
   "source": [
    "<details>\n",
    "<summary>Click here for the solution</summary>\n",
    "    \n",
    "Machine learning is a field of computer science that gives computers the ability to learn without being\n",
    "explicitly programmed. Machine learning can be categorised in the following three categories.\n",
    "    \n",
    "1. Supervised machine learning\n",
    "    \n",
    "2. Unsupervised machine learning\n",
    "    \n",
    "3. Reinforcement learning\n",
    "    \n",
    "Deep Learning is a subfield of machine learning concerned with algorithms inspired by the structure and function of the brain called artificial neural networks.\n",
    "    \n",
    "<p align=\"center\">\n",
    "  <img src=\"https://raw.githubusercontent.com/rasbot/data-science-interview-questions/master/Images/q70.PNG\" width=\"350\" height=\"auto\"/>\n",
    "</p>\n",
    "    \n",
    "</details>"
   ]
  },
  {
   "cell_type": "markdown",
   "metadata": {},
   "source": [
    "### Q71. What, in your opinion, is the reason for the popularity of Deep Learning in recent times?"
   ]
  },
  {
   "cell_type": "code",
   "execution_count": null,
   "metadata": {},
   "outputs": [],
   "source": []
  },
  {
   "cell_type": "markdown",
   "metadata": {},
   "source": [
    "<details>\n",
    "<summary>Click here for the solution</summary>\n",
    "Now although Deep Learning has been around for many years, the major breakthroughs from these\n",
    "techniques came just in recent years. This is because of two main reasons:\n",
    "    \n",
    "• The increase in the amount of data generated through various sources\n",
    "    \n",
    "• The growth in hardware resources required to run these models\n",
    "    \n",
    "GPUs are multiple times faster and they help us build bigger and deeper deep learning models in\n",
    "comparatively less time than we required previously.\n",
    "</details>"
   ]
  },
  {
   "cell_type": "markdown",
   "metadata": {},
   "source": [
    "### Q72. What is reinforcement learning?"
   ]
  },
  {
   "cell_type": "code",
   "execution_count": null,
   "metadata": {},
   "outputs": [],
   "source": []
  },
  {
   "cell_type": "markdown",
   "metadata": {},
   "source": [
    "<details>\n",
    "<summary>Click here for the solution</summary>\n",
    "    \n",
    "<p align=\"center\">\n",
    "  <img src=\"https://raw.githubusercontent.com/rasbot/data-science-interview-questions/master/Images/q72.PNG\" width=\"450\" height=\"auto\"/>\n",
    "</p>\n",
    "    \n",
    "Reinforcement Learning is learning what to do and how to map situations to actions. The end result is to maximise the numerical reward signal. The learner is not told which action to take but instead must discover which action will yield the\n",
    "maximum reward. Reinforcement learning is inspired by the learning of human beings, it is based on the reward/penalty mechanism.\n",
    "</details>"
   ]
  },
  {
   "cell_type": "markdown",
   "metadata": {},
   "source": [
    "### Q73. What are Artificial Neural Networks?"
   ]
  },
  {
   "cell_type": "code",
   "execution_count": null,
   "metadata": {},
   "outputs": [],
   "source": []
  },
  {
   "cell_type": "markdown",
   "metadata": {},
   "source": [
    "<details>\n",
    "<summary>Click here for the solution</summary>\n",
    "    \n",
    "Artificial Neural networks are a specific set of algorithms that have revolutionized machine learning. They\n",
    "are inspired by biological neural networks. Neural Networks can adapt to changing the input so the network\n",
    "generates the best possible result without needing to redesign the output criteria.\n",
    "</details>"
   ]
  },
  {
   "cell_type": "markdown",
   "metadata": {},
   "source": [
    "### Q74. Describe the structure of Artificial Neural Networks?"
   ]
  },
  {
   "cell_type": "code",
   "execution_count": null,
   "metadata": {},
   "outputs": [],
   "source": []
  },
  {
   "cell_type": "markdown",
   "metadata": {},
   "source": [
    "<details>\n",
    "<summary>Click here for the solution</summary>\n",
    "\n",
    "Artificial Neural Networks works on the same principle as a biological Neural Network. It consists of inputs\n",
    "which get processed with weighted sums and Bias, with the help of Activation Functions.\n",
    "    \n",
    "<p align=\"center\">\n",
    "  <img src=\"https://raw.githubusercontent.com/rasbot/data-science-interview-questions/master/Images/q74.PNG\" width=\"450\" height=\"auto\"/>\n",
    "</p>\n",
    "    \n",
    "</details>"
   ]
  },
  {
   "cell_type": "markdown",
   "metadata": {},
   "source": [
    "### Q75. How Are Weights Initialized in a Network?"
   ]
  },
  {
   "cell_type": "code",
   "execution_count": null,
   "metadata": {},
   "outputs": [],
   "source": []
  },
  {
   "cell_type": "markdown",
   "metadata": {},
   "source": [
    "<details>\n",
    "<summary>Click here for the solution</summary>\n",
    "    \n",
    "There are two methods here: we can either initialize the weights to zero or assign them randomly.\n",
    "    \n",
    "Initializing all weights to 0: This makes your model similar to a linear model. All the neurons and every layer\n",
    "perform the same operation, giving the same output and making the deep net useless.\n",
    "    \n",
    "Initializing all weights randomly: Here, the weights are assigned randomly by initializing them very close to 0. It gives better accuracy to the model since every neuron performs different computations. This is the most commonly used method.\n",
    "</details>"
   ]
  },
  {
   "cell_type": "markdown",
   "metadata": {},
   "source": [
    "### Q76. What Is the Cost Function?"
   ]
  },
  {
   "cell_type": "code",
   "execution_count": null,
   "metadata": {},
   "outputs": [],
   "source": []
  },
  {
   "cell_type": "markdown",
   "metadata": {},
   "source": [
    "<details>\n",
    "<summary>Click here for the solution</summary>\n",
    "\n",
    "Also referred to as “loss” or “error,” cost function is a measure to evaluate how good your model’s\n",
    "performance is. It’s used to compute the error of the output layer during backpropagation. We push that error\n",
    "backwards through the neural network and use that during the different training functions.\n",
    "</details>"
   ]
  },
  {
   "cell_type": "markdown",
   "metadata": {},
   "source": [
    "### Q77. What Are Hyperparameters?"
   ]
  },
  {
   "cell_type": "code",
   "execution_count": null,
   "metadata": {},
   "outputs": [],
   "source": []
  },
  {
   "cell_type": "markdown",
   "metadata": {},
   "source": [
    "<details>\n",
    "<summary>Click here for the solution</summary>\n",
    "\n",
    "With neural networks, you’re usually working with hyperparameters once the data is formatted correctly. A\n",
    "hyperparameter is a parameter whose value is set before the learning process begins. It determines how a\n",
    "network is trained and the structure of the network (such as the number of hidden units, the learning rate,\n",
    "epochs, etc.).\n",
    "</details>"
   ]
  },
  {
   "cell_type": "markdown",
   "metadata": {},
   "source": [
    "### Q78. What Will Happen If the Learning Rate Is Set inaccurately (Too Low or Too High)?"
   ]
  },
  {
   "cell_type": "code",
   "execution_count": null,
   "metadata": {},
   "outputs": [],
   "source": []
  },
  {
   "cell_type": "markdown",
   "metadata": {},
   "source": [
    "<details>\n",
    "<summary>Click here for the solution</summary>\n",
    "    \n",
    "When your learning rate is too low, training of the model will progress very slowly as we are making minimal\n",
    "updates to the weights. It will take many updates before reaching the minimum point.\n",
    "    \n",
    "If the learning rate is set too high, this causes undesirable divergent behaviour to the loss function due to\n",
    "drastic updates in weights. It may fail to converge (model can give a good output) or even diverge (data is\n",
    "too chaotic for the network to train).\n",
    "</details>"
   ]
  },
  {
   "cell_type": "markdown",
   "metadata": {},
   "source": [
    "### Q79. What Is the Difference Between Epoch, Batch, and Iteration in Deep Learning?"
   ]
  },
  {
   "cell_type": "code",
   "execution_count": null,
   "metadata": {},
   "outputs": [],
   "source": []
  },
  {
   "cell_type": "markdown",
   "metadata": {},
   "source": [
    "<details>\n",
    "<summary>Click here for the solution</summary>\n",
    "    \n",
    "• Epoch – Represents one iteration over the entire dataset (everything put into the training model).\n",
    "    \n",
    "• Batch – Refers to when we cannot pass the entire dataset into the neural network at once, so we divide the dataset into several batches.\n",
    "    \n",
    "• Iteration – if we have 10,000 images as data and a batch size of 200. then an epoch should run 50 iterations (10,000 divided by 50).\n",
    "</details>"
   ]
  },
  {
   "cell_type": "markdown",
   "metadata": {},
   "source": [
    "### Q80. What Are the Different Layers on CNN?"
   ]
  },
  {
   "cell_type": "code",
   "execution_count": null,
   "metadata": {},
   "outputs": [],
   "source": []
  },
  {
   "cell_type": "markdown",
   "metadata": {},
   "source": [
    "<details>\n",
    "<summary>Click here for the solution</summary>\n",
    "    \n",
    "There are four layers in CNN:\n",
    "    \n",
    "1. Convolutional Layer – the layer that performs a convolutional operation, creating several smaller\n",
    "picture windows to go over the data.\n",
    "    \n",
    "2. ReLU Layer – it brings non-linearity to the network and converts all the negative pixels to zero. The\n",
    "output is a rectified feature map.\n",
    "    \n",
    "3. Pooling Layer – pooling is a down-sampling operation that reduces the dimensionality of the feature\n",
    "map.\n",
    "    \n",
    "4. Fully Connected Layer – this layer recognizes and classifies the objects in the image.\n",
    "    \n",
    "<p align=\"center\">\n",
    "  <img src=\"https://raw.githubusercontent.com/rasbot/data-science-interview-questions/master/Images/q80.PNG\" width=\"450\" height=\"auto\"/>\n",
    "</p>\n",
    "</details>"
   ]
  },
  {
   "cell_type": "markdown",
   "metadata": {},
   "source": [
    "### Q81. What Is Pooling on CNN, and How Does It Work?"
   ]
  },
  {
   "cell_type": "code",
   "execution_count": null,
   "metadata": {},
   "outputs": [],
   "source": []
  },
  {
   "cell_type": "markdown",
   "metadata": {},
   "source": [
    "<details>\n",
    "<summary>Click here for the solution</summary>\n",
    "Pooling is used to reduce the spatial dimensions of a CNN. It performs down-sampling operations to reduce\n",
    "the dimensionality and creates a pooled feature map by sliding a filter matrix over the input matrix.\n",
    "</details>"
   ]
  },
  {
   "cell_type": "markdown",
   "metadata": {},
   "source": [
    "### Q82. What are Recurrent Neural Networks(RNNs)?"
   ]
  },
  {
   "cell_type": "code",
   "execution_count": null,
   "metadata": {},
   "outputs": [],
   "source": []
  },
  {
   "cell_type": "markdown",
   "metadata": {},
   "source": [
    "<details>\n",
    "<summary>Click here for the solution</summary>\n",
    "    \n",
    "__RNNs__ are a type of artificial neural networks designed to recognise the pattern from the sequence of data\n",
    "such as Time series, stock market and government agencies etc. To understand recurrent nets, first, you\n",
    "have to understand the basics of feedforward nets.\n",
    "\n",
    "Both these networks RNN and feed-forward named after the way they channel information through a series\n",
    "of mathematical orations performed at the nodes of the network. One feeds information through\n",
    "straight(never touching the same node twice), while the other cycles it through a loop, and the latter are\n",
    "called recurrent.\n",
    "\n",
    "<p align=\"center\">\n",
    "  <img src=\"https://raw.githubusercontent.com/rasbot/data-science-interview-questions/master/Images/q82.PNG\" width=\"350\" height=\"auto\"/>\n",
    "</p>\n",
    "\n",
    "Recurrent networks, on the other hand, take as their input, not just the current input example they see, but\n",
    "also the what they have perceived previously in time.\n",
    "\n",
    "The decision a recurrent neural network reached at time t-1 affects the decision that it will reach one moment\n",
    "later at time t. So recurrent networks have two sources of input, the present and the recent past, which\n",
    "combine to determine how they respond to new data, much as we do in life.\n",
    "\n",
    "The error they generate will return via backpropagation and be used to adjust their weights until error can’t\n",
    "go any lower. Remember, the purpose of recurrent nets is to accurately classify sequential input. We rely on\n",
    "the backpropagation of error and gradient descent to do so.\n",
    "</details>"
   ]
  },
  {
   "cell_type": "markdown",
   "metadata": {},
   "source": [
    "### Q83. How Does an LSTM Network Work?"
   ]
  },
  {
   "cell_type": "code",
   "execution_count": null,
   "metadata": {},
   "outputs": [],
   "source": []
  },
  {
   "cell_type": "markdown",
   "metadata": {},
   "source": [
    "<details>\n",
    "<summary>Click here for the solution</summary>\n",
    "    \n",
    "<span style=\"color:blue\">__Long-Short-Term Memory (LSTM)__</span> is a special kind of recurrent neural network capable of learning longterm dependencies, remembering information for long periods as its default behaviour. There are three\n",
    "steps in an LSTM network:\n",
    "\n",
    "• Step 1: The network decides what to forget and what to remember.\n",
    "\n",
    "• Step 2: It selectively updates cell state values.\n",
    "\n",
    "• Step 3: The network decides what part of the current state makes it to the output.\n",
    "</details>"
   ]
  },
  {
   "cell_type": "markdown",
   "metadata": {},
   "source": [
    "### Q84. What Is a Multi-layer Perceptron(MLP)?"
   ]
  },
  {
   "cell_type": "code",
   "execution_count": null,
   "metadata": {},
   "outputs": [],
   "source": []
  },
  {
   "cell_type": "markdown",
   "metadata": {},
   "source": [
    "<details>\n",
    "<summary>Click here for the solution</summary>\n",
    "    \n",
    "As in <span style=\"color:blue\">__Neural Networks, MLPs__</span> have an input layer, a hidden layer, and an output layer. It has the\n",
    "same structure as a single layer <span style=\"color:blue\">__perceptron__</span> with one or more hidden layers. A single layer perceptron can\n",
    "classify only linear separable classes with binary output (0,1), but MLP can classify nonlinear classes.\n",
    "Except for the input layer, each node in the other layers uses a nonlinear activation function. This means the input layers, the data coming in, and the activation function is based upon all nodes and weights being added together, producing the output. MLP uses a supervised learning method called “backpropagation.” In <span style=\"color:blue\">__backpropagation__</span>, the neural network\n",
    "calculates the error with the help of cost function. It propagates this error backward from where it came\n",
    "(adjusts the weights to train the model more accurately).\n",
    "    \n",
    "<p align=\"center\">\n",
    "  <img src=\"https://raw.githubusercontent.com/rasbot/data-science-interview-questions/master/Images/q84.PNG\" width=\"300\" height=\"auto\"/>\n",
    "</p>\n",
    "</details>"
   ]
  },
  {
   "cell_type": "markdown",
   "metadata": {},
   "source": [
    "### Q85. Explain Gradient Descent."
   ]
  },
  {
   "cell_type": "code",
   "execution_count": null,
   "metadata": {},
   "outputs": [],
   "source": []
  },
  {
   "cell_type": "markdown",
   "metadata": {},
   "source": [
    "<details>\n",
    "<summary>Click here for the solution</summary>\n",
    "    \n",
    "To Understand Gradient Descent, Let’s understand what is a <span style=\"color:blue\">__Gradient__</span> first.\n",
    "    \n",
    "A __gradient__ measures how much the output of a function changes if you change the inputs a little bit. It\n",
    "simply measures the change in all weights with regard to the change in error. You can also think of a\n",
    "gradient as the slope of a function.\n",
    "    \n",
    "__Gradient Descent__ can be thought of climbing down to the bottom of a valley, instead of climbing up a\n",
    "hill. This is because it is a minimization algorithm that minimizes a given function (__Activation Function__).\n",
    "    \n",
    "<p align=\"center\">\n",
    "  <img src=\"https://raw.githubusercontent.com/rasbot/data-science-interview-questions/master/Images/q85.PNG\" width=\"350\" height=\"auto\"/>\n",
    "</p>\n",
    "    \n",
    "</details>"
   ]
  },
  {
   "cell_type": "markdown",
   "metadata": {},
   "source": [
    "### Q86. What is exploding gradients?"
   ]
  },
  {
   "cell_type": "code",
   "execution_count": null,
   "metadata": {},
   "outputs": [],
   "source": []
  },
  {
   "cell_type": "markdown",
   "metadata": {},
   "source": [
    "<details>\n",
    "<summary>Click here for the solution</summary>\n",
    "\n",
    "While training an RNN, if you see __exponentially growing (very large) error gradients__ which accumulate\n",
    "and result in very large updates to neural network model weights during training, they’re known as\n",
    "exploding gradients. At an extreme, the values of weights can become so large as to overflow and result in\n",
    "NaN values.\n",
    "    \n",
    "This has the effect of your model is unstable and unable to learn from your training data.\n",
    "</details>"
   ]
  },
  {
   "cell_type": "markdown",
   "metadata": {},
   "source": [
    "### Q87. What is vanishing gradients?"
   ]
  },
  {
   "cell_type": "code",
   "execution_count": null,
   "metadata": {},
   "outputs": [],
   "source": []
  },
  {
   "cell_type": "markdown",
   "metadata": {},
   "source": [
    "<details>\n",
    "<summary>Click here for the solution</summary>\n",
    "\n",
    "While training an RNN, your slope can become either too small; this makes the training difficult. When the\n",
    "slope is too small, the problem is known as a Vanishing Gradient. It leads to long training times, poor\n",
    "performance, and low accuracy.\n",
    "</details>"
   ]
  },
  {
   "cell_type": "markdown",
   "metadata": {},
   "source": [
    "### Q89. What is Back Propagation and Explain its Working."
   ]
  },
  {
   "cell_type": "code",
   "execution_count": null,
   "metadata": {},
   "outputs": [],
   "source": []
  },
  {
   "cell_type": "markdown",
   "metadata": {},
   "source": [
    "<details>\n",
    "<summary>Click here for the solution</summary>\n",
    "\n",
    "Backpropagation is a training algorithm used for multilayer neural network. In this method, we move the\n",
    "error from an end of the network to all weights inside the network and thus allowing efficient computation of\n",
    "the gradient.\n",
    "    \n",
    "It has the following steps:\n",
    "\n",
    "• Forward Propagation of Training Data\n",
    "    \n",
    "• Derivatives are computed using output and target\n",
    "    \n",
    "• Back Propagate for computing derivative of error wrt output activation\n",
    "    \n",
    "• Using previously calculated derivatives for output\n",
    "    \n",
    "• Update the Weights\n",
    "</details>"
   ]
  },
  {
   "cell_type": "markdown",
   "metadata": {},
   "source": [
    "### Q90. What are the variants of Back Propagation?"
   ]
  },
  {
   "cell_type": "markdown",
   "metadata": {},
   "source": [
    "<details>\n",
    "<summary>Click here for the solution</summary>\n",
    "\n",
    "• __Stochastic Gradient Descent__: We use only a single training example for calculation of gradient and\n",
    "update parameters.\n",
    "    \n",
    "• __Batch Gradient Descent__: We calculate the gradient for the whole dataset and perform the update at\n",
    "each iteration.\n",
    "    \n",
    "• __Mini-batch Gradient Descent__: It’s one of the most popular optimization algorithms. It’s a variant of\n",
    "Stochastic Gradient Descent and here instead of single training example, mini-batch of samples is\n",
    "used.\n",
    "</details>"
   ]
  },
  {
   "cell_type": "markdown",
   "metadata": {},
   "source": [
    "### Q91. What are the different Deep Learning Frameworks?"
   ]
  },
  {
   "cell_type": "code",
   "execution_count": null,
   "metadata": {},
   "outputs": [],
   "source": []
  },
  {
   "cell_type": "markdown",
   "metadata": {},
   "source": [
    "<details>\n",
    "<summary>Click here for the solution</summary>\n",
    "\n",
    "• Pytorch\n",
    "    \n",
    "• TensorFlow\n",
    "    \n",
    "• Microsoft Cognitive Toolkit\n",
    "    \n",
    "• Keras\n",
    "    \n",
    "• Caffe\n",
    "    \n",
    "• Chainer\n",
    "</details>"
   ]
  },
  {
   "cell_type": "markdown",
   "metadata": {},
   "source": [
    "### Q92. What is the role of the Activation Function?"
   ]
  },
  {
   "cell_type": "code",
   "execution_count": null,
   "metadata": {},
   "outputs": [],
   "source": []
  },
  {
   "cell_type": "markdown",
   "metadata": {},
   "source": [
    "<details>\n",
    "<summary>Click here for the solution</summary>\n",
    "\n",
    "The __Activation function__ is used to introduce non-linearity into the neural network helping it to learn more\n",
    "complex function. Without which the neural network would be only able to learn linear function which is a\n",
    "linear combination of its input data. An activation function is a function in an artificial neuron that delivers an\n",
    "output based on inputs.\n",
    "</details>"
   ]
  },
  {
   "cell_type": "markdown",
   "metadata": {},
   "source": [
    "### Q93. Name a few Machine Learning libraries for various purposes."
   ]
  },
  {
   "cell_type": "code",
   "execution_count": null,
   "metadata": {},
   "outputs": [],
   "source": []
  },
  {
   "cell_type": "markdown",
   "metadata": {},
   "source": [
    "<details>\n",
    "<summary>Click here for the solution</summary>\n",
    "\n",
    "<p align=\"center\">\n",
    "  <img src=\"https://raw.githubusercontent.com/rasbot/data-science-interview-questions/master/Images/q93.PNG\" width=\"600\" height=\"auto\"/>\n",
    "</p>\n",
    "</details>"
   ]
  },
  {
   "cell_type": "markdown",
   "metadata": {},
   "source": [
    "### Q94. What is an Auto-Encoder?"
   ]
  },
  {
   "cell_type": "code",
   "execution_count": null,
   "metadata": {},
   "outputs": [],
   "source": []
  },
  {
   "cell_type": "markdown",
   "metadata": {},
   "source": [
    "<details>\n",
    "<summary>Click here for the solution</summary>\n",
    "\n",
    "<span style=\"color:blue\">__Auto-encoders__</span> are simple learning networks that aim to transform inputs into outputs with the minimum possible error. This means that we want the output to be as close to input as possible. We add a couple of\n",
    "layers between the input and the output, and the sizes of these layers are smaller than the input layer. The auto-encoder receives unlabelled input which is then encoded to reconstruct the input.\n",
    "    \n",
    "<p align=\"center\">\n",
    "  <img src=\"https://raw.githubusercontent.com/rasbot/data-science-interview-questions/master/Images/q94.PNG\" width=\"350\" height=\"auto\"/>\n",
    "</p>\n",
    "</details>"
   ]
  },
  {
   "cell_type": "markdown",
   "metadata": {},
   "source": [
    "### Q95. What is a Boltzmann Machine?"
   ]
  },
  {
   "cell_type": "code",
   "execution_count": null,
   "metadata": {},
   "outputs": [],
   "source": []
  },
  {
   "cell_type": "markdown",
   "metadata": {},
   "source": [
    "<details>\n",
    "<summary>Click here for the solution</summary>\n",
    "\n",
    "Boltzmann machines have a simple learning algorithm that allows them to discover interesting features that\n",
    "represent complex regularities in the training data. The Boltzmann machine is basically used to optimise the\n",
    "weights and the quantity for the given problem. The learning algorithm is very slow in networks with many\n",
    "layers of feature detectors. “<span style=\"color:blue\">__Restricted Boltzmann Machines__</span>” algorithm has a single layer of feature detectors which makes it faster than the rest.\n",
    "\n",
    "<p align=\"center\">\n",
    "  <img src=\"https://raw.githubusercontent.com/rasbot/data-science-interview-questions/master/Images/q95.PNG\" width=\"200\" height=\"auto\"/>\n",
    "</p>\n",
    "</details>"
   ]
  },
  {
   "cell_type": "markdown",
   "metadata": {},
   "source": [
    "### Q96. What Is Dropout and Batch Normalization?"
   ]
  },
  {
   "cell_type": "code",
   "execution_count": null,
   "metadata": {},
   "outputs": [],
   "source": []
  },
  {
   "cell_type": "markdown",
   "metadata": {},
   "source": [
    "<details>\n",
    "<summary>Click here for the solution</summary>\n",
    "\n",
    "Dropout is a technique of dropping out hidden and visible units of a network randomly to prevent overfitting\n",
    "of data (typically dropping 20 per cent of the nodes). It doubles the number of iterations needed to converge\n",
    "the network.\n",
    "\n",
    "<p align=\"center\">\n",
    "  <img src=\"https://raw.githubusercontent.com/rasbot/data-science-interview-questions/master/Images/q96.PNG\" width=\"400\" height=\"auto\"/>\n",
    "</p>\n",
    "\n",
    "Batch normalization is the technique to improve the performance and stability of neural networks by\n",
    "normalizing the inputs in every layer so that they have mean output activation of zero and standard deviation\n",
    "of one.\n",
    "</details>"
   ]
  },
  {
   "cell_type": "markdown",
   "metadata": {},
   "source": [
    "### Q97. What Is the Difference Between Batch Gradient Descent and Stochastic Gradient Descent?"
   ]
  },
  {
   "cell_type": "code",
   "execution_count": null,
   "metadata": {},
   "outputs": [],
   "source": []
  },
  {
   "cell_type": "markdown",
   "metadata": {},
   "source": [
    "<details>\n",
    "<summary>Click here for the solution</summary>\n",
    "\n",
    "<p align=\"center\">\n",
    "  <img src=\"https://raw.githubusercontent.com/rasbot/data-science-interview-questions/master/Images/q97.PNG\" width=\"550\" height=\"auto\"/>\n",
    "</p>\n",
    "</details>"
   ]
  },
  {
   "cell_type": "markdown",
   "metadata": {},
   "source": [
    "### Q98. Why Is Tensorflow the Most Preferred Library in Deep Learning?"
   ]
  },
  {
   "cell_type": "code",
   "execution_count": null,
   "metadata": {},
   "outputs": [],
   "source": []
  },
  {
   "cell_type": "markdown",
   "metadata": {},
   "source": [
    "<details>\n",
    "<summary>Click here for the solution</summary>\n",
    "\n",
    "Tensorflow provides both C++ and Python APIs, making it easier to work on and has a faster compilation\n",
    "time compared to other Deep Learning libraries like Keras and Torch. Tensorflow supports both CPU and\n",
    "GPU computing devices.\n",
    "</details>"
   ]
  },
  {
   "cell_type": "markdown",
   "metadata": {},
   "source": [
    "### Q99. What Do You Mean by Tensor in Tensorflow?"
   ]
  },
  {
   "cell_type": "code",
   "execution_count": null,
   "metadata": {},
   "outputs": [],
   "source": []
  },
  {
   "cell_type": "markdown",
   "metadata": {},
   "source": [
    "<details>\n",
    "<summary>Click here for the solution</summary>\n",
    "\n",
    "A tensor is a mathematical object represented as arrays of higher dimensions. These arrays of data with\n",
    "different dimensions and ranks fed as input to the neural network are called “__Tensors__.”\n",
    "    \n",
    "<p align=\"center\">\n",
    "  <img src=\"https://raw.githubusercontent.com/rasbot/data-science-interview-questions/master/Images/q99.PNG\" width=\"450\" height=\"auto\"/>\n",
    "</p>\n",
    "    \n",
    "</details>"
   ]
  },
  {
   "cell_type": "markdown",
   "metadata": {},
   "source": [
    "### Q100. What is the Computational Graph?"
   ]
  },
  {
   "cell_type": "code",
   "execution_count": null,
   "metadata": {},
   "outputs": [],
   "source": []
  },
  {
   "cell_type": "markdown",
   "metadata": {},
   "source": [
    "<details>\n",
    "<summary>Click here for the solution</summary>\n",
    "\n",
    "Everything in a tensorflow is based on creating a computational graph. It has a network of nodes where each\n",
    "node operates, Nodes represent mathematical operations, and edges represent tensors. Since data flows\n",
    "in the form of a graph, it is also called a “DataFlow Graph.”\n",
    "</details>"
   ]
  },
  {
   "cell_type": "markdown",
   "metadata": {},
   "source": [
    "### Q101. What are the differences between supervised and unsupervised learning?"
   ]
  },
  {
   "cell_type": "code",
   "execution_count": null,
   "metadata": {},
   "outputs": [],
   "source": []
  },
  {
   "cell_type": "markdown",
   "metadata": {},
   "source": [
    "<details>\n",
    "<summary>Click here for the solution</summary>\n",
    "\n",
    "<p align=\"center\">\n",
    "  <img src=\"https://raw.githubusercontent.com/rasbot/data-science-interview-questions/master/Images/q101.PNG\" width=\"550\" height=\"auto\"/>\n",
    "</p>\n",
    "</details>"
   ]
  },
  {
   "cell_type": "markdown",
   "metadata": {},
   "source": [
    "### Q102. How is logistic regression done?"
   ]
  },
  {
   "cell_type": "code",
   "execution_count": null,
   "metadata": {},
   "outputs": [],
   "source": []
  },
  {
   "cell_type": "markdown",
   "metadata": {},
   "source": [
    "<details>\n",
    "<summary>Click here for the solution</summary>\n",
    "\n",
    "Logistic regression measures the relationship between the dependent variable (our label of what we want\n",
    "to predict) and one or more independent variables (our features) by estimating probability using its\n",
    "underlying logistic function (sigmoid).\n",
    "\n",
    "The image shown below depicts how logistic regression works:\n",
    "\n",
    "<p align=\"center\">\n",
    "  <img src=\"https://raw.githubusercontent.com/rasbot/data-science-interview-questions/master/Images/q102a.PNG\" width=\"450\" height=\"auto\"/>\n",
    "</p>\n",
    "\n",
    "The formula and graph for the sigmoid function are as shown:\n",
    "\n",
    "<p align=\"center\">\n",
    "  <img src=\"https://raw.githubusercontent.com/rasbot/data-science-interview-questions/master/Images/q102b.PNG\" width=\"450\" height=\"auto\"/>\n",
    "</p>\n",
    "</details>"
   ]
  },
  {
   "cell_type": "markdown",
   "metadata": {},
   "source": [
    "### Q103. Explain the steps in making a decision tree."
   ]
  },
  {
   "cell_type": "code",
   "execution_count": null,
   "metadata": {},
   "outputs": [],
   "source": []
  },
  {
   "cell_type": "markdown",
   "metadata": {},
   "source": [
    "<details>\n",
    "<summary>Click here for the solution</summary>\n",
    "\n",
    "1. Take the entire data set as input\n",
    "    \n",
    "2. Calculate entropy of the target variable, as well as the predictor attributes\n",
    "    \n",
    "3. Calculate your information gain of all attributes (we gain information on sorting different objects from each other)\n",
    "    \n",
    "4. Choose the attribute with the highest information gain as the root node\n",
    "    \n",
    "5. Repeat the same procedure on every branch until the decision node of each branch is finalized\n",
    "    \n",
    "For example, let's say you want to build a decision tree to decide whether you should accept or decline a\n",
    "job offer. The decision tree for this case is as shown:\n",
    "    \n",
    "<p align=\"center\">\n",
    "  <img src=\"https://raw.githubusercontent.com/rasbot/data-science-interview-questions/master/Images/q103.PNG\" width=\"350\" height=\"auto\"/>\n",
    "</p>\n",
    "    \n",
    "It is clear from the decision tree that an offer is accepted if:\n",
    "    \n",
    "• Salary is greater than \\$50,000\n",
    "\n",
    "• The commute is less than an hour\n",
    "\n",
    "• Incentives are offered"
   ]
  },
  {
   "cell_type": "markdown",
   "metadata": {},
   "source": [
    "### Q104. How do you build a random forest model?"
   ]
  },
  {
   "cell_type": "code",
   "execution_count": null,
   "metadata": {},
   "outputs": [],
   "source": []
  },
  {
   "cell_type": "markdown",
   "metadata": {},
   "source": [
    "<details>\n",
    "<summary>Click here for the solution</summary>\n",
    "\n",
    "A random forest is built up of a number of decision trees. If you split the data into different packages and\n",
    "make a decision tree in each of the different groups of data, the random forest brings all those trees\n",
    "together.\n",
    "Steps to build a random forest model:\n",
    "    \n",
    "1. Randomly select 'k' features from a total of'm' features where k << m\n",
    "    \n",
    "2. Among the 'k' features, calculate the node D using the best split point\n",
    "    \n",
    "3. Split the node into daughter nodes using the best split\n",
    "    \n",
    "4. Repeat steps two and three until leaf nodes are finalized\n",
    "    \n",
    "5. Build forest by repeating steps one to four for 'n' times to create 'n' number of trees\n",
    "</details>"
   ]
  },
  {
   "cell_type": "markdown",
   "metadata": {},
   "source": [
    "### Q105. How can you avoid the overfitting your model?"
   ]
  },
  {
   "cell_type": "code",
   "execution_count": null,
   "metadata": {},
   "outputs": [],
   "source": []
  },
  {
   "cell_type": "markdown",
   "metadata": {},
   "source": [
    "<details>\n",
    "<summary>Click here for the solution</summary>\n",
    "\n",
    "Overfitting refers to a model that is only set for a very small amount of data and ignores the bigger picture.\n",
    "There are three main methods to avoid overfitting:\n",
    "    \n",
    "1. Keep the model simple—take fewer variables into account, thereby removing some of the noise in the training data\n",
    "    \n",
    "2. Use cross-validation techniques, such as k folds cross-validation\n",
    "    \n",
    "3. Use regularization techniques, such as LASSO, that penalize certain model parameters if they're likely to cause overfitting\n",
    "</details>"
   ]
  },
  {
   "cell_type": "markdown",
   "metadata": {},
   "source": [
    "### Q106. Differentiate between univariate, bivariate, and multivariate analysis."
   ]
  },
  {
   "cell_type": "code",
   "execution_count": null,
   "metadata": {},
   "outputs": [],
   "source": []
  },
  {
   "cell_type": "markdown",
   "metadata": {},
   "source": [
    "<details>\n",
    "<summary>Click here for the solution</summary>\n",
    "\n",
    "__Univariate__\n",
    "    \n",
    "Univariate data contains only one variable. The purpose of the univariate analysis is to describe the data\n",
    "and find patterns that exist within it.\n",
    "    \n",
    "<p align=\"center\">\n",
    "  <img src=\"https://raw.githubusercontent.com/rasbot/data-science-interview-questions/master/Images/q106a.PNG\" width=\"450\" height=\"auto\"/>\n",
    "</p>\n",
    "    \n",
    "The patterns can be studied by drawing conclusions using mean, median, mode, dispersion or range,\n",
    "minimum, maximum, etc.\n",
    "    \n",
    "__Bivariate__\n",
    "    \n",
    "Bivariate data involves two different variables. The analysis of this type of data deals with causes and\n",
    "relationships and the analysis is done to determine the relationship between the two variables.\n",
    "Example: temperature and ice cream sales in the summer season\n",
    " \n",
    "<p align=\"center\">\n",
    "  <img src=\"https://raw.githubusercontent.com/rasbot/data-science-interview-questions/master/Images/q106b.PNG\" width=\"450\" height=\"auto\"/>\n",
    "</p>\n",
    "    \n",
    "Here, the relationship is visible from the table that temperature and sales are directly proportional to each\n",
    "other. The hotter the temperature, the better the sales.\n",
    "    \n",
    "__Multivariate__\n",
    "    \n",
    "Multivariate data involves three or more variables, it is categorized under multivariate. It is similar to a\n",
    "bivariate, but contains more than one dependent variable.\n",
    "Example: data for house price prediction\n",
    "\n",
    "<p align=\"center\">\n",
    "  <img src=\"https://raw.githubusercontent.com/rasbot/data-science-interview-questions/master/Images/q106c.PNG\" width=\"450\" height=\"auto\"/>\n",
    "</p>\n",
    "    \n",
    "The patterns can be studied by drawing conclusions using mean, median, and mode, dispersion or range,\n",
    "minimum, maximum, etc. You can start describing the data and using it to guess what the price of the\n",
    "house will be.\n",
    "</details>"
   ]
  },
  {
   "cell_type": "markdown",
   "metadata": {},
   "source": [
    "### Q107. What are the feature selection methods used to select the right variables?"
   ]
  },
  {
   "cell_type": "code",
   "execution_count": null,
   "metadata": {},
   "outputs": [],
   "source": []
  },
  {
   "cell_type": "markdown",
   "metadata": {},
   "source": [
    "<details>\n",
    "<summary>Click here for the solution</summary>\n",
    "\n",
    "There are two main methods for feature selection:\n",
    "\n",
    "<span style=\"color:blue\">__Filter Methods__</span>\n",
    "    \n",
    "This involves:\n",
    "    \n",
    "• Linear discrimination analysis\n",
    "    \n",
    "• ANOVA\n",
    "    \n",
    "• Chi-Square\n",
    "    \n",
    "The best analogy for selecting features is \"bad data in, bad answer out.\" When we're limiting or selecting the features, it's all about cleaning up the data coming in.\n",
    "    \n",
    "<span style=\"color:blue\">__Wrapper Methods__</span>\n",
    "    \n",
    "This involves:\n",
    "    \n",
    "• Forward Selection: We test one feature at a time and keep adding them until we get a good fit\n",
    "    \n",
    "• Backward Selection: We test all the features and start removing them to see what works better\n",
    "    \n",
    "• Recursive Feature Elimination: Recursively looks through all the different features and how they pair together\n",
    "    \n",
    "Wrapper methods are very labor-intensive, and high-end computers are needed if a lot of data analysis is performed with the wrapper method.\n",
    "</details>"
   ]
  },
  {
   "cell_type": "markdown",
   "metadata": {},
   "source": [
    "### Q108. What is are sparse and dense matrices?"
   ]
  },
  {
   "cell_type": "code",
   "execution_count": null,
   "metadata": {},
   "outputs": [],
   "source": []
  },
  {
   "cell_type": "markdown",
   "metadata": {},
   "source": [
    "<details>\n",
    "<summary>Click here for the solution</summary>\n",
    "\n",
    "A matrix with most of the elements are zero is called a __sparse matrix__. In constrast, a matrix with most of the elements are non-zero is called a __dense matrix__. \n",
    "</details>"
   ]
  },
  {
   "cell_type": "markdown",
   "metadata": {},
   "source": [
    "### Q109. You are given a data set consisting of variables with more than 30 percent missing values. How will you deal with them?"
   ]
  },
  {
   "cell_type": "code",
   "execution_count": null,
   "metadata": {},
   "outputs": [],
   "source": []
  },
  {
   "cell_type": "markdown",
   "metadata": {},
   "source": [
    "<details>\n",
    "<summary>Click here for the solution</summary>\n",
    "\n",
    "The following are ways to handle missing data values:\n",
    "    \n",
    "If the data set is large, we can just simply remove the rows with missing data values. It is the quickest way;\n",
    "we use the rest of the data to predict the values.\n",
    "    \n",
    "For smaller data sets, we can substitute missing values with the mean or average of the rest of the data using pandas data frame in python. There are different ways to do so, such as df.mean(), df.fillna(mean).\n",
    "</details>"
   ]
  },
  {
   "cell_type": "markdown",
   "metadata": {},
   "source": [
    "### Q110. For the given points, how will you calculate the Euclidean distance in Python?"
   ]
  },
  {
   "cell_type": "code",
   "execution_count": null,
   "metadata": {},
   "outputs": [],
   "source": []
  },
  {
   "cell_type": "markdown",
   "metadata": {},
   "source": [
    "<details>\n",
    "<summary>Click here for the solution</summary>\n",
    "\n",
    "$plot_1 = [1,3]$\n",
    "    \n",
    "$plot_2 = [2,5]$\n",
    "    \n",
    "The Euclidean distance can be calculated as follows:\n",
    "    \n",
    "$euclidean\\_distance = \\sqrt{ (plot_1[0]-plot_2[0])^2 + (plot_1[1]-plot_2[1])^2 }$\n",
    "</details>"
   ]
  },
  {
   "cell_type": "markdown",
   "metadata": {},
   "source": [
    "### Q111. What are dimensionality reduction and its benefits?"
   ]
  },
  {
   "cell_type": "code",
   "execution_count": null,
   "metadata": {},
   "outputs": [],
   "source": []
  },
  {
   "cell_type": "markdown",
   "metadata": {},
   "source": [
    "<details>\n",
    "<summary>Click here for the solution</summary>\n",
    "\n",
    "Dimensionality reduction refers to the process of converting a data set with vast dimensions into data with fewer dimensions (fields) to convey similar information concisely.\n",
    "    \n",
    "This reduction helps in compressing data and reducing storage space. It also reduces computation time as fewer dimensions lead to less computing. It removes redundant features; for example, there's no point in storing a value in two different units (meters and inches).\n",
    "</details>"
   ]
  },
  {
   "cell_type": "markdown",
   "metadata": {},
   "source": [
    "### Q112. How will you calculate eigenvalues and eigenvectors of the following 3x3 matrix?"
   ]
  },
  {
   "cell_type": "code",
   "execution_count": null,
   "metadata": {},
   "outputs": [],
   "source": []
  },
  {
   "cell_type": "markdown",
   "metadata": {},
   "source": [
    "<details>\n",
    "<summary>Click here for the solution</summary>\n",
    "\n",
    "<p align=\"center\">\n",
    "  <img src=\"https://raw.githubusercontent.com/rasbot/data-science-interview-questions/master/Images/q112.PNG\" width=\"200\" height=\"auto\"/>\n",
    "</p>\n",
    "\n",
    "The characteristic equation is as shown:\n",
    "\n",
    "Expanding determinant:\n",
    "\n",
    "$(-2 – λ) [(1-λ) (5-λ)-2x2] + 4[(-2) x (5-λ) -4x2] + 2[(-2) x 2-4(1-λ)] =0$\n",
    "\n",
    "$- λ3 + 4λ2 + 27λ – 90 = 0$\n",
    "\n",
    "$λ3 - 4 λ2 -27 λ + 90 = 0$\n",
    "\n",
    "Here we have an algebraic equation built from the eigenvectors.\n",
    "\n",
    "By hit and trial:\n",
    " \n",
    "$33 – 4 x 32 - 27 x 3 +90 = 0$\n",
    "\n",
    "Hence, $(λ - 3)$ is a factor:\n",
    "\n",
    "$λ3 - 4 λ2 - 27 λ +90 = (λ – 3) (λ2 – λ – 30)$\n",
    "\n",
    "Eigenvalues are $3,-5,6$:\n",
    "\n",
    "$(λ – 3) (λ2 – λ – 30) = (λ – 3) (λ+5) (λ-6)$\n",
    "\n",
    "Calculate eigenvector for $λ = 3$\n",
    "\n",
    "For $X = 1$,\n",
    "\n",
    "$-5 - 4Y + 2Z = 0$\n",
    "\n",
    "$-2 - 2Y + 2Z = 0$\n",
    "\n",
    "Subtracting the two equations:\n",
    "\n",
    "$3 + 2Y = 0$\n",
    "\n",
    "Subtracting back into second equation:\n",
    "\n",
    "$Y = -(3/2)$\n",
    "\n",
    "$Z = -(1/2)$\n",
    "\n",
    "Similarly, we can calculate the eigenvectors for -5 and 6.\n",
    "</details>"
   ]
  },
  {
   "cell_type": "markdown",
   "metadata": {},
   "source": [
    "### Q113. How should you maintain a deployed model?"
   ]
  },
  {
   "cell_type": "code",
   "execution_count": null,
   "metadata": {},
   "outputs": [],
   "source": []
  },
  {
   "cell_type": "markdown",
   "metadata": {},
   "source": [
    "<details>\n",
    "<summary>Click here for the solution</summary>\n",
    "\n",
    "The steps to maintain a deployed model are:\n",
    "\n",
    "__Monitor__\n",
    "\n",
    "Constant monitoring of all models is needed to determine their performance accuracy. When you change something, you want to figure out how your changes are going to affect things. This needs to be monitored to ensure it's doing what it's supposed to do.\n",
    "\n",
    "__Evaluate__\n",
    "\n",
    "Evaluation metrics of the current model are calculated to determine if a new algorithm is needed.\n",
    "\n",
    "__Compare__\n",
    " \n",
    "The new models are compared to each other to determine which model performs the best.\n",
    "\n",
    "__Rebuild__\n",
    "\n",
    "The best performing model is re-built on the current state of data.\n",
    "</details>"
   ]
  },
  {
   "cell_type": "markdown",
   "metadata": {},
   "source": [
    "### Q114. What are recommender systems?"
   ]
  },
  {
   "cell_type": "code",
   "execution_count": null,
   "metadata": {},
   "outputs": [],
   "source": []
  },
  {
   "cell_type": "markdown",
   "metadata": {},
   "source": [
    "<details>\n",
    "<summary>Click here for the solution</summary>\n",
    "\n",
    "A recommender system predicts what a user would rate a specific product based on their preferences. It can be split into two different areas:\n",
    "\n",
    "<span style=\"color:blue\">__Collaborative filtering__</span>\n",
    "\n",
    "As an example, Last.fm recommends tracks that other users with similar interests play often. This is also commonly seen on Amazon after making a purchase; customers may notice the following message accompanied by product recommendations: \"Users who bought this also bought…\"\n",
    "\n",
    "<span style=\"color:blue\">__Content-based filtering__</span>\n",
    "\n",
    "As an example: Pandora uses the properties of a song to recommend music with similar properties. Here, we look at content, instead of looking at who else is listening to music.\n",
    "</details>"
   ]
  },
  {
   "cell_type": "markdown",
   "metadata": {},
   "source": [
    "### Q115. How do you find RMSE and MSE in a linear regression model?"
   ]
  },
  {
   "cell_type": "code",
   "execution_count": null,
   "metadata": {},
   "outputs": [],
   "source": []
  },
  {
   "cell_type": "markdown",
   "metadata": {},
   "source": [
    "<details>\n",
    "<summary>Click here for the solution</summary>\n",
    "\n",
    "RMSE and MSE are two of the most common measures of accuracy for a linear regression model.\n",
    "\n",
    "RMSE indicates the Root Mean Square Error.\n",
    "\n",
    "$RMSE=\\sqrt{\\frac{\\sum\\limits_{i=1}^N (Predicted_i - Actual_i)^2}{N}}$\n",
    "\n",
    "MSE indicates the Mean Square Error.\n",
    "\n",
    "$MSE=\\frac{\\sum\\limits_{i=1}^N (Predicted_i - Actual_i)^2}{N}$\n",
    "</details>"
   ]
  },
  {
   "cell_type": "markdown",
   "metadata": {},
   "source": [
    "### Q116. How can you select k for k-means?"
   ]
  },
  {
   "cell_type": "code",
   "execution_count": null,
   "metadata": {},
   "outputs": [],
   "source": []
  },
  {
   "cell_type": "markdown",
   "metadata": {},
   "source": [
    "We use the elbow method to select k for k-means clustering. The idea of the elbow method is to run kmeans clustering on the data set where 'k' is the number of clusters.\n",
    " \n",
    "Within the sum of squares (WSS), it is defined as the sum of the squared distance between each member\n",
    "of the cluster and its centroid."
   ]
  },
  {
   "cell_type": "markdown",
   "metadata": {},
   "source": [
    "### Q117. What is the significance of p-value?"
   ]
  },
  {
   "cell_type": "code",
   "execution_count": null,
   "metadata": {},
   "outputs": [],
   "source": []
  },
  {
   "cell_type": "markdown",
   "metadata": {},
   "source": [
    "p-value typically ≤ 0.05\n",
    "This indicates strong evidence against the null hypothesis; so you reject the null hypothesis.\n",
    "p-value typically > 0.05\n",
    "This indicates weak evidence against the null hypothesis, so you accept the null hypothesis.\n",
    "p-value at cutoff 0.05\n",
    "This is considered to be marginal, meaning it could go either way."
   ]
  },
  {
   "cell_type": "markdown",
   "metadata": {},
   "source": [
    "### Q118. How can outlier values be treated?"
   ]
  },
  {
   "cell_type": "code",
   "execution_count": null,
   "metadata": {},
   "outputs": [],
   "source": []
  },
  {
   "cell_type": "markdown",
   "metadata": {},
   "source": [
    "You can drop outliers only if it is a garbage value.\n",
    "Example: height of an adult = abc ft. This cannot be true, as the height cannot be a string value. In this\n",
    "case, outliers can be removed.\n",
    "If the outliers have extreme values, they can be removed. For example, if all the data points are clustered\n",
    "between zero to 10, but one point lies at 100, then we can remove this point.\n",
    "If you cannot drop outliers, you can try the following:\n",
    "• Try a different model. Data detected as outliers by linear models can be fit by nonlinear models.\n",
    "Therefore, be sure you are choosing the correct model.\n",
    "• Try normalizing the data. This way, the extreme data points are pulled to a similar range.\n",
    "• You can use algorithms that are less affected by outliers; an example would be random forests."
   ]
  },
  {
   "cell_type": "markdown",
   "metadata": {},
   "source": [
    "### Q119. How can a time-series data be declared as stationery?"
   ]
  },
  {
   "cell_type": "code",
   "execution_count": null,
   "metadata": {},
   "outputs": [],
   "source": []
  },
  {
   "cell_type": "markdown",
   "metadata": {},
   "source": [
    "It is stationary when the variance and mean of the series are constant with time.\n",
    "Here is a visual example:\n",
    " \n",
    "In the first graph, the variance is constant with time. Here, X is the time factor and Y is the variable. The\n",
    "value of Y goes through the same points all the time; in other words, it is stationary.\n",
    "In the second graph, the waves get bigger, which means it is non-stationary and the variance is changing\n",
    "with time."
   ]
  },
  {
   "cell_type": "markdown",
   "metadata": {},
   "source": [
    "### Q120. How can you calculate accuracy using a confusion matrix?"
   ]
  },
  {
   "cell_type": "code",
   "execution_count": null,
   "metadata": {},
   "outputs": [],
   "source": []
  },
  {
   "cell_type": "markdown",
   "metadata": {},
   "source": [
    "Consider this confusion matrix:\n",
    "You can see the values for total data, actual values, and predicted values.\n",
    "The formula for accuracy is:\n",
    "Accuracy = (True Positive + True Negative) / Total Observations\n",
    "= (262 + 347) / 650\n",
    "= 609 / 650\n",
    "= 0.93\n",
    "As a result, we get an accuracy of 93 percent."
   ]
  },
  {
   "cell_type": "markdown",
   "metadata": {},
   "source": [
    "### Q121. Write the equation and calculate the precision and recall rate."
   ]
  },
  {
   "cell_type": "code",
   "execution_count": null,
   "metadata": {},
   "outputs": [],
   "source": []
  },
  {
   "cell_type": "markdown",
   "metadata": {},
   "source": [
    "Consider the same confusion matrix used in the previous question.\n",
    "Precision = (True positive) / (True Positive + False Positive)\n",
    "= 262 / 277\n",
    "= 0.94\n",
    "Recall Rate = (True Positive) / (Total Positive + False Negative)\n",
    "= 262 / 288\n",
    "= 0.90"
   ]
  },
  {
   "cell_type": "markdown",
   "metadata": {},
   "source": [
    "### Q122. 'People who bought this also bought…' recommendations seen on Amazon are a result of which algorithm?"
   ]
  },
  {
   "cell_type": "code",
   "execution_count": null,
   "metadata": {},
   "outputs": [],
   "source": []
  },
  {
   "cell_type": "markdown",
   "metadata": {},
   "source": [
    "The recommendation engine is accomplished with collaborative filtering. Collaborative filtering explains the\n",
    "behavior of other users and their purchase history in terms of ratings, selection, etc.\n",
    "The engine makes predictions on what might interest a person based on the preferences of other users. In\n",
    "this algorithm, item features are unknown.\n",
    "For example, a sales page shows that a certain number of people buy a new phone and also buy\n",
    "tempered glass at the same time. Next time, when a person buys a phone, he or she may see a\n",
    "recommendation to buy tempered glass as well."
   ]
  },
  {
   "cell_type": "markdown",
   "metadata": {},
   "source": [
    "### Q123. What is a Generative Adversarial Network?"
   ]
  },
  {
   "cell_type": "code",
   "execution_count": null,
   "metadata": {},
   "outputs": [],
   "source": []
  },
  {
   "cell_type": "markdown",
   "metadata": {},
   "source": [
    "Suppose there is a wine shop purchasing wine from dealers, which they resell later. But some dealers sell\n",
    "fake wine. In this case, the shop owner should be able to distinguish between fake and authentic wine.\n",
    "The forger will try different techniques to sell fake wine and make sure specific techniques go past the shop\n",
    "owner’s check. The shop owner would probably get some feedback from wine experts that some of the wine\n",
    "is not original. The owner would have to improve how he determines whether a wine is fake or authentic.\n",
    "The forger’s goal is to create wines that are indistinguishable from the authentic ones while the shop owner\n",
    "intends to tell if the wine is real or not accurately\n",
    "Let us understand this example with the help of an image.\n",
    "There is a noise vector coming into the\n",
    "forger who is generating fake wine.\n",
    "Here the forger acts as a Generator.\n",
    "The shop owner acts as a Discriminator.\n",
    "The Discriminator gets two inputs; one is the fake wine, while the other is the real authentic wine. The shop\n",
    "owner has to figure out whether it is real or fake.\n",
    "So, there are two primary components of Generative Adversarial Network (GAN) named:\n",
    "1. Generator\n",
    "2. Discriminator\n",
    "The generator is a CNN that keeps keys producing images and is closer in appearance to the real images\n",
    "while the discriminator tries to determine the difference between real and fake images The ultimate aim is to\n",
    "make the discriminator learn to identify real and fake images.\n",
    "Apart from the very technical questions, your interviewer could even hit you up with a few simple ones to\n",
    "check your overall confidence, in the likes of the following."
   ]
  },
  {
   "cell_type": "markdown",
   "metadata": {},
   "source": [
    "### Q124. You are given a dataset on cancer detection. You have built a classification model and achieved an accuracy of 96 percent. Why shouldn't you be happy with your model performance? What can you do about it?"
   ]
  },
  {
   "cell_type": "code",
   "execution_count": null,
   "metadata": {},
   "outputs": [],
   "source": []
  },
  {
   "cell_type": "markdown",
   "metadata": {},
   "source": [
    "Cancer detection results in imbalanced data. In an imbalanced dataset, accuracy should not be based as a\n",
    "measure of performance. It is important to focus on the remaining four percent, which represents the\n",
    "patients who were wrongly diagnosed. Early diagnosis is crucial when it comes to cancer detection, and\n",
    "can greatly improve a patient's prognosis.\n",
    " \n",
    "Hence, to evaluate model performance, we should use Sensitivity (True Positive Rate), Specificity (True\n",
    "Negative Rate), F measure to determine the class wise performance of the classifier."
   ]
  },
  {
   "cell_type": "markdown",
   "metadata": {},
   "source": []
  },
  {
   "cell_type": "markdown",
   "metadata": {},
   "source": [
    "### Q125. Which of the following machine learning algorithms can be used for inputting missing values of both categorical and continuous variables?"
   ]
  },
  {
   "cell_type": "code",
   "execution_count": null,
   "metadata": {},
   "outputs": [],
   "source": []
  },
  {
   "cell_type": "markdown",
   "metadata": {},
   "source": [
    "• K-means clustering\n",
    "• Linear regression\n",
    "• K-NN (k-nearest neighbor)\n",
    "• Decision trees\n",
    "The K nearest neighbor algorithm can be used because it can compute the nearest neighbor and if it\n",
    "doesn't have a value, it just computes the nearest neighbor based on all the other features.\n",
    "When you're dealing with K-means clustering or linear regression, you need to do that in your preprocessing, otherwise, they'll crash. Decision trees also have the same problem, although there is some\n",
    "variance."
   ]
  },
  {
   "cell_type": "markdown",
   "metadata": {},
   "source": [
    "### Q126. Below are the eight actual values of the target variable in the train file. What is the entropy of the target variable?"
   ]
  },
  {
   "cell_type": "code",
   "execution_count": null,
   "metadata": {},
   "outputs": [],
   "source": []
  },
  {
   "cell_type": "markdown",
   "metadata": {},
   "source": [
    "[0, 0, 0, 1, 1, 1, 1, 1]\n",
    "Choose the correct answer.\n",
    "1. -(5/8 log(5/8) + 3/8 log(3/8))\n",
    "2. 5/8 log(5/8) + 3/8 log(3/8)\n",
    "3. 3/8 log(5/8) + 5/8 log(3/8)\n",
    "4. 5/8 log(3/8) – 3/8 log(5/8)\n",
    "The target variable, in this case, is 1.\n",
    "The formula for calculating the entropy is:\n",
    "Putting p=5 and n=8, we get\n",
    "Entropy = A = -(5/8 log(5/8) + 3/8 log(3/8))"
   ]
  },
  {
   "cell_type": "markdown",
   "metadata": {},
   "source": [
    "### Q127. We want to predict the probability of death from heart disease based on three risk factors: age, gender, and blood cholesterol level. What is the most appropriate algorithm for this case?\n",
    "Choose the correct option:\n",
    " \n",
    "1. Logistic Regression\n",
    "2. Linear Regression\n",
    "3. K-means clustering\n",
    "4. Apriori algorithm"
   ]
  },
  {
   "cell_type": "code",
   "execution_count": null,
   "metadata": {},
   "outputs": [],
   "source": []
  },
  {
   "cell_type": "markdown",
   "metadata": {},
   "source": [
    "The most appropriate algorithm for this case is A, logistic regression."
   ]
  },
  {
   "cell_type": "markdown",
   "metadata": {},
   "source": [
    "### Q128. After studying the behavior of a population, you have identified four specific individual types that are valuable to your study. You would like to find all users who are most similar to each individual type. Which algorithm is most appropriate for this study?\n",
    "\n",
    "Choose the correct option:\n",
    "1. K-means clustering\n",
    "2. Linear regression\n",
    "3. Association rules\n",
    "4. Decision trees"
   ]
  },
  {
   "cell_type": "code",
   "execution_count": null,
   "metadata": {},
   "outputs": [],
   "source": []
  },
  {
   "cell_type": "markdown",
   "metadata": {},
   "source": [
    "As we are looking for grouping people together specifically by four different similarities, it indicates the\n",
    "value of k. Therefore, K-means clustering (answer A) is the most appropriate algorithm for this study."
   ]
  },
  {
   "cell_type": "markdown",
   "metadata": {},
   "source": [
    "### Q129. You have run the association rules algorithm on your dataset, and the two rules {banana, apple} => {grape} and {apple, orange} => {grape} have been found to be relevant. What else must be true?\n",
    "\n",
    "Choose the right answer:\n",
    "1. {banana, apple, grape, orange} must be a frequent itemset\n",
    "2. {banana, apple} => {orange} must be a relevant rule\n",
    "3. {grape} => {banana, apple} must be a relevant rule\n",
    "4. {grape, apple} must be a frequent itemset"
   ]
  },
  {
   "cell_type": "markdown",
   "metadata": {},
   "source": [
    "The answer is A: {grape, apple} must be a frequent itemset"
   ]
  },
  {
   "cell_type": "markdown",
   "metadata": {},
   "source": [
    "### Q130. Your organization has a website where visitors randomly receive one of two coupons. It is also possible that visitors to the website will not receive a coupon. You have been asked to determine if offering a coupon to website visitors has any impact on their purchase decisions. Which analysis method should you use?\n",
    "\n",
    "1. One-way ANOVA\n",
    "2. K-means clustering\n",
    "3. Association rules\n",
    "4. Student's t-test"
   ]
  },
  {
   "cell_type": "markdown",
   "metadata": {},
   "source": [
    "The answer is A: One-way ANOVA"
   ]
  },
  {
   "cell_type": "markdown",
   "metadata": {},
   "source": [
    "Q131. What are the feature vectors?\n",
    "A feature vector is an n-dimensional vector of numerical features that represent an object. In machine\n",
    "learning, feature vectors are used to represent numeric or symbolic characteristics (called features) of an\n",
    "object in a mathematical way that's easy to analyze.\n",
    "132. What are the steps in making a decision tree?\n",
    "1. Take the entire data set as input.\n",
    "2. Look for a split that maximizes the separation of the classes. A split is any test that divides the data into\n",
    "two sets.\n",
    "3. Apply the split to the input data (divide step).\n",
    "4. Re-apply steps one and two to the divided data.\n",
    "5. Stop when you meet any stopping criteria.\n",
    "6. This step is called pruning. Clean up the tree if you went too far doing splits.\n",
    "133. What is root cause analysis?\n",
    "Root cause analysis was initially developed to analyze industrial accidents but is now widely used in other\n",
    "areas. It is a problem-solving technique used for isolating the root causes of faults or problems. A factor is\n",
    "called a root cause if its deduction from the problem-fault-sequence averts the final undesirable event from\n",
    "recurring.\n",
    "134. What is logistic regression?\n",
    "Logistic regression is also known as the logit model. It is a technique used to forecast the binary outcome\n",
    "from a linear combination of predictor variables.\n",
    "135. What are recommender systems?\n",
    "Recommender systems are a subclass of information filtering systems that are meant to predict the\n",
    "preferences or ratings that a user would give to a product.\n",
    "136. Explain cross-validation.\n",
    " \n",
    "Cross-validation is a model validation technique for evaluating how the outcomes of a statistical analysis\n",
    "will generalize to an independent data set. It is mainly used in backgrounds where the objective is to\n",
    "forecast and one wants to estimate how accurately a model will accomplish in practice.\n",
    "The goal of cross-validation is to term a data set to test the model in the training phase (i.e. validation data\n",
    "set) to limit problems like overfitting and gain insight into how the model will generalize to an independent\n",
    "data set.\n",
    "137. What is collaborative filtering?\n",
    "Most recommender systems use this filtering process to find patterns and information by collaborating\n",
    "perspectives, numerous data sources, and several agents.\n",
    "138. Do gradient descent methods always converge to similar points?\n",
    "They do not, because in some cases, they reach a local minima or a local optima point. You would not\n",
    "reach the global optima point. This is governed by the data and the starting conditions.\n",
    "139. What is the goal of A/B Testing?\n",
    "This is statistical hypothesis testing for randomized experiments with two variables, A and B. The objective\n",
    "of A/B testing is to detect any changes to a web page to maximize or increase the outcome of a strategy.\n",
    "140. What are the drawbacks of the linear model?\n",
    "• The assumption of linearity of the errors\n",
    "• It can't be used for count outcomes or binary outcomes\n",
    "• There are overfitting problems that it can't solve\n",
    "141. What is the law of large numbers?\n",
    "It is a theorem that describes the result of performing the same experiment very frequently. This theorem\n",
    "forms the basis of frequency-style thinking. It states that the sample mean, sample variance and sample\n",
    "standard deviation converge to what they are trying to estimate.\n",
    "142. What are the confounding variables?\n",
    "These are extraneous variables in a statistical model that correlates directly or inversely with both the\n",
    "dependent and the independent variable. The estimate fails to account for the confounding factor.\n",
    "143. What is star schema?\n",
    "It is a traditional database schema with a central table. Satellite tables map IDs to physical names or\n",
    "descriptions and can be connected to the central fact table using the ID fields; these tables are known as \n",
    " \n",
    "lookup tables and are principally useful in real-time applications, as they save a lot of memory. Sometimes,\n",
    "star schemas involve several layers of summarization to recover information faster.\n",
    "144. How regularly must an algorithm be updated?\n",
    "You will want to update an algorithm when:\n",
    "• You want the model to evolve as data streams through infrastructure\n",
    "• The underlying data source is changing\n",
    "• There is a case of non-stationarity\n",
    "145. What are eigenvalue and eigenvector?\n",
    "Eigenvalues are the directions along which a particular linear transformation acts by flipping, compressing,\n",
    "or stretching.\n",
    "Eigenvectors are for understanding linear transformations. In data analysis, we usually calculate the\n",
    "eigenvectors for a correlation or covariance matrix.\n",
    "146. Why is resampling done?\n",
    "Resampling is done in any of these cases:\n",
    "• Estimating the accuracy of sample statistics by using subsets of accessible data, or drawing randomly\n",
    "with replacement from a set of data points\n",
    "• Substituting labels on data points when performing significance tests\n",
    "• Validating models by using random subsets (bootstrapping, cross-validation)\n",
    "147. What is selection bias?\n",
    "Selection bias, in general, is a problematic situation in which error is introduced due to a non-random\n",
    "population sample.\n",
    "148. What are the types of biases that can occur during sampling?\n",
    "1. Selection bias\n",
    "2. Undercoverage bias\n",
    "3. Survivorship bias\n",
    "149. What is survivorship bias?\n",
    " \n",
    "Survivorship bias is the logical error of focusing on aspects that support surviving a process and casually\n",
    "overlooking those that did not because of their lack of prominence. This can lead to wrong conclusions in\n",
    "numerous ways.\n",
    "150. How do you work towards a random forest?\n",
    "The underlying principle of this technique is that several weak learners combine to provide a strong\n",
    "learner. The steps involved are:\n",
    "1. Build several decision trees on bootstrapped training samples of data\n",
    "2. On each tree, each time a split is considered, a random sample of mm predictors is chosen as split\n",
    "candidates out of all pp predictors\n",
    "3. Rule of thumb: At each split m=p√m=p\n",
    "4. Predictions: At the majority rule\n",
    "151. What are the important skills to have in Python with regard to data analysis?\n",
    "The following are some of the important skills to possess which will come handy when performing data\n",
    "analysis using Python.\n",
    "• Good understanding of the built-in data types especially lists, dictionaries, tuples, and sets.\n",
    "• Mastery of N-dimensional NumPy Arrays.\n",
    "• Mastery of Pandas dataframes.\n",
    "• Ability to perform element-wise vector and matrix operations on NumPy arrays.\n",
    "• Knowing that you should use the Anaconda distribution and the conda package manager.\n",
    "• Familiarity with Scikit-learn. **Scikit-Learn Cheat Sheet**\n",
    "• Ability to write efficient list comprehensions instead of traditional for loops.\n",
    "• Ability to write small, clean functions (important for any developer), preferably pure functions that don’t\n",
    "alter objects.\n",
    "• Knowing how to profile the performance of a Python script and how to optimize bottlenecks.\n",
    "Credit: kdnuggets, Simplilearn, Edureka, Guru99, Hackernoon, Datacamp, Nitin Panwar, Michael\n",
    "Rundell"
   ]
  }
 ],
 "metadata": {
  "kernelspec": {
   "display_name": "Python 3",
   "language": "python",
   "name": "python3"
  },
  "language_info": {
   "codemirror_mode": {
    "name": "ipython",
    "version": 3
   },
   "file_extension": ".py",
   "mimetype": "text/x-python",
   "name": "python",
   "nbconvert_exporter": "python",
   "pygments_lexer": "ipython3",
   "version": "3.6.7"
  }
 },
 "nbformat": 4,
 "nbformat_minor": 2
}
