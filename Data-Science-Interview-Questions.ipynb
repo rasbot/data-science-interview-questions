{
 "cells": [
  {
   "cell_type": "markdown",
   "metadata": {},
   "source": [
    "# Statistics:"
   ]
  },
  {
   "cell_type": "markdown",
   "metadata": {},
   "source": [
    "### 1. What is the Central Limit Theorem and why is it important?"
   ]
  },
  {
   "cell_type": "code",
   "execution_count": null,
   "metadata": {},
   "outputs": [],
   "source": []
  },
  {
   "cell_type": "markdown",
   "metadata": {},
   "source": [
    "<details>\n",
    "<summary>Click here for the solution</summary>\n",
    "“Suppose that we are interested in estimating the average height among all people. Collecting data for\n",
    "every person in the world is impossible. While we can’t obtain a height measurement from everyone in the\n",
    "population, we can still sample some people. The question now becomes, what can we say about the\n",
    "average height of the entire population given a single sample. The Central Limit Theorem addresses this\n",
    "question exactly.”\n",
    "</details>"
   ]
  },
  {
   "cell_type": "markdown",
   "metadata": {},
   "source": [
    "### 2. What is sampling? How many sampling methods do you know?"
   ]
  },
  {
   "cell_type": "code",
   "execution_count": null,
   "metadata": {},
   "outputs": [],
   "source": []
  },
  {
   "cell_type": "markdown",
   "metadata": {},
   "source": [
    "<details>\n",
    "<summary>Click here for the solution</summary>\n",
    "“Data sampling is a statistical analysis technique used to select, manipulate and analyze a representative\n",
    "subset of data points to identify patterns and trends in the larger data set being examined.”\n",
    "</details>"
   ]
  },
  {
   "cell_type": "markdown",
   "metadata": {},
   "source": [
    "### 3. What is the difference between type I vs type II error?"
   ]
  },
  {
   "cell_type": "code",
   "execution_count": null,
   "metadata": {},
   "outputs": [],
   "source": []
  },
  {
   "cell_type": "markdown",
   "metadata": {},
   "source": [
    "<details>\n",
    "<summary>Click here for the solution</summary>\n",
    "“Data sampling is a statistical analysis technique used to select, manipulate and analyze a representative\n",
    "subset of data points to identify patterns and trends in the larger data set being examined.”\n",
    "</details>"
   ]
  },
  {
   "cell_type": "markdown",
   "metadata": {},
   "source": [
    "### 4. What is linear regression? What do the terms p-value, coefficient, and r-squared value mean? What is the significance of each of these components?"
   ]
  },
  {
   "cell_type": "code",
   "execution_count": null,
   "metadata": {},
   "outputs": [],
   "source": []
  },
  {
   "cell_type": "markdown",
   "metadata": {},
   "source": [
    "<details>\n",
    "<summary>Click here for the solution</summary>\n",
    "A linear regression is a good tool for quick predictive analysis: for example, the price of a house depends\n",
    "on a myriad of factors, such as its size or its location. In order to see the relationship between these\n",
    "variables, we need to build a linear regression, which predicts the line of best fit between them and can\n",
    "help conclude whether or not these two factors have a positive or negative relationship.\n",
    "</details>"
   ]
  },
  {
   "cell_type": "markdown",
   "metadata": {},
   "source": [
    "### 5. What are the assumptions required for linear regression?"
   ]
  },
  {
   "cell_type": "code",
   "execution_count": null,
   "metadata": {},
   "outputs": [],
   "source": []
  },
  {
   "cell_type": "markdown",
   "metadata": {},
   "source": [
    "<details>\n",
    "<summary>Click here for the solution</summary>\n",
    "There are four major assumptions: \n",
    "    \n",
    "1. There is a linear relationship between the dependent variables and\n",
    "the regressors, meaning the model you are creating actually fits the data, \n",
    "2. The errors or residuals of the data are normally distributed and independent from each other, \n",
    "3. There is minimal multicollinearity between explanatory variables, and 4. Homoscedasticity. This means the variance around the regression line is the same for all values of the predictor variable.\n",
    "</details>"
   ]
  },
  {
   "cell_type": "markdown",
   "metadata": {},
   "source": [
    "### 6. What is a statistical interaction?"
   ]
  },
  {
   "cell_type": "code",
   "execution_count": null,
   "metadata": {},
   "outputs": [],
   "source": []
  },
  {
   "cell_type": "markdown",
   "metadata": {},
   "source": [
    "<details>\n",
    "<summary>Click here for the solution</summary>\n",
    "”Basically, an interaction is when the effect of one factor (input variable) on the dependent variable (output\n",
    "variable) differs among levels of another factor.”\n",
    "</details>"
   ]
  },
  {
   "cell_type": "markdown",
   "metadata": {},
   "source": [
    "### 7. What is selection bias?"
   ]
  },
  {
   "cell_type": "code",
   "execution_count": null,
   "metadata": {},
   "outputs": [],
   "source": []
  },
  {
   "cell_type": "markdown",
   "metadata": {},
   "source": [
    "<details>\n",
    "<summary>Click here for the solution</summary>\n",
    "“Selection (or ‘sampling’) bias occurs in an ‘active,’ sense when the sample data that is gathered and\n",
    "prepared for modeling has characteristics that are not representative of the true, future population of cases \n",
    "the model will see. That is, active selection bias occurs when a subset of the data are systematically (i.e.,\n",
    "non-randomly) excluded from analysis.”\n",
    "</details>"
   ]
  },
  {
   "cell_type": "markdown",
   "metadata": {},
   "source": [
    "### 8. What is an example of a data set with a non-Gaussian distribution?"
   ]
  },
  {
   "cell_type": "code",
   "execution_count": null,
   "metadata": {},
   "outputs": [],
   "source": []
  },
  {
   "cell_type": "markdown",
   "metadata": {},
   "source": [
    "<details>\n",
    "<summary>Click here for the solution</summary>\n",
    "“The Gaussian distribution is part of the Exponential family of distributions, but there are a lot more of\n",
    "them, with the same sort of ease of use, in many cases, and if the person doing the machine learning has\n",
    "a solid grounding in statistics, they can be utilized where appropriate.”\n",
    "</details>"
   ]
  },
  {
   "cell_type": "markdown",
   "metadata": {},
   "source": [
    "### 9.What is the Binomial Probability Formula?"
   ]
  },
  {
   "cell_type": "code",
   "execution_count": null,
   "metadata": {},
   "outputs": [],
   "source": []
  },
  {
   "cell_type": "markdown",
   "metadata": {},
   "source": [
    "<details>\n",
    "<summary>Click here for the solution</summary>\n",
    "“The binomial distribution consists of the probabilities of each of the possible numbers of successes on N\n",
    "trials for independent events that each have a probability of π (the Greek letter pi) of occurring.”\n",
    "</details>"
   ]
  },
  {
   "cell_type": "markdown",
   "metadata": {},
   "source": [
    "# Data Science :"
   ]
  },
  {
   "cell_type": "markdown",
   "metadata": {},
   "source": [
    "### 1. What is Data Science? List the differences between supervised and unsupervised learning."
   ]
  },
  {
   "cell_type": "code",
   "execution_count": null,
   "metadata": {},
   "outputs": [],
   "source": []
  },
  {
   "cell_type": "markdown",
   "metadata": {},
   "source": [
    "<details>\n",
    "<summary>Click here for the solution</summary>\n",
    "Data Science is a blend of various tools, algorithms, and machine learning principles with the goal to discover\n",
    "hidden patterns from the raw data. How is this different from what statisticians have been doing for years?\n",
    "The answer lies in the difference between explaining and predicting.\n",
    "    \n",
    "<p align=\"center\">\n",
    "  <img src=\"https://raw.githubusercontent.com/rasbot/data-science-interview-questions/master/Images/ds1a.PNG\" width=\"450\" height=\"auto\"/>\n",
    "</p>\n",
    "    \n",
    "The differences between supervised and unsupervised learning are as follows;\n",
    "    \n",
    "<p align=\"center\">\n",
    "  <img src=\"https://raw.githubusercontent.com/rasbot/data-science-interview-questions/master/Images/ds1b.PNG\" width=\"850\" height=\"auto\"/>\n",
    "</p>\n",
    "</details>\n"
   ]
  },
  {
   "cell_type": "markdown",
   "metadata": {},
   "source": [
    "### Q2. What is Selection Bias?"
   ]
  },
  {
   "cell_type": "code",
   "execution_count": null,
   "metadata": {},
   "outputs": [],
   "source": []
  },
  {
   "cell_type": "markdown",
   "metadata": {},
   "source": [
    "<details>\n",
    "<summary>Click here for the solution</summary>\n",
    "Selection bias is a kind of error that occurs when the researcher decides who is going to be studied. It is\n",
    "usually associated with research where the selection of participants isn’t random. It is sometimes referred to \n",
    "as the selection effect. It is the distortion of statistical analysis, resulting from the method of collecting\n",
    "samples. If the selection bias is not taken into account, then some conclusions of the study may not be\n",
    "accurate.\n",
    "\n",
    "The types of selection bias include:\n",
    "1. Sampling bias: It is a systematic error due to a non-random sample of a population causing some members of the population to be less likely to be included than others resulting in a biased sample.\n",
    "2. Time interval: A trial may be terminated early at an extreme value (often for ethical reasons), but the extreme value is likely to be reached by the variable with the largest variance, even if all variables have a similar mean.\n",
    "3. Data: When specific subsets of data are chosen to support a conclusion or rejection of bad data on arbitrary grounds, instead of according to previously stated or generally agreed criteria.\n",
    "4. Attrition: Attrition bias is a kind of selection bias caused by attrition (loss of participants) discounting trial subjects/tests that did not run to completion.\n",
    "</details>"
   ]
  },
  {
   "cell_type": "markdown",
   "metadata": {},
   "source": [
    "### Q3. What is bias-variance trade-off?"
   ]
  },
  {
   "cell_type": "code",
   "execution_count": null,
   "metadata": {},
   "outputs": [],
   "source": []
  },
  {
   "cell_type": "markdown",
   "metadata": {},
   "source": [
    "<details>\n",
    "<summary>Click here for the solution</summary>\n",
    "    \n",
    "__Bias:__ Bias is an error introduced in your model due to oversimplification of the machine learning algorithm.\n",
    "It can lead to underfitting. When you train your model at that time model makes simplified assumptions to\n",
    "make the target function easier to understand.\n",
    "Low bias machine learning algorithms — Decision Trees, k-NN and SVM High bias machine learning\n",
    "algorithms — Linear Regression, Logistic Regression\n",
    "\n",
    "__Variance:__ Variance is error introduced in your model due to complex machine learning algorithm, your model\n",
    "learns noise also from the training data set and performs badly on test data set. It can lead to high sensitivity\n",
    "and overfitting.\n",
    "\n",
    "Normally, as you increase the complexity of your model, you will see a reduction in error due to lower bias\n",
    "in the model. However, this only happens until a particular point. As you continue to make your model more\n",
    "complex, you end up over-fitting your model and hence your model will start suffering from high variance.\n",
    "    \n",
    "<p align=\"center\">\n",
    "  <img src=\"https://raw.githubusercontent.com/rasbot/data-science-interview-questions/master/Images/ds3.PNG\" width=\"450\" height=\"auto\"/>\n",
    "</p>\n",
    "\n",
    "__Bias-Variance trade-off:__ The goal of any supervised machine learning algorithm is to have low bias and\n",
    "low variance to achieve good prediction performance.\n",
    "\n",
    "1. The k-nearest neighbour algorithm has low bias and high variance, but the trade-off can be changed by increasing the value of k which increases the number of neighbours that contribute to the prediction and in turn increases the bias of the model.\n",
    "\n",
    "2. The support vector machine algorithm has low bias and high variance, but the trade-off can be changed by increasing the C parameter that influences the number of violations of the margin allowed in the training data which increases the bias but decreases the variance.\n",
    "\n",
    "There is no escaping the relationship between bias and variance in machine learning. Increasing the bias\n",
    "will decrease the variance. Increasing the variance will decrease bias.\n",
    "</details>"
   ]
  },
  {
   "cell_type": "markdown",
   "metadata": {},
   "source": [
    "### Q4. What is a confusion matrix?"
   ]
  },
  {
   "cell_type": "code",
   "execution_count": null,
   "metadata": {},
   "outputs": [],
   "source": []
  },
  {
   "cell_type": "markdown",
   "metadata": {},
   "source": [
    "<details>\n",
    "<summary>Click here for the solution</summary>\n",
    "The confusion matrix is a 2X2 table that contains 4 outputs provided by the binary classifier. Various\n",
    "measures, such as error-rate, accuracy, specificity, sensitivity, precision and recall are derived from\n",
    "it. \n",
    "    \n",
    "*Confusion Matrix*\n",
    "\n",
    "<p align=\"center\">\n",
    "  <img src=\"https://raw.githubusercontent.com/rasbot/data-science-interview-questions/master/Images/dsq4a.PNG\" width=\"250\" height=\"auto\"/>\n",
    "</p>\n",
    "    \n",
    "A data set used for performance evaluation is called a __test data set__. It should contain the correct labels and\n",
    "predicted labels.\n",
    "    \n",
    "<p align=\"center\">\n",
    "  <img src=\"https://raw.githubusercontent.com/rasbot/data-science-interview-questions/master/Images/dsq4b.PNG\" width=\"350\" height=\"auto\"/>\n",
    "</p>\n",
    "    \n",
    "The predicted labels will exactly the same if the performance of a binary classifier is perfect.\n",
    "    \n",
    "<p align=\"center\">\n",
    "  <img src=\"https://raw.githubusercontent.com/rasbot/data-science-interview-questions/master/Images/dsq4c.PNG\" width=\"450\" height=\"auto\"/>\n",
    "</p>\n",
    "    \n",
    "The predicted labels usually match with part of the observed labels in real-world scenarios.\n",
    "    \n",
    "<p align=\"center\">\n",
    "  <img src=\"https://raw.githubusercontent.com/rasbot/data-science-interview-questions/master/Images/dsq4d.PNG\" width=\"450\" height=\"auto\"/>\n",
    "</p>\n",
    "    \n",
    "A binary classifier predicts all data instances of a test data set as either positive or negative. This produces\n",
    "four outcomes\n",
    "    \n",
    "1. True-positive(TP) — Correct positive prediction\n",
    "2. False-positive(FP) — Incorrect positive prediction\n",
    "3. True-negative(TN) — Correct negative prediction\n",
    "4. False-negative(FN) — Incorrect negative prediction\n",
    "    \n",
    "<p align=\"center\">\n",
    "  <img src=\"https://raw.githubusercontent.com/rasbot/data-science-interview-questions/master/Images/dsq4e.PNG\" width=\"450\" height=\"auto\"/>\n",
    "</p>\n",
    "    \n",
    "Basic measures derived from the confusion matrix\n",
    "    \n",
    "1. Error Rate = (FP+FN)/(P+N)\n",
    "2. Accuracy = (TP+TN)/(P+N)\n",
    "3. Sensitivity(Recall or True positive rate) = TP/P\n",
    "4. Specificity(True negative rate) = TN/N\n",
    "5. Precision(Positive predicted value) = TP/(TP+FP)\n",
    "6. F-Score(Harmonic mean of precision and recall) = (1+b)(PREC.REC)/(b²PREC+REC) where b is\n",
    "commonly 0.5, 1, 2.\n",
    "</details>"
   ]
  },
  {
   "cell_type": "markdown",
   "metadata": {},
   "source": [
    "### Q5. What is the difference between “long” and “wide” format data?"
   ]
  },
  {
   "cell_type": "code",
   "execution_count": null,
   "metadata": {},
   "outputs": [],
   "source": []
  },
  {
   "cell_type": "markdown",
   "metadata": {},
   "source": [
    "<details>\n",
    "<summary>Click here for the solution</summary>\n",
    "In the wide-format, a subject’s repeated responses will be in a single row, and each response is in a\n",
    "separate column. In the long-format, each row is a one-time point per subject. You can recognize data in\n",
    "wide format by the fact that columns generally represent groups.\n",
    "    \n",
    "<p align=\"center\">\n",
    "  <img src=\"https://raw.githubusercontent.com/rasbot/data-science-interview-questions/master/Images/ds5.PNG\" width=\"550\" height=\"auto\"/>\n",
    "</p>\n",
    "    \n",
    "</details>"
   ]
  },
  {
   "cell_type": "markdown",
   "metadata": {},
   "source": [
    "### Q6. What do you understand by the term Normal Distribution?"
   ]
  },
  {
   "cell_type": "code",
   "execution_count": null,
   "metadata": {},
   "outputs": [],
   "source": []
  },
  {
   "cell_type": "markdown",
   "metadata": {},
   "source": [
    "<details>\n",
    "<summary>Click here for the solution</summary>\n",
    "Data is usually distributed in different ways with a bias to the left or to the right or it can all be jumbled up.\n",
    "However, there are chances that data is distributed around a central value without any bias to the left or right\n",
    "and reaches normal distribution in the form of a bell-shaped curve.\n",
    "    \n",
    "<p align=\"center\">\n",
    "  <img src=\"https://raw.githubusercontent.com/rasbot/data-science-interview-questions/master/Images/q6.png\" width=\"350\" height=\"auto\"/>\n",
    "</p>\n",
    "    \n",
    "The random variables are distributed in the form of a symmetrical, bell-shaped curve.\n",
    "Properties of Normal Distribution are as follows;\n",
    "1. Unimodal -one mode\n",
    "2. Symmetrical -left and right halves are mirror images\n",
    "3. Bell-shaped -maximum height (mode) at the mean\n",
    "4. Mean, Mode, and Median are all located in the center\n",
    "5. Asymptotic\n",
    "</details>"
   ]
  },
  {
   "cell_type": "markdown",
   "metadata": {},
   "source": [
    "### Q7. What is correlation and covariance in statistics?"
   ]
  },
  {
   "cell_type": "code",
   "execution_count": null,
   "metadata": {},
   "outputs": [],
   "source": []
  },
  {
   "cell_type": "markdown",
   "metadata": {},
   "source": [
    "<details>\n",
    "<summary>Click here for the solution</summary>\n",
    "Covariance and Correlation are two mathematical concepts; these two approaches are widely used in\n",
    "statistics. Both Correlation and Covariance establish the relationship and also measure the dependency\n",
    "between two random variables. Though the work is similar between these two in mathematical terms, they\n",
    "are different from each other.\n",
    "\n",
    "<p align=\"center\">\n",
    "  <img src=\"https://raw.githubusercontent.com/rasbot/data-science-interview-questions/master/Images/q7.PNG\" width=\"350\" height=\"auto\"/>\n",
    "</p>\n",
    "\n",
    "__Correlation:__ Correlation is considered or described as the best technique for measuring and also for estimating the\n",
    "quantitative relationship between two variables. Correlation measures how strongly two variables are\n",
    "related.\n",
    "\n",
    "__Covariance:__ In covariance two items vary together and it’s a measure that indicates the extent to which two\n",
    "random variables change in cycle. It is a statistical term; it explains the systematic relation between a pair of\n",
    "random variables, wherein changes in one variable reciprocal by a corresponding change in another\n",
    "variable.\n",
    "</details>"
   ]
  },
  {
   "cell_type": "markdown",
   "metadata": {},
   "source": []
  },
  {
   "cell_type": "code",
   "execution_count": null,
   "metadata": {},
   "outputs": [],
   "source": []
  },
  {
   "cell_type": "code",
   "execution_count": null,
   "metadata": {},
   "outputs": [],
   "source": []
  },
  {
   "cell_type": "code",
   "execution_count": null,
   "metadata": {},
   "outputs": [],
   "source": []
  },
  {
   "cell_type": "code",
   "execution_count": null,
   "metadata": {},
   "outputs": [],
   "source": []
  },
  {
   "cell_type": "code",
   "execution_count": null,
   "metadata": {},
   "outputs": [],
   "source": []
  },
  {
   "cell_type": "code",
   "execution_count": null,
   "metadata": {},
   "outputs": [],
   "source": []
  }
 ],
 "metadata": {
  "kernelspec": {
   "display_name": "Python 3",
   "language": "python",
   "name": "python3"
  },
  "language_info": {
   "codemirror_mode": {
    "name": "ipython",
    "version": 3
   },
   "file_extension": ".py",
   "mimetype": "text/x-python",
   "name": "python",
   "nbconvert_exporter": "python",
   "pygments_lexer": "ipython3",
   "version": "3.6.7"
  }
 },
 "nbformat": 4,
 "nbformat_minor": 2
}
