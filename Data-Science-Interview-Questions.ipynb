{
 "cells": [
  {
   "cell_type": "markdown",
   "metadata": {},
   "source": [
    "# Statistics:"
   ]
  },
  {
   "cell_type": "markdown",
   "metadata": {},
   "source": [
    "### 1. What is the Central Limit Theorem and why is it important?"
   ]
  },
  {
   "cell_type": "code",
   "execution_count": null,
   "metadata": {},
   "outputs": [],
   "source": []
  },
  {
   "cell_type": "markdown",
   "metadata": {},
   "source": [
    "<details>\n",
    "<summary>Click here for the solution</summary>\n",
    "“Suppose that we are interested in estimating the average height among all people. Collecting data for\n",
    "every person in the world is impossible. While we can’t obtain a height measurement from everyone in the\n",
    "population, we can still sample some people. The question now becomes, what can we say about the\n",
    "average height of the entire population given a single sample. The Central Limit Theorem addresses this\n",
    "question exactly.”\n",
    "</details>"
   ]
  },
  {
   "cell_type": "markdown",
   "metadata": {},
   "source": [
    "### 2. What is sampling? How many sampling methods do you know?"
   ]
  },
  {
   "cell_type": "code",
   "execution_count": null,
   "metadata": {},
   "outputs": [],
   "source": []
  },
  {
   "cell_type": "markdown",
   "metadata": {},
   "source": [
    "<details>\n",
    "<summary>Click here for the solution</summary>\n",
    "“Data sampling is a statistical analysis technique used to select, manipulate and analyze a representative\n",
    "subset of data points to identify patterns and trends in the larger data set being examined.”\n",
    "</details>"
   ]
  },
  {
   "cell_type": "markdown",
   "metadata": {},
   "source": [
    "### 3. What is the difference between type I vs type II error?"
   ]
  },
  {
   "cell_type": "code",
   "execution_count": null,
   "metadata": {},
   "outputs": [],
   "source": []
  },
  {
   "cell_type": "markdown",
   "metadata": {},
   "source": [
    "<details>\n",
    "<summary>Click here for the solution</summary>\n",
    "“Data sampling is a statistical analysis technique used to select, manipulate and analyze a representative\n",
    "subset of data points to identify patterns and trends in the larger data set being examined.”\n",
    "</details>"
   ]
  },
  {
   "cell_type": "markdown",
   "metadata": {},
   "source": [
    "### 4. What is linear regression? What do the terms p-value, coefficient, and r-squared value mean? What is the significance of each of these components?"
   ]
  },
  {
   "cell_type": "code",
   "execution_count": null,
   "metadata": {},
   "outputs": [],
   "source": []
  },
  {
   "cell_type": "markdown",
   "metadata": {},
   "source": [
    "<details>\n",
    "<summary>Click here for the solution</summary>\n",
    "A linear regression is a good tool for quick predictive analysis: for example, the price of a house depends\n",
    "on a myriad of factors, such as its size or its location. In order to see the relationship between these\n",
    "variables, we need to build a linear regression, which predicts the line of best fit between them and can\n",
    "help conclude whether or not these two factors have a positive or negative relationship.\n",
    "</details>"
   ]
  },
  {
   "cell_type": "markdown",
   "metadata": {},
   "source": [
    "### 5. What are the assumptions required for linear regression?"
   ]
  },
  {
   "cell_type": "code",
   "execution_count": null,
   "metadata": {},
   "outputs": [],
   "source": []
  },
  {
   "cell_type": "markdown",
   "metadata": {},
   "source": [
    "<details>\n",
    "<summary>Click here for the solution</summary>\n",
    "There are four major assumptions: \n",
    "    \n",
    "1. There is a linear relationship between the dependent variables and\n",
    "the regressors, meaning the model you are creating actually fits the data, \n",
    "2. The errors or residuals of the data are normally distributed and independent from each other, \n",
    "3. There is minimal multicollinearity between explanatory variables, and 4. Homoscedasticity. This means the variance around the regression line is the same for all values of the predictor variable.\n",
    "</details>"
   ]
  },
  {
   "cell_type": "markdown",
   "metadata": {},
   "source": [
    "### 6. What is a statistical interaction?"
   ]
  },
  {
   "cell_type": "code",
   "execution_count": null,
   "metadata": {},
   "outputs": [],
   "source": []
  },
  {
   "cell_type": "markdown",
   "metadata": {},
   "source": [
    "<details>\n",
    "<summary>Click here for the solution</summary>\n",
    "”Basically, an interaction is when the effect of one factor (input variable) on the dependent variable (output\n",
    "variable) differs among levels of another factor.”\n",
    "</details>"
   ]
  },
  {
   "cell_type": "markdown",
   "metadata": {},
   "source": [
    "### 7. What is selection bias?"
   ]
  },
  {
   "cell_type": "code",
   "execution_count": null,
   "metadata": {},
   "outputs": [],
   "source": []
  },
  {
   "cell_type": "markdown",
   "metadata": {},
   "source": [
    "<details>\n",
    "<summary>Click here for the solution</summary>\n",
    "“Selection (or ‘sampling’) bias occurs in an ‘active,’ sense when the sample data that is gathered and\n",
    "prepared for modeling has characteristics that are not representative of the true, future population of cases \n",
    "the model will see. That is, active selection bias occurs when a subset of the data are systematically (i.e.,\n",
    "non-randomly) excluded from analysis.”\n",
    "</details>"
   ]
  },
  {
   "cell_type": "markdown",
   "metadata": {},
   "source": [
    "### 8. What is an example of a data set with a non-Gaussian distribution?"
   ]
  },
  {
   "cell_type": "code",
   "execution_count": null,
   "metadata": {},
   "outputs": [],
   "source": []
  },
  {
   "cell_type": "markdown",
   "metadata": {},
   "source": [
    "<details>\n",
    "<summary>Click here for the solution</summary>\n",
    "“The Gaussian distribution is part of the Exponential family of distributions, but there are a lot more of\n",
    "them, with the same sort of ease of use, in many cases, and if the person doing the machine learning has\n",
    "a solid grounding in statistics, they can be utilized where appropriate.”\n",
    "</details>"
   ]
  },
  {
   "cell_type": "markdown",
   "metadata": {},
   "source": [
    "### 9.What is the Binomial Probability Formula?"
   ]
  },
  {
   "cell_type": "code",
   "execution_count": null,
   "metadata": {},
   "outputs": [],
   "source": []
  },
  {
   "cell_type": "markdown",
   "metadata": {},
   "source": [
    "<details>\n",
    "<summary>Click here for the solution</summary>\n",
    "“The binomial distribution consists of the probabilities of each of the possible numbers of successes on N\n",
    "trials for independent events that each have a probability of π (the Greek letter pi) of occurring.”\n",
    "</details>"
   ]
  },
  {
   "cell_type": "markdown",
   "metadata": {},
   "source": [
    "# Data Science :"
   ]
  },
  {
   "cell_type": "markdown",
   "metadata": {},
   "source": [
    "### 1. What is Data Science? List the differences between supervised and unsupervised learning."
   ]
  },
  {
   "cell_type": "code",
   "execution_count": null,
   "metadata": {},
   "outputs": [],
   "source": []
  },
  {
   "cell_type": "markdown",
   "metadata": {},
   "source": [
    "<details>\n",
    "<summary>Click here for the solution</summary>\n",
    "Data Science is a blend of various tools, algorithms, and machine learning principles with the goal to discover\n",
    "hidden patterns from the raw data. How is this different from what statisticians have been doing for years?\n",
    "The answer lies in the difference between explaining and predicting.\n",
    "    \n",
    "<p align=\"center\">\n",
    "  <img src=\"https://raw.githubusercontent.com/rasbot/data-science-interview-questions/master/Images/ds1a.PNG\" width=\"450\" height=\"auto\"/>\n",
    "</p>\n",
    "    \n",
    "The differences between supervised and unsupervised learning are as follows;\n",
    "    \n",
    "<p align=\"center\">\n",
    "  <img src=\"https://raw.githubusercontent.com/rasbot/data-science-interview-questions/master/Images/ds1b.PNG\" width=\"850\" height=\"auto\"/>\n",
    "</p>\n",
    "</details>\n"
   ]
  },
  {
   "cell_type": "markdown",
   "metadata": {},
   "source": [
    "### Q2. What is Selection Bias?"
   ]
  },
  {
   "cell_type": "code",
   "execution_count": null,
   "metadata": {},
   "outputs": [],
   "source": []
  },
  {
   "cell_type": "markdown",
   "metadata": {},
   "source": [
    "<details>\n",
    "<summary>Click here for the solution</summary>\n",
    "Selection bias is a kind of error that occurs when the researcher decides who is going to be studied. It is\n",
    "usually associated with research where the selection of participants isn’t random. It is sometimes referred to \n",
    "as the selection effect. It is the distortion of statistical analysis, resulting from the method of collecting\n",
    "samples. If the selection bias is not taken into account, then some conclusions of the study may not be\n",
    "accurate.\n",
    "\n",
    "The types of selection bias include:\n",
    "1. Sampling bias: It is a systematic error due to a non-random sample of a population causing some members of the population to be less likely to be included than others resulting in a biased sample.\n",
    "2. Time interval: A trial may be terminated early at an extreme value (often for ethical reasons), but the extreme value is likely to be reached by the variable with the largest variance, even if all variables have a similar mean.\n",
    "3. Data: When specific subsets of data are chosen to support a conclusion or rejection of bad data on arbitrary grounds, instead of according to previously stated or generally agreed criteria.\n",
    "4. Attrition: Attrition bias is a kind of selection bias caused by attrition (loss of participants) discounting trial subjects/tests that did not run to completion.\n",
    "</details>"
   ]
  },
  {
   "cell_type": "markdown",
   "metadata": {},
   "source": [
    "### Q3. What is bias-variance trade-off?"
   ]
  },
  {
   "cell_type": "code",
   "execution_count": null,
   "metadata": {},
   "outputs": [],
   "source": []
  },
  {
   "cell_type": "markdown",
   "metadata": {},
   "source": [
    "<details>\n",
    "<summary>Click here for the solution</summary>\n",
    "    \n",
    "__Bias:__ Bias is an error introduced in your model due to oversimplification of the machine learning algorithm.\n",
    "It can lead to underfitting. When you train your model at that time model makes simplified assumptions to\n",
    "make the target function easier to understand.\n",
    "Low bias machine learning algorithms — Decision Trees, k-NN and SVM High bias machine learning\n",
    "algorithms — Linear Regression, Logistic Regression\n",
    "\n",
    "__Variance:__ Variance is error introduced in your model due to complex machine learning algorithm, your model\n",
    "learns noise also from the training data set and performs badly on test data set. It can lead to high sensitivity\n",
    "and overfitting.\n",
    "\n",
    "Normally, as you increase the complexity of your model, you will see a reduction in error due to lower bias\n",
    "in the model. However, this only happens until a particular point. As you continue to make your model more\n",
    "complex, you end up over-fitting your model and hence your model will start suffering from high variance.\n",
    "    \n",
    "<p align=\"center\">\n",
    "  <img src=\"https://raw.githubusercontent.com/rasbot/data-science-interview-questions/master/Images/ds3.PNG\" width=\"450\" height=\"auto\"/>\n",
    "</p>\n",
    "\n",
    "__Bias-Variance trade-off:__ The goal of any supervised machine learning algorithm is to have low bias and\n",
    "low variance to achieve good prediction performance.\n",
    "\n",
    "1. The k-nearest neighbour algorithm has low bias and high variance, but the trade-off can be changed by increasing the value of k which increases the number of neighbours that contribute to the prediction and in turn increases the bias of the model.\n",
    "\n",
    "2. The support vector machine algorithm has low bias and high variance, but the trade-off can be changed by increasing the C parameter that influences the number of violations of the margin allowed in the training data which increases the bias but decreases the variance.\n",
    "\n",
    "There is no escaping the relationship between bias and variance in machine learning. Increasing the bias\n",
    "will decrease the variance. Increasing the variance will decrease bias.\n",
    "</details>"
   ]
  },
  {
   "cell_type": "markdown",
   "metadata": {},
   "source": [
    "### Q4. What is a confusion matrix?"
   ]
  },
  {
   "cell_type": "code",
   "execution_count": null,
   "metadata": {},
   "outputs": [],
   "source": []
  },
  {
   "cell_type": "markdown",
   "metadata": {},
   "source": [
    "<details>\n",
    "<summary>Click here for the solution</summary>\n",
    "The confusion matrix is a 2X2 table that contains 4 outputs provided by the binary classifier. Various\n",
    "measures, such as error-rate, accuracy, specificity, sensitivity, precision and recall are derived from\n",
    "it. \n",
    "    \n",
    "*Confusion Matrix*\n",
    "\n",
    "<p align=\"center\">\n",
    "  <img src=\"https://raw.githubusercontent.com/rasbot/data-science-interview-questions/master/Images/dsq4a.PNG\" width=\"250\" height=\"auto\"/>\n",
    "</p>\n",
    "    \n",
    "A data set used for performance evaluation is called a __test data set__. It should contain the correct labels and\n",
    "predicted labels.\n",
    "    \n",
    "<p align=\"center\">\n",
    "  <img src=\"https://raw.githubusercontent.com/rasbot/data-science-interview-questions/master/Images/dsq4b.PNG\" width=\"350\" height=\"auto\"/>\n",
    "</p>\n",
    "    \n",
    "The predicted labels will exactly the same if the performance of a binary classifier is perfect.\n",
    "    \n",
    "<p align=\"center\">\n",
    "  <img src=\"https://raw.githubusercontent.com/rasbot/data-science-interview-questions/master/Images/dsq4c.PNG\" width=\"450\" height=\"auto\"/>\n",
    "</p>\n",
    "    \n",
    "The predicted labels usually match with part of the observed labels in real-world scenarios.\n",
    "    \n",
    "<p align=\"center\">\n",
    "  <img src=\"https://raw.githubusercontent.com/rasbot/data-science-interview-questions/master/Images/dsq4d.PNG\" width=\"450\" height=\"auto\"/>\n",
    "</p>\n",
    "    \n",
    "A binary classifier predicts all data instances of a test data set as either positive or negative. This produces\n",
    "four outcomes\n",
    "    \n",
    "1. True-positive(TP) — Correct positive prediction\n",
    "2. False-positive(FP) — Incorrect positive prediction\n",
    "3. True-negative(TN) — Correct negative prediction\n",
    "4. False-negative(FN) — Incorrect negative prediction\n",
    "    \n",
    "<p align=\"center\">\n",
    "  <img src=\"https://raw.githubusercontent.com/rasbot/data-science-interview-questions/master/Images/dsq4e.PNG\" width=\"450\" height=\"auto\"/>\n",
    "</p>\n",
    "    \n",
    "Basic measures derived from the confusion matrix\n",
    "    \n",
    "1. Error Rate = (FP+FN)/(P+N)\n",
    "2. Accuracy = (TP+TN)/(P+N)\n",
    "3. Sensitivity(Recall or True positive rate) = TP/P\n",
    "4. Specificity(True negative rate) = TN/N\n",
    "5. Precision(Positive predicted value) = TP/(TP+FP)\n",
    "6. F-Score(Harmonic mean of precision and recall) = (1+b)(PREC.REC)/(b²PREC+REC) where b is\n",
    "commonly 0.5, 1, 2.\n",
    "</details>"
   ]
  },
  {
   "cell_type": "markdown",
   "metadata": {},
   "source": [
    "### Q5. What is the difference between “long” and “wide” format data?"
   ]
  },
  {
   "cell_type": "code",
   "execution_count": null,
   "metadata": {},
   "outputs": [],
   "source": []
  },
  {
   "cell_type": "markdown",
   "metadata": {},
   "source": [
    "<details>\n",
    "<summary>Click here for the solution</summary>\n",
    "In the wide-format, a subject’s repeated responses will be in a single row, and each response is in a\n",
    "separate column. In the long-format, each row is a one-time point per subject. You can recognize data in\n",
    "wide format by the fact that columns generally represent groups.\n",
    "    \n",
    "<p align=\"center\">\n",
    "  <img src=\"https://raw.githubusercontent.com/rasbot/data-science-interview-questions/master/Images/ds5.PNG\" width=\"550\" height=\"auto\"/>\n",
    "</p>\n",
    "    \n",
    "</details>"
   ]
  },
  {
   "cell_type": "markdown",
   "metadata": {},
   "source": [
    "### Q6. What do you understand by the term Normal Distribution?"
   ]
  },
  {
   "cell_type": "code",
   "execution_count": null,
   "metadata": {},
   "outputs": [],
   "source": []
  },
  {
   "cell_type": "markdown",
   "metadata": {},
   "source": [
    "<details>\n",
    "<summary>Click here for the solution</summary>\n",
    "Data is usually distributed in different ways with a bias to the left or to the right or it can all be jumbled up.\n",
    "However, there are chances that data is distributed around a central value without any bias to the left or right\n",
    "and reaches normal distribution in the form of a bell-shaped curve.\n",
    "    \n",
    "<p align=\"center\">\n",
    "  <img src=\"https://raw.githubusercontent.com/rasbot/data-science-interview-questions/master/Images/q6.png\" width=\"350\" height=\"auto\"/>\n",
    "</p>\n",
    "    \n",
    "The random variables are distributed in the form of a symmetrical, bell-shaped curve.\n",
    "Properties of Normal Distribution are as follows;\n",
    "1. Unimodal -one mode\n",
    "2. Symmetrical -left and right halves are mirror images\n",
    "3. Bell-shaped -maximum height (mode) at the mean\n",
    "4. Mean, Mode, and Median are all located in the center\n",
    "5. Asymptotic\n",
    "</details>"
   ]
  },
  {
   "cell_type": "markdown",
   "metadata": {},
   "source": [
    "### Q7. What is correlation and covariance in statistics?"
   ]
  },
  {
   "cell_type": "code",
   "execution_count": null,
   "metadata": {},
   "outputs": [],
   "source": []
  },
  {
   "cell_type": "markdown",
   "metadata": {},
   "source": [
    "<details>\n",
    "<summary>Click here for the solution</summary>\n",
    "Covariance and Correlation are two mathematical concepts; these two approaches are widely used in\n",
    "statistics. Both Correlation and Covariance establish the relationship and also measure the dependency\n",
    "between two random variables. Though the work is similar between these two in mathematical terms, they\n",
    "are different from each other.\n",
    "\n",
    "<p align=\"center\">\n",
    "  <img src=\"https://raw.githubusercontent.com/rasbot/data-science-interview-questions/master/Images/q7.PNG\" width=\"350\" height=\"auto\"/>\n",
    "</p>\n",
    "\n",
    "__Correlation:__ Correlation is considered or described as the best technique for measuring and also for estimating the\n",
    "quantitative relationship between two variables. Correlation measures how strongly two variables are\n",
    "related.\n",
    "\n",
    "__Covariance:__ In covariance two items vary together and it’s a measure that indicates the extent to which two\n",
    "random variables change in cycle. It is a statistical term; it explains the systematic relation between a pair of\n",
    "random variables, wherein changes in one variable reciprocal by a corresponding change in another\n",
    "variable.\n",
    "</details>"
   ]
  },
  {
   "cell_type": "markdown",
   "metadata": {},
   "source": [
    "### Q8. What is the difference between Point Estimates and Confidence Interval?"
   ]
  },
  {
   "cell_type": "code",
   "execution_count": null,
   "metadata": {},
   "outputs": [],
   "source": []
  },
  {
   "cell_type": "markdown",
   "metadata": {},
   "source": [
    "<details>\n",
    "<summary>Click here for the solution</summary>\n",
    "Point Estimation gives us a particular value as an estimate of a population parameter. Method of Moments\n",
    "and Maximum Likelihood estimator methods are used to derive Point Estimators for population parameters.\n",
    "A confidence interval gives us a range of values which is likely to contain the population parameter. The\n",
    "confidence interval is generally preferred, as it tells us how likely this interval is to contain the population\n",
    "parameter. This likeliness or probability is called Confidence Level or Confidence coefficient and represented\n",
    "by 1 — alpha, where alpha is the level of significance.\n",
    "</details>"
   ]
  },
  {
   "cell_type": "markdown",
   "metadata": {},
   "source": [
    "### Q9. What is the goal of A/B Testing?"
   ]
  },
  {
   "cell_type": "code",
   "execution_count": null,
   "metadata": {},
   "outputs": [],
   "source": []
  },
  {
   "cell_type": "markdown",
   "metadata": {},
   "source": [
    "<details>\n",
    "<summary>Click here for the solution</summary>\n",
    "It is a hypothesis testing for a randomized experiment with two variables A and B.\n",
    "The goal of A/B Testing is to identify any changes to the web page to maximize or increase the outcome of\n",
    "interest. A/B testing is a fantastic method for figuring out the best online promotional and marketing strategies\n",
    "for your business. It can be used to test everything from website copy to sales emails to search ads.\n",
    "An example of this could be identifying the click-through rate for a banner ad.\n",
    "</details>"
   ]
  },
  {
   "cell_type": "markdown",
   "metadata": {},
   "source": [
    "### Q10. What is p-value?"
   ]
  },
  {
   "cell_type": "code",
   "execution_count": null,
   "metadata": {},
   "outputs": [],
   "source": []
  },
  {
   "cell_type": "markdown",
   "metadata": {},
   "source": [
    "<details>\n",
    "<summary>Click here for the solution</summary>\n",
    "When you perform a hypothesis test in statistics, a p-value can help you determine the strength of your\n",
    "results. p-value is a number between 0 and 1. Based on the value it will denote the strength of the results.\n",
    "The claim which is on trial is called the Null Hypothesis.\n",
    "Low p-value (≤ 0.05) indicates strength against the null hypothesis which means we can reject the null\n",
    "Hypothesis. High p-value (≥ 0.05) indicates strength for the null hypothesis which means we can accept the\n",
    "null Hypothesis p-value of 0.05 indicates the Hypothesis could go either way. To put it in another way,\n",
    "High P values: your data are likely with a true null. Low P values: your data are unlikely with a true null.\n",
    "Q11. In any 15-minute interval, there is a 20% probability that you will see at least one shooting star.\n",
    "What is the probability that you see at least one shooting star in the period of an hour?\n",
    "Probability of not seeing any shooting star in 15 minutes is\n",
    "= 1 – P( Seeing one shooting star )\n",
    "= 1 – 0.2 = 0.8\n",
    "Probability of not seeing any shooting star in the period of one hour\n",
    "= (0.8) ^ 4 = 0.4096\n",
    "Probability of seeing at least one shooting star in the one hour\n",
    "= 1 – P( Not seeing any star )\n",
    "= 1 – 0.4096 = 0.5904\n",
    "</details>"
   ]
  },
  {
   "cell_type": "markdown",
   "metadata": {},
   "source": [
    "### Q12. How can you generate a random number between 1 – 7 with only a die?"
   ]
  },
  {
   "cell_type": "code",
   "execution_count": null,
   "metadata": {},
   "outputs": [],
   "source": []
  },
  {
   "cell_type": "markdown",
   "metadata": {},
   "source": [
    "<details>\n",
    "<summary>Click here for the solution</summary>\n",
    "• Any die has six sides from 1-6. There is no way to get seven equal outcomes from a single rolling of\n",
    "a die. If we roll the die twice and consider the event of two rolls, we now have 36 different outcomes.\n",
    "• To get our 7 equal outcomes we have to reduce this 36 to a number divisible by 7. We can thus\n",
    "consider only 35 outcomes and exclude the other one.\n",
    "• A simple scenario can be to exclude the combination (6,6), i.e., to roll the die again if 6 appears twice.\n",
    "• All the remaining combinations from (1,1) till (6,5) can be divided into 7 parts of 5 each. This way all\n",
    "the seven sets of outcomes are equally likely.\n",
    "</details>"
   ]
  },
  {
   "cell_type": "markdown",
   "metadata": {},
   "source": [
    "### Q13. A certain couple tells you that they have two children, at least one of which is a girl. What is the probability that they have two girls?"
   ]
  },
  {
   "cell_type": "code",
   "execution_count": null,
   "metadata": {},
   "outputs": [],
   "source": []
  },
  {
   "cell_type": "markdown",
   "metadata": {},
   "source": [
    "<details>\n",
    "<summary>Click here for the solution</summary>\n",
    "In the case of two children, there are 4 equally likely possibilities\n",
    "BB, BG, GB and GG;\n",
    "where B = Boy and G = Girl and the first letter denotes the first child.\n",
    "From the question, we can exclude the first case of BB. Thus from the remaining 3 possibilities\n",
    "of BG, GB & BB, we have to find the probability of the case with two girls.\n",
    "Thus, P(Having two girls given one girl) = 1 / 3\n",
    "</details>"
   ]
  },
  {
   "cell_type": "markdown",
   "metadata": {},
   "source": [
    "### Q14. A jar has 1000 coins, of which 999 are fair and 1 is double headed. Pick a coin at random, and toss it 10 times. Given that you see 10 heads, what is the probability that the next toss of that coin is also a head?"
   ]
  },
  {
   "cell_type": "markdown",
   "metadata": {},
   "source": [
    "<details>\n",
    "<summary>Click here for the solution</summary>\n",
    "There are two ways of choosing the coin. One is to pick a fair coin and the other is to pick the one with two\n",
    "heads.\n",
    "    \n",
    "Probability of selecting fair coin = 999/1000 = 0.999\n",
    "    \n",
    "Probability of selecting unfair coin = 1/1000 = 0.001\n",
    "    \n",
    "Selecting 10 heads in a row = Selecting fair coin * Getting 10 heads + Selecting an unfair coin\n",
    "P (A) = 0.999 * (1/2)^5 = 0.999 * (1/1024) = 0.000976\n",
    "P (B) = 0.001 * 1 = 0.001\n",
    "P( A / A + B ) = 0.000976 / (0.000976 + 0.001) = 0.4939\n",
    "P( B / A + B ) = 0.001 / 0.001976 = 0.5061\n",
    "    \n",
    "Probability of selecting another head = P(A/A+B) * 0.5 + P(B/A+B) * 1 = 0.4939 * 0.5 + 0.5061 = 0.7531\n",
    "</details>"
   ]
  },
  {
   "cell_type": "markdown",
   "metadata": {},
   "source": [
    "### Q15. What do you understand by statistical power of sensitivity and how do you calculate it?"
   ]
  },
  {
   "cell_type": "code",
   "execution_count": null,
   "metadata": {},
   "outputs": [],
   "source": []
  },
  {
   "cell_type": "markdown",
   "metadata": {},
   "source": [
    "<details>\n",
    "<summary>Click here for the solution</summary>\n",
    "Sensitivity is commonly used to validate the accuracy of a classifier (Logistic, SVM, Random Forest etc.).\n",
    "Sensitivity is nothing but “Predicted True events/ Total events”. True events here are the events which were\n",
    "true and model also predicted them as true.\n",
    "Calculation of seasonality is pretty straightforward.\n",
    "Seasonality = ( True Positives ) / ( Positives in Actual Dependent Variable )\n",
    "</details>"
   ]
  },
  {
   "cell_type": "markdown",
   "metadata": {},
   "source": [
    "### Q16. Why Is Re-sampling Done?"
   ]
  },
  {
   "cell_type": "code",
   "execution_count": null,
   "metadata": {},
   "outputs": [],
   "source": []
  },
  {
   "cell_type": "markdown",
   "metadata": {},
   "source": [
    "<details>\n",
    "<summary>Click here for the solution</summary>\n",
    "Resampling is done in any of these cases:\n",
    "• Estimating the accuracy of sample statistics by using subsets of accessible data or drawing randomly\n",
    "with replacement from a set of data points\n",
    "• Substituting labels on data points when performing significance tests\n",
    "• Validating models by using random subsets (bootstrapping, cross-validation)\n",
    "</details>"
   ]
  },
  {
   "cell_type": "markdown",
   "metadata": {},
   "source": [
    "### Q17. What are the differences between over-fitting and under-fitting?"
   ]
  },
  {
   "cell_type": "code",
   "execution_count": null,
   "metadata": {},
   "outputs": [],
   "source": []
  },
  {
   "cell_type": "markdown",
   "metadata": {},
   "source": [
    "<details>\n",
    "<summary>Click here for the solution</summary>\n",
    "In statistics and machine learning, one of the most common tasks is to fit a model to a set of training data,\n",
    "so as to be able to make reliable predictions on general untrained data.\n",
    "    \n",
    "<p align=\"center\">\n",
    "  <img src=\"https://raw.githubusercontent.com/rasbot/data-science-interview-questions/master/Images/q17.PNG\" width=\"450\" height=\"auto\"/>\n",
    "</p>\n",
    "\n",
    "In __overfitting__, a statistical model describes random error or noise instead of the underlying relationship.\n",
    "Overfitting occurs when a model is excessively complex, such as having too many parameters relative to\n",
    "the number of observations. A model that has been overfitted, has poor predictive performance, as it\n",
    "overreacts to minor fluctuations in the training data.\n",
    "    \n",
    "__Underfitting__ occurs when a statistical model or machine learning algorithm cannot capture the underlying\n",
    "trend of the data. Underfitting would occur, for example, when fitting a linear model to non-linear data. Such\n",
    "a model too would have poor predictive performance.\n",
    "</details>"
   ]
  },
  {
   "cell_type": "markdown",
   "metadata": {},
   "source": [
    "### Q18. How to combat Overfitting and Underfitting?"
   ]
  },
  {
   "cell_type": "code",
   "execution_count": null,
   "metadata": {},
   "outputs": [],
   "source": []
  },
  {
   "cell_type": "markdown",
   "metadata": {},
   "source": [
    "<details>\n",
    "<summary>Click here for the solution</summary>\n",
    "To combat overfitting and underfitting, you can resample the data to estimate the model accuracy (k-fold\n",
    "cross-validation) and by having a validation dataset to evaluate the model.\n",
    "</details>"
   ]
  },
  {
   "cell_type": "markdown",
   "metadata": {},
   "source": [
    "### Q19. What is regularisation? Why is it useful?"
   ]
  },
  {
   "cell_type": "code",
   "execution_count": null,
   "metadata": {},
   "outputs": [],
   "source": []
  },
  {
   "cell_type": "markdown",
   "metadata": {},
   "source": [
    "<details>\n",
    "<summary>Click here for the solution</summary>\n",
    "Data Scientist Masters Program\n",
    "Explore Curriculum\n",
    "Regularisation is the process of adding tuning parameter to a model to induce smoothness in order to prevent\n",
    "overfitting. This is most often done by adding a constant multiple to an existing weight vector. This constant\n",
    "is often the L1(Lasso) or L2(ridge). The model predictions should then minimize the loss function calculated\n",
    "on the regularized training set.\n",
    "</details>"
   ]
  },
  {
   "cell_type": "markdown",
   "metadata": {},
   "source": [
    "### Q20. What Is the Law of Large Numbers?"
   ]
  },
  {
   "cell_type": "code",
   "execution_count": null,
   "metadata": {},
   "outputs": [],
   "source": []
  },
  {
   "cell_type": "markdown",
   "metadata": {},
   "source": [
    "<details>\n",
    "<summary>Click here for the solution</summary>\n",
    "It is a theorem that describes the result of performing the same experiment a large number of times. This\n",
    "theorem forms the basis of frequency-style thinking. It says that the sample means, the sample variance\n",
    "and the sample standard deviation converge to what they are trying to estimate.\n",
    "</details>"
   ]
  },
  {
   "cell_type": "markdown",
   "metadata": {},
   "source": [
    "### Q21. What Are Confounding Variables?"
   ]
  },
  {
   "cell_type": "code",
   "execution_count": null,
   "metadata": {},
   "outputs": [],
   "source": []
  },
  {
   "cell_type": "markdown",
   "metadata": {},
   "source": [
    "<details>\n",
    "<summary>Click here for the solution</summary>\n",
    "In statistics, a confounder is a variable that influences both the dependent variable and independent variable.\n",
    "For example, if you are researching whether a lack of exercise leads to weight gain,\n",
    "lack of exercise = independent variable\n",
    "weight gain = dependent variable.\n",
    "A confounding variable here would be any other variable that affects both of these variables, such as the age\n",
    "of the subject.\n",
    "</details>"
   ]
  },
  {
   "cell_type": "markdown",
   "metadata": {},
   "source": [
    "### Q22. What Are the Types of Biases That Can Occur During Sampling?"
   ]
  },
  {
   "cell_type": "code",
   "execution_count": null,
   "metadata": {},
   "outputs": [],
   "source": []
  },
  {
   "cell_type": "markdown",
   "metadata": {},
   "source": [
    "<details>\n",
    "<summary>Click here for the solution</summary>\n",
    "• Selection bias\n",
    "• Under coverage bias\n",
    "• Survivorship bias\n",
    "</details>"
   ]
  },
  {
   "cell_type": "markdown",
   "metadata": {},
   "source": [
    "### Q23. What is Survivorship Bias?"
   ]
  },
  {
   "cell_type": "code",
   "execution_count": null,
   "metadata": {},
   "outputs": [],
   "source": []
  },
  {
   "cell_type": "markdown",
   "metadata": {},
   "source": [
    "<details>\n",
    "<summary>Click here for the solution</summary>\n",
    "It is the logical error of focusing aspects that support surviving some process and casually overlooking those\n",
    "that did not work because of their lack of prominence. This can lead to wrong conclusions in numerous\n",
    "different means.\n",
    "</details>"
   ]
  },
  {
   "cell_type": "markdown",
   "metadata": {},
   "source": [
    "### Q24. What is selection Bias?"
   ]
  },
  {
   "cell_type": "code",
   "execution_count": null,
   "metadata": {},
   "outputs": [],
   "source": []
  },
  {
   "cell_type": "markdown",
   "metadata": {},
   "source": [
    "<details>\n",
    "<summary>Click here for the solution</summary>\n",
    "Selection bias occurs when the sample obtained is not representative of the population intended to be\n",
    "analysed.\n",
    "</details>"
   ]
  },
  {
   "cell_type": "markdown",
   "metadata": {},
   "source": [
    "### Q25. Explain how a ROC curve works?"
   ]
  },
  {
   "cell_type": "code",
   "execution_count": null,
   "metadata": {},
   "outputs": [],
   "source": []
  },
  {
   "attachments": {},
   "cell_type": "markdown",
   "metadata": {},
   "source": [
    "<details>\n",
    "<summary>Click here for the solution</summary>\n",
    "The ROC curve is a graphical representation of the contrast between true positive rates and false-positive\n",
    "rates at various thresholds. It is often used as a proxy for the trade-off between the sensitivity(true positive\n",
    "rate) and false-positive rate.\n",
    "    \n",
    "<p align=\"center\">\n",
    "  <img src=\"https://raw.githubusercontent.com/rasbot/data-science-interview-questions/master/Images/p25.PNG\" width=\"450\" height=\"auto\"/>\n",
    "</p>\n",
    "    \n",
    "</details>"
   ]
  },
  {
   "cell_type": "markdown",
   "metadata": {},
   "source": [
    "### Q26. What is TF/IDF vectorization?"
   ]
  },
  {
   "cell_type": "code",
   "execution_count": null,
   "metadata": {},
   "outputs": [],
   "source": []
  },
  {
   "cell_type": "markdown",
   "metadata": {},
   "source": [
    "<details>\n",
    "<summary>Click here for the solution</summary>\n",
    "TF–IDF is short for term frequency-inverse document frequency, is a numerical statistic that is intended to\n",
    "reflect how important a word is to a document in a collection or corpus. It is often used as a weighting factor\n",
    "in information retrieval and text mining.\n",
    "The TF–IDF value increases proportionally to the number of times a word appears in the document but is\n",
    "offset by the frequency of the word in the corpus, which helps to adjust for the fact that some words appear\n",
    "more frequently in general.\n",
    "</details>"
   ]
  },
  {
   "cell_type": "markdown",
   "metadata": {},
   "source": [
    "### Q27. Why we generally use Softmax non-linearity function as last operation in-network?"
   ]
  },
  {
   "cell_type": "code",
   "execution_count": null,
   "metadata": {},
   "outputs": [],
   "source": []
  },
  {
   "cell_type": "markdown",
   "metadata": {},
   "source": [
    "<details>\n",
    "<summary>Click here for the solution</summary>\n",
    "It is because it takes in a vector of real numbers and returns a probability distribution. Its definition is as\n",
    "follows. Let x be a vector of real numbers (positive, negative, whatever, there are no constraints).\n",
    "Then the i’th component of Softmax(x) is —\n",
    "    \n",
    "<p align=\"center\">\n",
    "  <img src=\"https://raw.githubusercontent.com/rasbot/data-science-interview-questions/master/Images/p27.PNG\" width=\"450\" height=\"auto\"/>\n",
    "</p>\n",
    "    \n",
    "It should be clear that the output is a probability distribution: each element is non-negative and the sum over\n",
    "all components is 1.\n",
    "</details>"
   ]
  },
  {
   "cell_type": "markdown",
   "metadata": {},
   "source": [
    "# DATA ANALYSIS INTERVIEW QUESTIONS"
   ]
  },
  {
   "cell_type": "markdown",
   "metadata": {},
   "source": [
    "### Q28. Python or R – Which one would you prefer for text analytics?"
   ]
  },
  {
   "cell_type": "code",
   "execution_count": null,
   "metadata": {},
   "outputs": [],
   "source": []
  },
  {
   "cell_type": "markdown",
   "metadata": {},
   "source": [
    "<details>\n",
    "<summary>Click here for the solution</summary>\n",
    "We will prefer Python because of the following reasons:\n",
    "• Python would be the best option because it has Pandas library that provides easy to use data\n",
    "structures and high-performance data analysis tools.\n",
    "• R is more suitable for machine learning than just text analysis.\n",
    "• Python performs faster for all types of text analytics.\n",
    "</details>"
   ]
  },
  {
   "cell_type": "markdown",
   "metadata": {},
   "source": [
    "### Q29. How does data cleaning plays a vital role in the analysis?"
   ]
  },
  {
   "cell_type": "code",
   "execution_count": null,
   "metadata": {},
   "outputs": [],
   "source": []
  },
  {
   "cell_type": "markdown",
   "metadata": {},
   "source": [
    "<details>\n",
    "<summary>Click here for the solution</summary>\n",
    "Data cleaning can help in analysis because:\n",
    "• Cleaning data from multiple sources helps to transform it into a format that data analysts or data\n",
    "scientists can work with.\n",
    "• Data Cleaning helps to increase the accuracy of the model in machine learning.\n",
    "• It is a cumbersome process because as the number of data sources increases, the time taken to\n",
    "clean the data increases exponentially due to the number of sources and the volume of data\n",
    "generated by these sources.\n",
    "• It might take up to 80% of the time for just cleaning data making it a critical part of the analysis task.\n",
    "</details>"
   ]
  },
  {
   "cell_type": "markdown",
   "metadata": {},
   "source": [
    "### Q30. Differentiate between univariate, bivariate and multivariate analysis."
   ]
  },
  {
   "cell_type": "code",
   "execution_count": null,
   "metadata": {},
   "outputs": [],
   "source": []
  },
  {
   "cell_type": "markdown",
   "metadata": {},
   "source": [
    "<details>\n",
    "<summary>Click here for the solution</summary>\n",
    "Univariate analyses are descriptive statistical analysis techniques which can be differentiated based on the\n",
    "number of variables involved at a given point of time. For example, the pie charts of sales based on territory\n",
    "involve only one variable and can the analysis can be referred to as univariate analysis.\n",
    "The bivariate analysis attempts to understand the difference between two variables at a time as in a\n",
    "scatterplot. For example, analyzing the volume of sale and spending can be considered as an example of\n",
    "bivariate analysis.\n",
    "Multivariate analysis deals with the study of more than two variables to understand the effect of variables\n",
    "on the responses.\n",
    "</details>"
   ]
  },
  {
   "cell_type": "markdown",
   "metadata": {},
   "source": [
    "### Q31. Explain Star Schema."
   ]
  },
  {
   "cell_type": "code",
   "execution_count": null,
   "metadata": {},
   "outputs": [],
   "source": []
  },
  {
   "cell_type": "markdown",
   "metadata": {},
   "source": [
    "<details>\n",
    "<summary>Click here for the solution</summary>\n",
    "It is a traditional database schema with a central table. Satellite tables map IDs to physical names or\n",
    "descriptions and can be connected to the central fact table using the ID fields; these tables are known as\n",
    "lookup tables and are principally useful in real-time applications, as they save a lot of memory. Sometimes\n",
    "star schemas involve several layers of summarization to recover information faster.\n",
    "</details>"
   ]
  },
  {
   "cell_type": "markdown",
   "metadata": {},
   "source": [
    "### Q32. What is Cluster Sampling?"
   ]
  },
  {
   "cell_type": "code",
   "execution_count": null,
   "metadata": {},
   "outputs": [],
   "source": []
  },
  {
   "cell_type": "markdown",
   "metadata": {},
   "source": [
    "<details>\n",
    "<summary>Click here for the solution</summary>\n",
    "Cluster sampling is a technique used when it becomes difficult to study the target population spread across\n",
    "a wide area and simple random sampling cannot be applied. Cluster Sample is a probability sample where\n",
    "each sampling unit is a collection or cluster of elements.\n",
    "For eg., A researcher wants to survey the academic performance of high school students in Japan. He can\n",
    "divide the entire population of Japan into different clusters (cities). Then the researcher selects a number of\n",
    "clusters depending on his research through simple or systematic random sampling.\n",
    "Let’s continue our Data Science Interview Questions blog with some more statistics questions.\n",
    "</details>"
   ]
  },
  {
   "cell_type": "markdown",
   "metadata": {},
   "source": [
    "### Q33. What is Systematic Sampling?"
   ]
  },
  {
   "cell_type": "code",
   "execution_count": null,
   "metadata": {},
   "outputs": [],
   "source": []
  },
  {
   "cell_type": "markdown",
   "metadata": {},
   "source": [
    "<details>\n",
    "<summary>Click here for the solution</summary>\n",
    "Systematic sampling is a statistical technique where elements are selected from an ordered sampling frame.\n",
    "In systematic sampling, the list is progressed in a circular manner so once you reach the end of the list, it is\n",
    "progressed from the top again. The best example of systematic sampling is equal probability method.\n",
    "</details>"
   ]
  },
  {
   "cell_type": "markdown",
   "metadata": {},
   "source": [
    "### Q34. What are Eigenvectors and Eigenvalues?"
   ]
  },
  {
   "cell_type": "code",
   "execution_count": null,
   "metadata": {},
   "outputs": [],
   "source": []
  },
  {
   "cell_type": "markdown",
   "metadata": {},
   "source": [
    "<details>\n",
    "<summary>Click here for the solution</summary>\n",
    "Eigenvectors are used for understanding linear transformations. In data analysis, we usually calculate the\n",
    "eigenvectors for a correlation or covariance matrix. Eigenvectors are the directions along which a particular\n",
    "linear transformation acts by flipping, compressing or stretching.\n",
    "Eigenvalue can be referred to as the strength of the transformation in the direction of eigenvector or the\n",
    "factor by which the compression occurs.\n",
    "</details>"
   ]
  },
  {
   "cell_type": "markdown",
   "metadata": {},
   "source": [
    "### Q35. Can you cite some examples where a false positive is important than a false negative?"
   ]
  },
  {
   "cell_type": "code",
   "execution_count": null,
   "metadata": {},
   "outputs": [],
   "source": []
  },
  {
   "cell_type": "markdown",
   "metadata": {},
   "source": [
    "<details>\n",
    "<summary>Click here for the solution</summary>\n",
    "Let us first understand what false positives and false negatives are.\n",
    "    \n",
    "• False Positives are the cases where you wrongly classified a non-event as an event a.k.a Type I\n",
    "error.\n",
    "    \n",
    "• False Negatives are the cases where you wrongly classify events as non-events, a.k.a Type II error.\n",
    "    \n",
    "__Example 1:__ In the medical field, assume you have to give chemotherapy to patients. Assume a patient\n",
    "comes to that hospital and he is tested positive for cancer, based on the lab prediction but he actually doesn’t\n",
    "have cancer. This is a case of false positive. Here it is of utmost danger to start chemotherapy on this patient\n",
    "when he actually does not have cancer. In the absence of cancerous cell, chemotherapy will do certain\n",
    "damage to his normal healthy cells and might lead to severe diseases, even cancer.\n",
    "    \n",
    "__Example 2:__ Let’s say an e-commerce company decided to give \\\\$1000 Gift voucher to the customers whom\n",
    "they assume to purchase at least \\\\$10,000 worth of items. They send free voucher mail directly to 100\n",
    "customers without any minimum purchase condition because they assume to make at least 20% profit on\n",
    "sold items above \\\\$10,000. Now the issue is if we send the \\\\$1000 gift vouchers to customers who have not\n",
    "actually purchased anything but are marked as having made \\\\$10,000 worth of purchase.\n",
    "</details>"
   ]
  },
  {
   "cell_type": "markdown",
   "metadata": {},
   "source": [
    "### Q36. Can you cite some examples where a false negative important than a false positive?"
   ]
  },
  {
   "cell_type": "code",
   "execution_count": null,
   "metadata": {},
   "outputs": [],
   "source": []
  },
  {
   "cell_type": "markdown",
   "metadata": {},
   "source": [
    "<details>\n",
    "<summary>Click here for the solution</summary>\n",
    "__Example 1:__ Assume there is an airport ‘A’ which has received high-security threats and based on certain\n",
    "characteristics they identify whether a particular passenger can be a threat or not. Due to a shortage of staff,\n",
    "they decide to scan passengers being predicted as risk positives by their predictive model. What will happen\n",
    "if a true threat customer is being flagged as non-threat by airport model?\n",
    "    \n",
    "__Example 2:__ What if Jury or judge decides to make a criminal go free?\n",
    "    \n",
    "__Example 3:__ What if you rejected to marry a very good person based on your predictive model and you\n",
    "happen to meet him/her after a few years and realize that you had a false negative?\n",
    "</details>"
   ]
  },
  {
   "cell_type": "markdown",
   "metadata": {},
   "source": [
    "### Q37. Can you cite some examples where both false positive and false negatives are equally important?"
   ]
  },
  {
   "cell_type": "code",
   "execution_count": null,
   "metadata": {},
   "outputs": [],
   "source": []
  },
  {
   "cell_type": "markdown",
   "metadata": {},
   "source": [
    "<details>\n",
    "<summary>Click here for the solution</summary>\n",
    "In the Banking industry giving loans is the primary source of making money but at the same time if your\n",
    "repayment rate is not good you will not make any profit, rather you will risk huge losses.\n",
    "Banks don’t want to lose good customers and at the same point in time, they don’t want to acquire bad\n",
    "customers. In this scenario, both the false positives and false negatives become very important to measure.\n",
    "Q38. Can you explain the difference between a Validation Set and a Test Set?\n",
    "A Validation set can be considered as a part of the training set as it is used for parameter selection and to\n",
    "avoid overfitting of the model being built.\n",
    "On the other hand, a Test Set is used for testing or evaluating the performance of a trained machine learning\n",
    "model.\n",
    "In simple terms, the differences can be summarized as; training set is to fit the parameters i.e. weights and\n",
    "test set is to assess the performance of the model i.e. evaluating the predictive power and generalization.\n",
    "</details>"
   ]
  },
  {
   "cell_type": "markdown",
   "metadata": {},
   "source": [
    "### Q39. Explain cross-validation."
   ]
  },
  {
   "cell_type": "code",
   "execution_count": null,
   "metadata": {},
   "outputs": [],
   "source": []
  },
  {
   "cell_type": "markdown",
   "metadata": {},
   "source": [
    "<details>\n",
    "<summary>Click here for the solution</summary>\n",
    "Cross-validation is a model validation technique for evaluating how the outcomes of statistical analysis\n",
    "will generalize to an independent dataset. Mainly used in backgrounds where the objective is forecast and\n",
    "one wants to estimate how accurately a model will accomplish in practice.\n",
    "The goal of cross-validation is to term a data set to test the model in the training phase (i.e. validation data\n",
    "set) in order to limit problems like overfitting and get an insight on how the model will generalize to an\n",
    "independent data set.\n",
    "</details>"
   ]
  },
  {
   "cell_type": "markdown",
   "metadata": {},
   "source": [
    "# MACHINE LEARNING INTERVIEW QUESTIONS"
   ]
  },
  {
   "cell_type": "markdown",
   "metadata": {},
   "source": []
  }
 ],
 "metadata": {
  "kernelspec": {
   "display_name": "Python 3",
   "language": "python",
   "name": "python3"
  },
  "language_info": {
   "codemirror_mode": {
    "name": "ipython",
    "version": 3
   },
   "file_extension": ".py",
   "mimetype": "text/x-python",
   "name": "python",
   "nbconvert_exporter": "python",
   "pygments_lexer": "ipython3",
   "version": "3.6.7"
  }
 },
 "nbformat": 4,
 "nbformat_minor": 2
}
